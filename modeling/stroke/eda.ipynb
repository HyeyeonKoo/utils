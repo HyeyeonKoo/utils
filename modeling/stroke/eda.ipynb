{
 "metadata": {
  "language_info": {
   "codemirror_mode": {
    "name": "ipython",
    "version": 3
   },
   "file_extension": ".py",
   "mimetype": "text/x-python",
   "name": "python",
   "nbconvert_exporter": "python",
   "pygments_lexer": "ipython3",
   "version": "3.6.13-final"
  },
  "orig_nbformat": 2,
  "kernelspec": {
   "name": "python3",
   "display_name": "Python 3",
   "language": "python"
  }
 },
 "nbformat": 4,
 "nbformat_minor": 2,
 "cells": [
  {
   "source": [
    "# 데이터 읽기"
   ],
   "cell_type": "markdown",
   "metadata": {}
  },
  {
   "cell_type": "code",
   "execution_count": 6,
   "metadata": {},
   "outputs": [],
   "source": [
    "import pandas as pd"
   ]
  },
  {
   "cell_type": "code",
   "execution_count": 7,
   "metadata": {},
   "outputs": [
    {
     "output_type": "execute_result",
     "data": {
      "text/plain": [
       "      id  gender   age  hypertension  heart_disease ever_married  \\\n",
       "0   9046    Male  67.0             0              1          Yes   \n",
       "1  51676  Female  61.0             0              0          Yes   \n",
       "2  31112    Male  80.0             0              1          Yes   \n",
       "3  60182  Female  49.0             0              0          Yes   \n",
       "4   1665  Female  79.0             1              0          Yes   \n",
       "\n",
       "       work_type Residence_type  avg_glucose_level   bmi   smoking_status  \\\n",
       "0        Private          Urban             228.69  36.6  formerly smoked   \n",
       "1  Self-employed          Rural             202.21   NaN     never smoked   \n",
       "2        Private          Rural             105.92  32.5     never smoked   \n",
       "3        Private          Urban             171.23  34.4           smokes   \n",
       "4  Self-employed          Rural             174.12  24.0     never smoked   \n",
       "\n",
       "   stroke  \n",
       "0       1  \n",
       "1       1  \n",
       "2       1  \n",
       "3       1  \n",
       "4       1  "
      ],
      "text/html": "<div>\n<style scoped>\n    .dataframe tbody tr th:only-of-type {\n        vertical-align: middle;\n    }\n\n    .dataframe tbody tr th {\n        vertical-align: top;\n    }\n\n    .dataframe thead th {\n        text-align: right;\n    }\n</style>\n<table border=\"1\" class=\"dataframe\">\n  <thead>\n    <tr style=\"text-align: right;\">\n      <th></th>\n      <th>id</th>\n      <th>gender</th>\n      <th>age</th>\n      <th>hypertension</th>\n      <th>heart_disease</th>\n      <th>ever_married</th>\n      <th>work_type</th>\n      <th>Residence_type</th>\n      <th>avg_glucose_level</th>\n      <th>bmi</th>\n      <th>smoking_status</th>\n      <th>stroke</th>\n    </tr>\n  </thead>\n  <tbody>\n    <tr>\n      <th>0</th>\n      <td>9046</td>\n      <td>Male</td>\n      <td>67.0</td>\n      <td>0</td>\n      <td>1</td>\n      <td>Yes</td>\n      <td>Private</td>\n      <td>Urban</td>\n      <td>228.69</td>\n      <td>36.6</td>\n      <td>formerly smoked</td>\n      <td>1</td>\n    </tr>\n    <tr>\n      <th>1</th>\n      <td>51676</td>\n      <td>Female</td>\n      <td>61.0</td>\n      <td>0</td>\n      <td>0</td>\n      <td>Yes</td>\n      <td>Self-employed</td>\n      <td>Rural</td>\n      <td>202.21</td>\n      <td>NaN</td>\n      <td>never smoked</td>\n      <td>1</td>\n    </tr>\n    <tr>\n      <th>2</th>\n      <td>31112</td>\n      <td>Male</td>\n      <td>80.0</td>\n      <td>0</td>\n      <td>1</td>\n      <td>Yes</td>\n      <td>Private</td>\n      <td>Rural</td>\n      <td>105.92</td>\n      <td>32.5</td>\n      <td>never smoked</td>\n      <td>1</td>\n    </tr>\n    <tr>\n      <th>3</th>\n      <td>60182</td>\n      <td>Female</td>\n      <td>49.0</td>\n      <td>0</td>\n      <td>0</td>\n      <td>Yes</td>\n      <td>Private</td>\n      <td>Urban</td>\n      <td>171.23</td>\n      <td>34.4</td>\n      <td>smokes</td>\n      <td>1</td>\n    </tr>\n    <tr>\n      <th>4</th>\n      <td>1665</td>\n      <td>Female</td>\n      <td>79.0</td>\n      <td>1</td>\n      <td>0</td>\n      <td>Yes</td>\n      <td>Self-employed</td>\n      <td>Rural</td>\n      <td>174.12</td>\n      <td>24.0</td>\n      <td>never smoked</td>\n      <td>1</td>\n    </tr>\n  </tbody>\n</table>\n</div>"
     },
     "metadata": {},
     "execution_count": 7
    }
   ],
   "source": [
    "data = pd.read_csv(\"data/healthcare-dataset-stroke-data.csv\")\n",
    "data.head()"
   ]
  },
  {
   "cell_type": "code",
   "execution_count": 8,
   "metadata": {},
   "outputs": [
    {
     "output_type": "execute_result",
     "data": {
      "text/plain": [
       "5110"
      ]
     },
     "metadata": {},
     "execution_count": 8
    }
   ],
   "source": [
    "len(data)"
   ]
  },
  {
   "source": [
    "# 컬럼별 데이터"
   ],
   "cell_type": "markdown",
   "metadata": {}
  },
  {
   "cell_type": "code",
   "execution_count": 13,
   "metadata": {},
   "outputs": [],
   "source": [
    "import matplotlib.pyplot as plt"
   ]
  },
  {
   "source": [
    "## gender"
   ],
   "cell_type": "markdown",
   "metadata": {}
  },
  {
   "cell_type": "code",
   "execution_count": 55,
   "metadata": {},
   "outputs": [
    {
     "output_type": "execute_result",
     "data": {
      "text/plain": [
       "0"
      ]
     },
     "metadata": {},
     "execution_count": 55
    }
   ],
   "source": [
    "data[\"gender\"].isna().sum()"
   ]
  },
  {
   "cell_type": "code",
   "execution_count": 12,
   "metadata": {},
   "outputs": [
    {
     "output_type": "execute_result",
     "data": {
      "text/plain": [
       "Female    2994\n",
       "Male      2115\n",
       "Other        1\n",
       "Name: gender, dtype: int64"
      ]
     },
     "metadata": {},
     "execution_count": 12
    }
   ],
   "source": [
    "gender_dist = data[\"gender\"].value_counts()\n",
    "gender_dist"
   ]
  },
  {
   "cell_type": "code",
   "execution_count": 24,
   "metadata": {},
   "outputs": [],
   "source": [
    "x = gender_dist.index.tolist()\n",
    "y = gender_dist.tolist()\n",
    "x_percentage = [str(round(el/sum(y)*100, 2)) + \"%\" for el in y]"
   ]
  },
  {
   "cell_type": "code",
   "execution_count": 26,
   "metadata": {},
   "outputs": [
    {
     "output_type": "display_data",
     "data": {
      "text/plain": "<Figure size 432x288 with 1 Axes>",
      "image/svg+xml": "<?xml version=\"1.0\" encoding=\"utf-8\" standalone=\"no\"?>\n<!DOCTYPE svg PUBLIC \"-//W3C//DTD SVG 1.1//EN\"\n  \"http://www.w3.org/Graphics/SVG/1.1/DTD/svg11.dtd\">\n<!-- Created with matplotlib (https://matplotlib.org/) -->\n<svg height=\"248.518125pt\" version=\"1.1\" viewBox=\"0 0 381.65 248.518125\" width=\"381.65pt\" xmlns=\"http://www.w3.org/2000/svg\" xmlns:xlink=\"http://www.w3.org/1999/xlink\">\n <metadata>\n  <rdf:RDF xmlns:cc=\"http://creativecommons.org/ns#\" xmlns:dc=\"http://purl.org/dc/elements/1.1/\" xmlns:rdf=\"http://www.w3.org/1999/02/22-rdf-syntax-ns#\">\n   <cc:Work>\n    <dc:type rdf:resource=\"http://purl.org/dc/dcmitype/StillImage\"/>\n    <dc:date>2021-03-17T10:22:29.965936</dc:date>\n    <dc:format>image/svg+xml</dc:format>\n    <dc:creator>\n     <cc:Agent>\n      <dc:title>Matplotlib v3.3.4, https://matplotlib.org/</dc:title>\n     </cc:Agent>\n    </dc:creator>\n   </cc:Work>\n  </rdf:RDF>\n </metadata>\n <defs>\n  <style type=\"text/css\">*{stroke-linecap:butt;stroke-linejoin:round;}</style>\n </defs>\n <g id=\"figure_1\">\n  <g id=\"patch_1\">\n   <path d=\"M -0 248.518125 \nL 381.65 248.518125 \nL 381.65 0 \nL -0 0 \nz\n\" style=\"fill:none;\"/>\n  </g>\n  <g id=\"axes_1\">\n   <g id=\"patch_2\">\n    <path d=\"M 39.65 224.64 \nL 374.45 224.64 \nL 374.45 7.2 \nL 39.65 7.2 \nz\n\" style=\"fill:#ffffff;\"/>\n   </g>\n   <g id=\"patch_3\">\n    <path clip-path=\"url(#p8f6eb1fa2e)\" d=\"M 54.868182 224.64 \nL 141.829221 224.64 \nL 141.829221 17.554286 \nL 54.868182 17.554286 \nz\n\" style=\"fill:#1f77b4;\"/>\n   </g>\n   <g id=\"patch_4\">\n    <path clip-path=\"url(#p8f6eb1fa2e)\" d=\"M 163.569481 224.64 \nL 250.530519 224.64 \nL 250.530519 78.351995 \nL 163.569481 78.351995 \nz\n\" style=\"fill:#1f77b4;\"/>\n   </g>\n   <g id=\"patch_5\">\n    <path clip-path=\"url(#p8f6eb1fa2e)\" d=\"M 272.270779 224.64 \nL 359.231818 224.64 \nL 359.231818 224.570833 \nL 272.270779 224.570833 \nz\n\" style=\"fill:#1f77b4;\"/>\n   </g>\n   <g id=\"matplotlib.axis_1\">\n    <g id=\"xtick_1\">\n     <g id=\"line2d_1\">\n      <defs>\n       <path d=\"M 0 0 \nL 0 3.5 \n\" id=\"m6670715ecd\" style=\"stroke:#000000;stroke-width:0.8;\"/>\n      </defs>\n      <g>\n       <use style=\"stroke:#000000;stroke-width:0.8;\" x=\"98.348701\" xlink:href=\"#m6670715ecd\" y=\"224.64\"/>\n      </g>\n     </g>\n     <g id=\"text_1\">\n      <!-- Female -->\n      <g transform=\"translate(80.271358 239.238437)scale(0.1 -0.1)\">\n       <defs>\n        <path d=\"M 9.8125 72.90625 \nL 51.703125 72.90625 \nL 51.703125 64.59375 \nL 19.671875 64.59375 \nL 19.671875 43.109375 \nL 48.578125 43.109375 \nL 48.578125 34.8125 \nL 19.671875 34.8125 \nL 19.671875 0 \nL 9.8125 0 \nz\n\" id=\"DejaVuSans-70\"/>\n        <path d=\"M 56.203125 29.59375 \nL 56.203125 25.203125 \nL 14.890625 25.203125 \nQ 15.484375 15.921875 20.484375 11.0625 \nQ 25.484375 6.203125 34.421875 6.203125 \nQ 39.59375 6.203125 44.453125 7.46875 \nQ 49.3125 8.734375 54.109375 11.28125 \nL 54.109375 2.78125 \nQ 49.265625 0.734375 44.1875 -0.34375 \nQ 39.109375 -1.421875 33.890625 -1.421875 \nQ 20.796875 -1.421875 13.15625 6.1875 \nQ 5.515625 13.8125 5.515625 26.8125 \nQ 5.515625 40.234375 12.765625 48.109375 \nQ 20.015625 56 32.328125 56 \nQ 43.359375 56 49.78125 48.890625 \nQ 56.203125 41.796875 56.203125 29.59375 \nz\nM 47.21875 32.234375 \nQ 47.125 39.59375 43.09375 43.984375 \nQ 39.0625 48.390625 32.421875 48.390625 \nQ 24.90625 48.390625 20.390625 44.140625 \nQ 15.875 39.890625 15.1875 32.171875 \nz\n\" id=\"DejaVuSans-101\"/>\n        <path d=\"M 52 44.1875 \nQ 55.375 50.25 60.0625 53.125 \nQ 64.75 56 71.09375 56 \nQ 79.640625 56 84.28125 50.015625 \nQ 88.921875 44.046875 88.921875 33.015625 \nL 88.921875 0 \nL 79.890625 0 \nL 79.890625 32.71875 \nQ 79.890625 40.578125 77.09375 44.375 \nQ 74.3125 48.1875 68.609375 48.1875 \nQ 61.625 48.1875 57.5625 43.546875 \nQ 53.515625 38.921875 53.515625 30.90625 \nL 53.515625 0 \nL 44.484375 0 \nL 44.484375 32.71875 \nQ 44.484375 40.625 41.703125 44.40625 \nQ 38.921875 48.1875 33.109375 48.1875 \nQ 26.21875 48.1875 22.15625 43.53125 \nQ 18.109375 38.875 18.109375 30.90625 \nL 18.109375 0 \nL 9.078125 0 \nL 9.078125 54.6875 \nL 18.109375 54.6875 \nL 18.109375 46.1875 \nQ 21.1875 51.21875 25.484375 53.609375 \nQ 29.78125 56 35.6875 56 \nQ 41.65625 56 45.828125 52.96875 \nQ 50 49.953125 52 44.1875 \nz\n\" id=\"DejaVuSans-109\"/>\n        <path d=\"M 34.28125 27.484375 \nQ 23.390625 27.484375 19.1875 25 \nQ 14.984375 22.515625 14.984375 16.5 \nQ 14.984375 11.71875 18.140625 8.90625 \nQ 21.296875 6.109375 26.703125 6.109375 \nQ 34.1875 6.109375 38.703125 11.40625 \nQ 43.21875 16.703125 43.21875 25.484375 \nL 43.21875 27.484375 \nz\nM 52.203125 31.203125 \nL 52.203125 0 \nL 43.21875 0 \nL 43.21875 8.296875 \nQ 40.140625 3.328125 35.546875 0.953125 \nQ 30.953125 -1.421875 24.3125 -1.421875 \nQ 15.921875 -1.421875 10.953125 3.296875 \nQ 6 8.015625 6 15.921875 \nQ 6 25.140625 12.171875 29.828125 \nQ 18.359375 34.515625 30.609375 34.515625 \nL 43.21875 34.515625 \nL 43.21875 35.40625 \nQ 43.21875 41.609375 39.140625 45 \nQ 35.0625 48.390625 27.6875 48.390625 \nQ 23 48.390625 18.546875 47.265625 \nQ 14.109375 46.140625 10.015625 43.890625 \nL 10.015625 52.203125 \nQ 14.9375 54.109375 19.578125 55.046875 \nQ 24.21875 56 28.609375 56 \nQ 40.484375 56 46.34375 49.84375 \nQ 52.203125 43.703125 52.203125 31.203125 \nz\n\" id=\"DejaVuSans-97\"/>\n        <path d=\"M 9.421875 75.984375 \nL 18.40625 75.984375 \nL 18.40625 0 \nL 9.421875 0 \nz\n\" id=\"DejaVuSans-108\"/>\n       </defs>\n       <use xlink:href=\"#DejaVuSans-70\"/>\n       <use x=\"52.019531\" xlink:href=\"#DejaVuSans-101\"/>\n       <use x=\"113.542969\" xlink:href=\"#DejaVuSans-109\"/>\n       <use x=\"210.955078\" xlink:href=\"#DejaVuSans-97\"/>\n       <use x=\"272.234375\" xlink:href=\"#DejaVuSans-108\"/>\n       <use x=\"300.017578\" xlink:href=\"#DejaVuSans-101\"/>\n      </g>\n     </g>\n    </g>\n    <g id=\"xtick_2\">\n     <g id=\"line2d_2\">\n      <g>\n       <use style=\"stroke:#000000;stroke-width:0.8;\" x=\"207.05\" xlink:href=\"#m6670715ecd\" y=\"224.64\"/>\n      </g>\n     </g>\n     <g id=\"text_2\">\n      <!-- Male -->\n      <g transform=\"translate(195.20625 239.238437)scale(0.1 -0.1)\">\n       <defs>\n        <path d=\"M 9.8125 72.90625 \nL 24.515625 72.90625 \nL 43.109375 23.296875 \nL 61.8125 72.90625 \nL 76.515625 72.90625 \nL 76.515625 0 \nL 66.890625 0 \nL 66.890625 64.015625 \nL 48.09375 14.015625 \nL 38.1875 14.015625 \nL 19.390625 64.015625 \nL 19.390625 0 \nL 9.8125 0 \nz\n\" id=\"DejaVuSans-77\"/>\n       </defs>\n       <use xlink:href=\"#DejaVuSans-77\"/>\n       <use x=\"86.279297\" xlink:href=\"#DejaVuSans-97\"/>\n       <use x=\"147.558594\" xlink:href=\"#DejaVuSans-108\"/>\n       <use x=\"175.341797\" xlink:href=\"#DejaVuSans-101\"/>\n      </g>\n     </g>\n    </g>\n    <g id=\"xtick_3\">\n     <g id=\"line2d_3\">\n      <g>\n       <use style=\"stroke:#000000;stroke-width:0.8;\" x=\"315.751299\" xlink:href=\"#m6670715ecd\" y=\"224.64\"/>\n      </g>\n     </g>\n     <g id=\"text_3\">\n      <!-- Other -->\n      <g transform=\"translate(301.554424 239.238437)scale(0.1 -0.1)\">\n       <defs>\n        <path d=\"M 39.40625 66.21875 \nQ 28.65625 66.21875 22.328125 58.203125 \nQ 16.015625 50.203125 16.015625 36.375 \nQ 16.015625 22.609375 22.328125 14.59375 \nQ 28.65625 6.59375 39.40625 6.59375 \nQ 50.140625 6.59375 56.421875 14.59375 \nQ 62.703125 22.609375 62.703125 36.375 \nQ 62.703125 50.203125 56.421875 58.203125 \nQ 50.140625 66.21875 39.40625 66.21875 \nz\nM 39.40625 74.21875 \nQ 54.734375 74.21875 63.90625 63.9375 \nQ 73.09375 53.65625 73.09375 36.375 \nQ 73.09375 19.140625 63.90625 8.859375 \nQ 54.734375 -1.421875 39.40625 -1.421875 \nQ 24.03125 -1.421875 14.8125 8.828125 \nQ 5.609375 19.09375 5.609375 36.375 \nQ 5.609375 53.65625 14.8125 63.9375 \nQ 24.03125 74.21875 39.40625 74.21875 \nz\n\" id=\"DejaVuSans-79\"/>\n        <path d=\"M 18.3125 70.21875 \nL 18.3125 54.6875 \nL 36.8125 54.6875 \nL 36.8125 47.703125 \nL 18.3125 47.703125 \nL 18.3125 18.015625 \nQ 18.3125 11.328125 20.140625 9.421875 \nQ 21.96875 7.515625 27.59375 7.515625 \nL 36.8125 7.515625 \nL 36.8125 0 \nL 27.59375 0 \nQ 17.1875 0 13.234375 3.875 \nQ 9.28125 7.765625 9.28125 18.015625 \nL 9.28125 47.703125 \nL 2.6875 47.703125 \nL 2.6875 54.6875 \nL 9.28125 54.6875 \nL 9.28125 70.21875 \nz\n\" id=\"DejaVuSans-116\"/>\n        <path d=\"M 54.890625 33.015625 \nL 54.890625 0 \nL 45.90625 0 \nL 45.90625 32.71875 \nQ 45.90625 40.484375 42.875 44.328125 \nQ 39.84375 48.1875 33.796875 48.1875 \nQ 26.515625 48.1875 22.3125 43.546875 \nQ 18.109375 38.921875 18.109375 30.90625 \nL 18.109375 0 \nL 9.078125 0 \nL 9.078125 75.984375 \nL 18.109375 75.984375 \nL 18.109375 46.1875 \nQ 21.34375 51.125 25.703125 53.5625 \nQ 30.078125 56 35.796875 56 \nQ 45.21875 56 50.046875 50.171875 \nQ 54.890625 44.34375 54.890625 33.015625 \nz\n\" id=\"DejaVuSans-104\"/>\n        <path d=\"M 41.109375 46.296875 \nQ 39.59375 47.171875 37.8125 47.578125 \nQ 36.03125 48 33.890625 48 \nQ 26.265625 48 22.1875 43.046875 \nQ 18.109375 38.09375 18.109375 28.8125 \nL 18.109375 0 \nL 9.078125 0 \nL 9.078125 54.6875 \nL 18.109375 54.6875 \nL 18.109375 46.1875 \nQ 20.953125 51.171875 25.484375 53.578125 \nQ 30.03125 56 36.53125 56 \nQ 37.453125 56 38.578125 55.875 \nQ 39.703125 55.765625 41.0625 55.515625 \nz\n\" id=\"DejaVuSans-114\"/>\n       </defs>\n       <use xlink:href=\"#DejaVuSans-79\"/>\n       <use x=\"78.710938\" xlink:href=\"#DejaVuSans-116\"/>\n       <use x=\"117.919922\" xlink:href=\"#DejaVuSans-104\"/>\n       <use x=\"181.298828\" xlink:href=\"#DejaVuSans-101\"/>\n       <use x=\"242.822266\" xlink:href=\"#DejaVuSans-114\"/>\n      </g>\n     </g>\n    </g>\n   </g>\n   <g id=\"matplotlib.axis_2\">\n    <g id=\"ytick_1\">\n     <g id=\"line2d_4\">\n      <defs>\n       <path d=\"M 0 0 \nL -3.5 0 \n\" id=\"mff24ea59c6\" style=\"stroke:#000000;stroke-width:0.8;\"/>\n      </defs>\n      <g>\n       <use style=\"stroke:#000000;stroke-width:0.8;\" x=\"39.65\" xlink:href=\"#mff24ea59c6\" y=\"224.64\"/>\n      </g>\n     </g>\n     <g id=\"text_4\">\n      <!-- 0 -->\n      <g transform=\"translate(26.2875 228.439219)scale(0.1 -0.1)\">\n       <defs>\n        <path d=\"M 31.78125 66.40625 \nQ 24.171875 66.40625 20.328125 58.90625 \nQ 16.5 51.421875 16.5 36.375 \nQ 16.5 21.390625 20.328125 13.890625 \nQ 24.171875 6.390625 31.78125 6.390625 \nQ 39.453125 6.390625 43.28125 13.890625 \nQ 47.125 21.390625 47.125 36.375 \nQ 47.125 51.421875 43.28125 58.90625 \nQ 39.453125 66.40625 31.78125 66.40625 \nz\nM 31.78125 74.21875 \nQ 44.046875 74.21875 50.515625 64.515625 \nQ 56.984375 54.828125 56.984375 36.375 \nQ 56.984375 17.96875 50.515625 8.265625 \nQ 44.046875 -1.421875 31.78125 -1.421875 \nQ 19.53125 -1.421875 13.0625 8.265625 \nQ 6.59375 17.96875 6.59375 36.375 \nQ 6.59375 54.828125 13.0625 64.515625 \nQ 19.53125 74.21875 31.78125 74.21875 \nz\n\" id=\"DejaVuSans-48\"/>\n       </defs>\n       <use xlink:href=\"#DejaVuSans-48\"/>\n      </g>\n     </g>\n    </g>\n    <g id=\"ytick_2\">\n     <g id=\"line2d_5\">\n      <g>\n       <use style=\"stroke:#000000;stroke-width:0.8;\" x=\"39.65\" xlink:href=\"#mff24ea59c6\" y=\"190.056547\"/>\n      </g>\n     </g>\n     <g id=\"text_5\">\n      <!-- 500 -->\n      <g transform=\"translate(13.5625 193.855766)scale(0.1 -0.1)\">\n       <defs>\n        <path d=\"M 10.796875 72.90625 \nL 49.515625 72.90625 \nL 49.515625 64.59375 \nL 19.828125 64.59375 \nL 19.828125 46.734375 \nQ 21.96875 47.46875 24.109375 47.828125 \nQ 26.265625 48.1875 28.421875 48.1875 \nQ 40.625 48.1875 47.75 41.5 \nQ 54.890625 34.8125 54.890625 23.390625 \nQ 54.890625 11.625 47.5625 5.09375 \nQ 40.234375 -1.421875 26.90625 -1.421875 \nQ 22.3125 -1.421875 17.546875 -0.640625 \nQ 12.796875 0.140625 7.71875 1.703125 \nL 7.71875 11.625 \nQ 12.109375 9.234375 16.796875 8.0625 \nQ 21.484375 6.890625 26.703125 6.890625 \nQ 35.15625 6.890625 40.078125 11.328125 \nQ 45.015625 15.765625 45.015625 23.390625 \nQ 45.015625 31 40.078125 35.4375 \nQ 35.15625 39.890625 26.703125 39.890625 \nQ 22.75 39.890625 18.8125 39.015625 \nQ 14.890625 38.140625 10.796875 36.28125 \nz\n\" id=\"DejaVuSans-53\"/>\n       </defs>\n       <use xlink:href=\"#DejaVuSans-53\"/>\n       <use x=\"63.623047\" xlink:href=\"#DejaVuSans-48\"/>\n       <use x=\"127.246094\" xlink:href=\"#DejaVuSans-48\"/>\n      </g>\n     </g>\n    </g>\n    <g id=\"ytick_3\">\n     <g id=\"line2d_6\">\n      <g>\n       <use style=\"stroke:#000000;stroke-width:0.8;\" x=\"39.65\" xlink:href=\"#mff24ea59c6\" y=\"155.473095\"/>\n      </g>\n     </g>\n     <g id=\"text_6\">\n      <!-- 1000 -->\n      <g transform=\"translate(7.2 159.272314)scale(0.1 -0.1)\">\n       <defs>\n        <path d=\"M 12.40625 8.296875 \nL 28.515625 8.296875 \nL 28.515625 63.921875 \nL 10.984375 60.40625 \nL 10.984375 69.390625 \nL 28.421875 72.90625 \nL 38.28125 72.90625 \nL 38.28125 8.296875 \nL 54.390625 8.296875 \nL 54.390625 0 \nL 12.40625 0 \nz\n\" id=\"DejaVuSans-49\"/>\n       </defs>\n       <use xlink:href=\"#DejaVuSans-49\"/>\n       <use x=\"63.623047\" xlink:href=\"#DejaVuSans-48\"/>\n       <use x=\"127.246094\" xlink:href=\"#DejaVuSans-48\"/>\n       <use x=\"190.869141\" xlink:href=\"#DejaVuSans-48\"/>\n      </g>\n     </g>\n    </g>\n    <g id=\"ytick_4\">\n     <g id=\"line2d_7\">\n      <g>\n       <use style=\"stroke:#000000;stroke-width:0.8;\" x=\"39.65\" xlink:href=\"#mff24ea59c6\" y=\"120.889642\"/>\n      </g>\n     </g>\n     <g id=\"text_7\">\n      <!-- 1500 -->\n      <g transform=\"translate(7.2 124.688861)scale(0.1 -0.1)\">\n       <use xlink:href=\"#DejaVuSans-49\"/>\n       <use x=\"63.623047\" xlink:href=\"#DejaVuSans-53\"/>\n       <use x=\"127.246094\" xlink:href=\"#DejaVuSans-48\"/>\n       <use x=\"190.869141\" xlink:href=\"#DejaVuSans-48\"/>\n      </g>\n     </g>\n    </g>\n    <g id=\"ytick_5\">\n     <g id=\"line2d_8\">\n      <g>\n       <use style=\"stroke:#000000;stroke-width:0.8;\" x=\"39.65\" xlink:href=\"#mff24ea59c6\" y=\"86.30619\"/>\n      </g>\n     </g>\n     <g id=\"text_8\">\n      <!-- 2000 -->\n      <g transform=\"translate(7.2 90.105408)scale(0.1 -0.1)\">\n       <defs>\n        <path d=\"M 19.1875 8.296875 \nL 53.609375 8.296875 \nL 53.609375 0 \nL 7.328125 0 \nL 7.328125 8.296875 \nQ 12.9375 14.109375 22.625 23.890625 \nQ 32.328125 33.6875 34.8125 36.53125 \nQ 39.546875 41.84375 41.421875 45.53125 \nQ 43.3125 49.21875 43.3125 52.78125 \nQ 43.3125 58.59375 39.234375 62.25 \nQ 35.15625 65.921875 28.609375 65.921875 \nQ 23.96875 65.921875 18.8125 64.3125 \nQ 13.671875 62.703125 7.8125 59.421875 \nL 7.8125 69.390625 \nQ 13.765625 71.78125 18.9375 73 \nQ 24.125 74.21875 28.421875 74.21875 \nQ 39.75 74.21875 46.484375 68.546875 \nQ 53.21875 62.890625 53.21875 53.421875 \nQ 53.21875 48.921875 51.53125 44.890625 \nQ 49.859375 40.875 45.40625 35.40625 \nQ 44.1875 33.984375 37.640625 27.21875 \nQ 31.109375 20.453125 19.1875 8.296875 \nz\n\" id=\"DejaVuSans-50\"/>\n       </defs>\n       <use xlink:href=\"#DejaVuSans-50\"/>\n       <use x=\"63.623047\" xlink:href=\"#DejaVuSans-48\"/>\n       <use x=\"127.246094\" xlink:href=\"#DejaVuSans-48\"/>\n       <use x=\"190.869141\" xlink:href=\"#DejaVuSans-48\"/>\n      </g>\n     </g>\n    </g>\n    <g id=\"ytick_6\">\n     <g id=\"line2d_9\">\n      <g>\n       <use style=\"stroke:#000000;stroke-width:0.8;\" x=\"39.65\" xlink:href=\"#mff24ea59c6\" y=\"51.722737\"/>\n      </g>\n     </g>\n     <g id=\"text_9\">\n      <!-- 2500 -->\n      <g transform=\"translate(7.2 55.521956)scale(0.1 -0.1)\">\n       <use xlink:href=\"#DejaVuSans-50\"/>\n       <use x=\"63.623047\" xlink:href=\"#DejaVuSans-53\"/>\n       <use x=\"127.246094\" xlink:href=\"#DejaVuSans-48\"/>\n       <use x=\"190.869141\" xlink:href=\"#DejaVuSans-48\"/>\n      </g>\n     </g>\n    </g>\n    <g id=\"ytick_7\">\n     <g id=\"line2d_10\">\n      <g>\n       <use style=\"stroke:#000000;stroke-width:0.8;\" x=\"39.65\" xlink:href=\"#mff24ea59c6\" y=\"17.139284\"/>\n      </g>\n     </g>\n     <g id=\"text_10\">\n      <!-- 3000 -->\n      <g transform=\"translate(7.2 20.938503)scale(0.1 -0.1)\">\n       <defs>\n        <path d=\"M 40.578125 39.3125 \nQ 47.65625 37.796875 51.625 33 \nQ 55.609375 28.21875 55.609375 21.1875 \nQ 55.609375 10.40625 48.1875 4.484375 \nQ 40.765625 -1.421875 27.09375 -1.421875 \nQ 22.515625 -1.421875 17.65625 -0.515625 \nQ 12.796875 0.390625 7.625 2.203125 \nL 7.625 11.71875 \nQ 11.71875 9.328125 16.59375 8.109375 \nQ 21.484375 6.890625 26.8125 6.890625 \nQ 36.078125 6.890625 40.9375 10.546875 \nQ 45.796875 14.203125 45.796875 21.1875 \nQ 45.796875 27.640625 41.28125 31.265625 \nQ 36.765625 34.90625 28.71875 34.90625 \nL 20.21875 34.90625 \nL 20.21875 43.015625 \nL 29.109375 43.015625 \nQ 36.375 43.015625 40.234375 45.921875 \nQ 44.09375 48.828125 44.09375 54.296875 \nQ 44.09375 59.90625 40.109375 62.90625 \nQ 36.140625 65.921875 28.71875 65.921875 \nQ 24.65625 65.921875 20.015625 65.03125 \nQ 15.375 64.15625 9.8125 62.3125 \nL 9.8125 71.09375 \nQ 15.4375 72.65625 20.34375 73.4375 \nQ 25.25 74.21875 29.59375 74.21875 \nQ 40.828125 74.21875 47.359375 69.109375 \nQ 53.90625 64.015625 53.90625 55.328125 \nQ 53.90625 49.265625 50.4375 45.09375 \nQ 46.96875 40.921875 40.578125 39.3125 \nz\n\" id=\"DejaVuSans-51\"/>\n       </defs>\n       <use xlink:href=\"#DejaVuSans-51\"/>\n       <use x=\"63.623047\" xlink:href=\"#DejaVuSans-48\"/>\n       <use x=\"127.246094\" xlink:href=\"#DejaVuSans-48\"/>\n       <use x=\"190.869141\" xlink:href=\"#DejaVuSans-48\"/>\n      </g>\n     </g>\n    </g>\n   </g>\n   <g id=\"patch_6\">\n    <path d=\"M 39.65 224.64 \nL 39.65 7.2 \n\" style=\"fill:none;stroke:#000000;stroke-linecap:square;stroke-linejoin:miter;stroke-width:0.8;\"/>\n   </g>\n   <g id=\"patch_7\">\n    <path d=\"M 374.45 224.64 \nL 374.45 7.2 \n\" style=\"fill:none;stroke:#000000;stroke-linecap:square;stroke-linejoin:miter;stroke-width:0.8;\"/>\n   </g>\n   <g id=\"patch_8\">\n    <path d=\"M 39.65 224.64 \nL 374.45 224.64 \n\" style=\"fill:none;stroke:#000000;stroke-linecap:square;stroke-linejoin:miter;stroke-width:0.8;\"/>\n   </g>\n   <g id=\"patch_9\">\n    <path d=\"M 39.65 7.2 \nL 374.45 7.2 \n\" style=\"fill:none;stroke:#000000;stroke-linecap:square;stroke-linejoin:miter;stroke-width:0.8;\"/>\n   </g>\n  </g>\n </g>\n <defs>\n  <clipPath id=\"p8f6eb1fa2e\">\n   <rect height=\"217.44\" width=\"334.8\" x=\"39.65\" y=\"7.2\"/>\n  </clipPath>\n </defs>\n</svg>\n",
      "image/png": "[encoded data removed]"
     },
     "metadata": {
      "needs_background": "light"
     }
    }
   ],
   "source": [
    "plt.clf()\n",
    "plt.bar(x, y)\n",
    "plt.show()"
   ]
  },
  {
   "cell_type": "code",
   "execution_count": 27,
   "metadata": {},
   "outputs": [
    {
     "output_type": "stream",
     "name": "stdout",
     "text": [
      "Female : 58.59%\nMale : 41.39%\nOther : 0.02%\n"
     ]
    }
   ],
   "source": [
    "for i in range(len(x)):\n",
    "    print(x[i], \":\", x_percentage[i])"
   ]
  },
  {
   "source": [
    "- Other는 극 소수의 값이므로 제거\n",
    "- 범주형으로 처리"
   ],
   "cell_type": "markdown",
   "metadata": {}
  },
  {
   "source": [
    "## age"
   ],
   "cell_type": "markdown",
   "metadata": {}
  },
  {
   "cell_type": "code",
   "execution_count": 56,
   "metadata": {},
   "outputs": [
    {
     "output_type": "execute_result",
     "data": {
      "text/plain": [
       "0"
      ]
     },
     "metadata": {},
     "execution_count": 56
    }
   ],
   "source": [
    "data[\"age\"].isna().sum()"
   ]
  },
  {
   "cell_type": "code",
   "execution_count": 29,
   "metadata": {},
   "outputs": [
    {
     "output_type": "execute_result",
     "data": {
      "text/plain": [
       "0.08"
      ]
     },
     "metadata": {},
     "execution_count": 29
    }
   ],
   "source": [
    "data[\"age\"].min()"
   ]
  },
  {
   "cell_type": "code",
   "execution_count": 30,
   "metadata": {},
   "outputs": [
    {
     "output_type": "execute_result",
     "data": {
      "text/plain": [
       "82.0"
      ]
     },
     "metadata": {},
     "execution_count": 30
    }
   ],
   "source": [
    "data[\"age\"].max()"
   ]
  },
  {
   "cell_type": "code",
   "execution_count": 94,
   "metadata": {
    "tags": []
   },
   "outputs": [
    {
     "output_type": "stream",
     "name": "stdout",
     "text": [
      "0<x< 10 \t 472\n10<x< 20 \t 494\n20<x< 30 \t 549\n30<x< 40 \t 655\n40<x< 50 \t 730\n50<x< 60 \t 834\n60<x< 70 \t 621\n70<x< 80 \t 569\n80<x< 90 \t 186\n"
     ]
    }
   ],
   "source": [
    "x, y = [], []\n",
    "for i in range(0, 90, 10):\n",
    "    x_value = str(i) + \"<x< \" + str(i + 10)\n",
    "    x.append(x_value)\n",
    "\n",
    "    ranged_data = (i <= data[\"age\"]) & (data[\"age\"] < i + 10)\n",
    "    counts = ranged_data.value_counts()\n",
    "    true_index = counts.index.tolist().index(True)\n",
    "    y_value = counts.tolist()[true_index]\n",
    "    y.append(y_value)\n",
    "    \n",
    "    print(x_value, \"\\t\", y_value)\n"
   ]
  },
  {
   "cell_type": "code",
   "execution_count": 95,
   "metadata": {},
   "outputs": [
    {
     "output_type": "display_data",
     "data": {
      "text/plain": "<Figure size 432x288 with 1 Axes>",
      "image/svg+xml": "<?xml version=\"1.0\" encoding=\"utf-8\" standalone=\"no\"?>\n<!DOCTYPE svg PUBLIC \"-//W3C//DTD SVG 1.1//EN\"\n  \"http://www.w3.org/Graphics/SVG/1.1/DTD/svg11.dtd\">\n<!-- Created with matplotlib (https://matplotlib.org/) -->\n<svg height=\"248.518125pt\" version=\"1.1\" viewBox=\"0 0 375.2875 248.518125\" width=\"375.2875pt\" xmlns=\"http://www.w3.org/2000/svg\" xmlns:xlink=\"http://www.w3.org/1999/xlink\">\n <metadata>\n  <rdf:RDF xmlns:cc=\"http://creativecommons.org/ns#\" xmlns:dc=\"http://purl.org/dc/elements/1.1/\" xmlns:rdf=\"http://www.w3.org/1999/02/22-rdf-syntax-ns#\">\n   <cc:Work>\n    <dc:type rdf:resource=\"http://purl.org/dc/dcmitype/StillImage\"/>\n    <dc:date>2021-03-17T11:25:10.270330</dc:date>\n    <dc:format>image/svg+xml</dc:format>\n    <dc:creator>\n     <cc:Agent>\n      <dc:title>Matplotlib v3.3.4, https://matplotlib.org/</dc:title>\n     </cc:Agent>\n    </dc:creator>\n   </cc:Work>\n  </rdf:RDF>\n </metadata>\n <defs>\n  <style type=\"text/css\">*{stroke-linecap:butt;stroke-linejoin:round;}</style>\n </defs>\n <g id=\"figure_1\">\n  <g id=\"patch_1\">\n   <path d=\"M 0 248.518125 \nL 375.2875 248.518125 \nL 375.2875 0 \nL 0 0 \nz\n\" style=\"fill:none;\"/>\n  </g>\n  <g id=\"axes_1\">\n   <g id=\"patch_2\">\n    <path d=\"M 33.2875 224.64 \nL 368.0875 224.64 \nL 368.0875 7.2 \nL 33.2875 7.2 \nz\n\" style=\"fill:#ffffff;\"/>\n   </g>\n   <g id=\"patch_3\">\n    <path clip-path=\"url(#padde57b303)\" d=\"M 48.505682 224.64 \nL 76.175103 224.64 \nL 76.175103 107.440411 \nL 48.505682 107.440411 \nz\n\" style=\"fill:#1f77b4;\"/>\n   </g>\n   <g id=\"patch_4\">\n    <path clip-path=\"url(#padde57b303)\" d=\"M 83.092459 224.64 \nL 110.76188 224.64 \nL 110.76188 101.977718 \nL 83.092459 101.977718 \nz\n\" style=\"fill:#1f77b4;\"/>\n   </g>\n   <g id=\"patch_5\">\n    <path clip-path=\"url(#padde57b303)\" d=\"M 117.679236 224.64 \nL 145.348657 224.64 \nL 145.348657 88.320987 \nL 117.679236 88.320987 \nz\n\" style=\"fill:#1f77b4;\"/>\n   </g>\n   <g id=\"patch_6\">\n    <path clip-path=\"url(#padde57b303)\" d=\"M 152.266012 224.64 \nL 179.935434 224.64 \nL 179.935434 62.00074 \nL 152.266012 62.00074 \nz\n\" style=\"fill:#1f77b4;\"/>\n   </g>\n   <g id=\"patch_7\">\n    <path clip-path=\"url(#padde57b303)\" d=\"M 186.852789 224.64 \nL 214.522211 224.64 \nL 214.522211 43.377924 \nL 186.852789 43.377924 \nz\n\" style=\"fill:#1f77b4;\"/>\n   </g>\n   <g id=\"patch_8\">\n    <path clip-path=\"url(#padde57b303)\" d=\"M 221.439566 224.64 \nL 249.108988 224.64 \nL 249.108988 17.554286 \nL 221.439566 17.554286 \nz\n\" style=\"fill:#1f77b4;\"/>\n   </g>\n   <g id=\"patch_9\">\n    <path clip-path=\"url(#padde57b303)\" d=\"M 256.026343 224.64 \nL 283.695764 224.64 \nL 283.695764 70.443083 \nL 256.026343 70.443083 \nz\n\" style=\"fill:#1f77b4;\"/>\n   </g>\n   <g id=\"patch_10\">\n    <path clip-path=\"url(#padde57b303)\" d=\"M 290.61312 224.64 \nL 318.282541 224.64 \nL 318.282541 83.354902 \nL 290.61312 83.354902 \nz\n\" style=\"fill:#1f77b4;\"/>\n   </g>\n   <g id=\"patch_11\">\n    <path clip-path=\"url(#padde57b303)\" d=\"M 325.199897 224.64 \nL 352.869318 224.64 \nL 352.869318 178.455416 \nL 325.199897 178.455416 \nz\n\" style=\"fill:#1f77b4;\"/>\n   </g>\n   <g id=\"matplotlib.axis_1\">\n    <g id=\"xtick_1\">\n     <g id=\"line2d_1\">\n      <defs>\n       <path d=\"M 0 0 \nL 0 3.5 \n\" id=\"m3795ba2aab\" style=\"stroke:#000000;stroke-width:0.8;\"/>\n      </defs>\n      <g>\n       <use style=\"stroke:#000000;stroke-width:0.8;\" x=\"62.340393\" xlink:href=\"#m3795ba2aab\" y=\"224.64\"/>\n      </g>\n     </g>\n     <g id=\"text_1\">\n      <!-- 0&lt;x&lt; 10 -->\n      <g transform=\"translate(39.868518 239.238437)scale(0.1 -0.1)\">\n       <defs>\n        <path d=\"M 31.78125 66.40625 \nQ 24.171875 66.40625 20.328125 58.90625 \nQ 16.5 51.421875 16.5 36.375 \nQ 16.5 21.390625 20.328125 13.890625 \nQ 24.171875 6.390625 31.78125 6.390625 \nQ 39.453125 6.390625 43.28125 13.890625 \nQ 47.125 21.390625 47.125 36.375 \nQ 47.125 51.421875 43.28125 58.90625 \nQ 39.453125 66.40625 31.78125 66.40625 \nz\nM 31.78125 74.21875 \nQ 44.046875 74.21875 50.515625 64.515625 \nQ 56.984375 54.828125 56.984375 36.375 \nQ 56.984375 17.96875 50.515625 8.265625 \nQ 44.046875 -1.421875 31.78125 -1.421875 \nQ 19.53125 -1.421875 13.0625 8.265625 \nQ 6.59375 17.96875 6.59375 36.375 \nQ 6.59375 54.828125 13.0625 64.515625 \nQ 19.53125 74.21875 31.78125 74.21875 \nz\n\" id=\"DejaVuSans-48\"/>\n        <path d=\"M 73.1875 49.21875 \nL 22.796875 31.296875 \nL 73.1875 13.484375 \nL 73.1875 4.59375 \nL 10.59375 27.296875 \nL 10.59375 35.40625 \nL 73.1875 58.109375 \nz\n\" id=\"DejaVuSans-60\"/>\n        <path d=\"M 54.890625 54.6875 \nL 35.109375 28.078125 \nL 55.90625 0 \nL 45.3125 0 \nL 29.390625 21.484375 \nL 13.484375 0 \nL 2.875 0 \nL 24.125 28.609375 \nL 4.6875 54.6875 \nL 15.28125 54.6875 \nL 29.78125 35.203125 \nL 44.28125 54.6875 \nz\n\" id=\"DejaVuSans-120\"/>\n        <path id=\"DejaVuSans-32\"/>\n        <path d=\"M 12.40625 8.296875 \nL 28.515625 8.296875 \nL 28.515625 63.921875 \nL 10.984375 60.40625 \nL 10.984375 69.390625 \nL 28.421875 72.90625 \nL 38.28125 72.90625 \nL 38.28125 8.296875 \nL 54.390625 8.296875 \nL 54.390625 0 \nL 12.40625 0 \nz\n\" id=\"DejaVuSans-49\"/>\n       </defs>\n       <use xlink:href=\"#DejaVuSans-48\"/>\n       <use x=\"63.623047\" xlink:href=\"#DejaVuSans-60\"/>\n       <use x=\"147.412109\" xlink:href=\"#DejaVuSans-120\"/>\n       <use x=\"206.591797\" xlink:href=\"#DejaVuSans-60\"/>\n       <use x=\"290.380859\" xlink:href=\"#DejaVuSans-32\"/>\n       <use x=\"322.167969\" xlink:href=\"#DejaVuSans-49\"/>\n       <use x=\"385.791016\" xlink:href=\"#DejaVuSans-48\"/>\n      </g>\n     </g>\n    </g>\n    <g id=\"xtick_2\">\n     <g id=\"line2d_2\">\n      <g>\n       <use style=\"stroke:#000000;stroke-width:0.8;\" x=\"96.927169\" xlink:href=\"#m3795ba2aab\" y=\"224.64\"/>\n      </g>\n     </g>\n     <g id=\"text_2\">\n      <!-- 10&lt;x&lt; 20 -->\n      <g transform=\"translate(71.274044 239.238437)scale(0.1 -0.1)\">\n       <defs>\n        <path d=\"M 19.1875 8.296875 \nL 53.609375 8.296875 \nL 53.609375 0 \nL 7.328125 0 \nL 7.328125 8.296875 \nQ 12.9375 14.109375 22.625 23.890625 \nQ 32.328125 33.6875 34.8125 36.53125 \nQ 39.546875 41.84375 41.421875 45.53125 \nQ 43.3125 49.21875 43.3125 52.78125 \nQ 43.3125 58.59375 39.234375 62.25 \nQ 35.15625 65.921875 28.609375 65.921875 \nQ 23.96875 65.921875 18.8125 64.3125 \nQ 13.671875 62.703125 7.8125 59.421875 \nL 7.8125 69.390625 \nQ 13.765625 71.78125 18.9375 73 \nQ 24.125 74.21875 28.421875 74.21875 \nQ 39.75 74.21875 46.484375 68.546875 \nQ 53.21875 62.890625 53.21875 53.421875 \nQ 53.21875 48.921875 51.53125 44.890625 \nQ 49.859375 40.875 45.40625 35.40625 \nQ 44.1875 33.984375 37.640625 27.21875 \nQ 31.109375 20.453125 19.1875 8.296875 \nz\n\" id=\"DejaVuSans-50\"/>\n       </defs>\n       <use xlink:href=\"#DejaVuSans-49\"/>\n       <use x=\"63.623047\" xlink:href=\"#DejaVuSans-48\"/>\n       <use x=\"127.246094\" xlink:href=\"#DejaVuSans-60\"/>\n       <use x=\"211.035156\" xlink:href=\"#DejaVuSans-120\"/>\n       <use x=\"270.214844\" xlink:href=\"#DejaVuSans-60\"/>\n       <use x=\"354.003906\" xlink:href=\"#DejaVuSans-32\"/>\n       <use x=\"385.791016\" xlink:href=\"#DejaVuSans-50\"/>\n       <use x=\"449.414062\" xlink:href=\"#DejaVuSans-48\"/>\n      </g>\n     </g>\n    </g>\n    <g id=\"xtick_3\">\n     <g id=\"line2d_3\">\n      <g>\n       <use style=\"stroke:#000000;stroke-width:0.8;\" x=\"131.513946\" xlink:href=\"#m3795ba2aab\" y=\"224.64\"/>\n      </g>\n     </g>\n     <g id=\"text_3\">\n      <!-- 20&lt;x&lt; 30 -->\n      <g transform=\"translate(105.860821 239.238437)scale(0.1 -0.1)\">\n       <defs>\n        <path d=\"M 40.578125 39.3125 \nQ 47.65625 37.796875 51.625 33 \nQ 55.609375 28.21875 55.609375 21.1875 \nQ 55.609375 10.40625 48.1875 4.484375 \nQ 40.765625 -1.421875 27.09375 -1.421875 \nQ 22.515625 -1.421875 17.65625 -0.515625 \nQ 12.796875 0.390625 7.625 2.203125 \nL 7.625 11.71875 \nQ 11.71875 9.328125 16.59375 8.109375 \nQ 21.484375 6.890625 26.8125 6.890625 \nQ 36.078125 6.890625 40.9375 10.546875 \nQ 45.796875 14.203125 45.796875 21.1875 \nQ 45.796875 27.640625 41.28125 31.265625 \nQ 36.765625 34.90625 28.71875 34.90625 \nL 20.21875 34.90625 \nL 20.21875 43.015625 \nL 29.109375 43.015625 \nQ 36.375 43.015625 40.234375 45.921875 \nQ 44.09375 48.828125 44.09375 54.296875 \nQ 44.09375 59.90625 40.109375 62.90625 \nQ 36.140625 65.921875 28.71875 65.921875 \nQ 24.65625 65.921875 20.015625 65.03125 \nQ 15.375 64.15625 9.8125 62.3125 \nL 9.8125 71.09375 \nQ 15.4375 72.65625 20.34375 73.4375 \nQ 25.25 74.21875 29.59375 74.21875 \nQ 40.828125 74.21875 47.359375 69.109375 \nQ 53.90625 64.015625 53.90625 55.328125 \nQ 53.90625 49.265625 50.4375 45.09375 \nQ 46.96875 40.921875 40.578125 39.3125 \nz\n\" id=\"DejaVuSans-51\"/>\n       </defs>\n       <use xlink:href=\"#DejaVuSans-50\"/>\n       <use x=\"63.623047\" xlink:href=\"#DejaVuSans-48\"/>\n       <use x=\"127.246094\" xlink:href=\"#DejaVuSans-60\"/>\n       <use x=\"211.035156\" xlink:href=\"#DejaVuSans-120\"/>\n       <use x=\"270.214844\" xlink:href=\"#DejaVuSans-60\"/>\n       <use x=\"354.003906\" xlink:href=\"#DejaVuSans-32\"/>\n       <use x=\"385.791016\" xlink:href=\"#DejaVuSans-51\"/>\n       <use x=\"449.414062\" xlink:href=\"#DejaVuSans-48\"/>\n      </g>\n     </g>\n    </g>\n    <g id=\"xtick_4\">\n     <g id=\"line2d_4\">\n      <g>\n       <use style=\"stroke:#000000;stroke-width:0.8;\" x=\"166.100723\" xlink:href=\"#m3795ba2aab\" y=\"224.64\"/>\n      </g>\n     </g>\n     <g id=\"text_4\">\n      <!-- 30&lt;x&lt; 40 -->\n      <g transform=\"translate(140.447598 239.238437)scale(0.1 -0.1)\">\n       <defs>\n        <path d=\"M 37.796875 64.3125 \nL 12.890625 25.390625 \nL 37.796875 25.390625 \nz\nM 35.203125 72.90625 \nL 47.609375 72.90625 \nL 47.609375 25.390625 \nL 58.015625 25.390625 \nL 58.015625 17.1875 \nL 47.609375 17.1875 \nL 47.609375 0 \nL 37.796875 0 \nL 37.796875 17.1875 \nL 4.890625 17.1875 \nL 4.890625 26.703125 \nz\n\" id=\"DejaVuSans-52\"/>\n       </defs>\n       <use xlink:href=\"#DejaVuSans-51\"/>\n       <use x=\"63.623047\" xlink:href=\"#DejaVuSans-48\"/>\n       <use x=\"127.246094\" xlink:href=\"#DejaVuSans-60\"/>\n       <use x=\"211.035156\" xlink:href=\"#DejaVuSans-120\"/>\n       <use x=\"270.214844\" xlink:href=\"#DejaVuSans-60\"/>\n       <use x=\"354.003906\" xlink:href=\"#DejaVuSans-32\"/>\n       <use x=\"385.791016\" xlink:href=\"#DejaVuSans-52\"/>\n       <use x=\"449.414062\" xlink:href=\"#DejaVuSans-48\"/>\n      </g>\n     </g>\n    </g>\n    <g id=\"xtick_5\">\n     <g id=\"line2d_5\">\n      <g>\n       <use style=\"stroke:#000000;stroke-width:0.8;\" x=\"200.6875\" xlink:href=\"#m3795ba2aab\" y=\"224.64\"/>\n      </g>\n     </g>\n     <g id=\"text_5\">\n      <!-- 40&lt;x&lt; 50 -->\n      <g transform=\"translate(175.034375 239.238437)scale(0.1 -0.1)\">\n       <defs>\n        <path d=\"M 10.796875 72.90625 \nL 49.515625 72.90625 \nL 49.515625 64.59375 \nL 19.828125 64.59375 \nL 19.828125 46.734375 \nQ 21.96875 47.46875 24.109375 47.828125 \nQ 26.265625 48.1875 28.421875 48.1875 \nQ 40.625 48.1875 47.75 41.5 \nQ 54.890625 34.8125 54.890625 23.390625 \nQ 54.890625 11.625 47.5625 5.09375 \nQ 40.234375 -1.421875 26.90625 -1.421875 \nQ 22.3125 -1.421875 17.546875 -0.640625 \nQ 12.796875 0.140625 7.71875 1.703125 \nL 7.71875 11.625 \nQ 12.109375 9.234375 16.796875 8.0625 \nQ 21.484375 6.890625 26.703125 6.890625 \nQ 35.15625 6.890625 40.078125 11.328125 \nQ 45.015625 15.765625 45.015625 23.390625 \nQ 45.015625 31 40.078125 35.4375 \nQ 35.15625 39.890625 26.703125 39.890625 \nQ 22.75 39.890625 18.8125 39.015625 \nQ 14.890625 38.140625 10.796875 36.28125 \nz\n\" id=\"DejaVuSans-53\"/>\n       </defs>\n       <use xlink:href=\"#DejaVuSans-52\"/>\n       <use x=\"63.623047\" xlink:href=\"#DejaVuSans-48\"/>\n       <use x=\"127.246094\" xlink:href=\"#DejaVuSans-60\"/>\n       <use x=\"211.035156\" xlink:href=\"#DejaVuSans-120\"/>\n       <use x=\"270.214844\" xlink:href=\"#DejaVuSans-60\"/>\n       <use x=\"354.003906\" xlink:href=\"#DejaVuSans-32\"/>\n       <use x=\"385.791016\" xlink:href=\"#DejaVuSans-53\"/>\n       <use x=\"449.414062\" xlink:href=\"#DejaVuSans-48\"/>\n      </g>\n     </g>\n    </g>\n    <g id=\"xtick_6\">\n     <g id=\"line2d_6\">\n      <g>\n       <use style=\"stroke:#000000;stroke-width:0.8;\" x=\"235.274277\" xlink:href=\"#m3795ba2aab\" y=\"224.64\"/>\n      </g>\n     </g>\n     <g id=\"text_6\">\n      <!-- 50&lt;x&lt; 60 -->\n      <g transform=\"translate(209.621152 239.238437)scale(0.1 -0.1)\">\n       <defs>\n        <path d=\"M 33.015625 40.375 \nQ 26.375 40.375 22.484375 35.828125 \nQ 18.609375 31.296875 18.609375 23.390625 \nQ 18.609375 15.53125 22.484375 10.953125 \nQ 26.375 6.390625 33.015625 6.390625 \nQ 39.65625 6.390625 43.53125 10.953125 \nQ 47.40625 15.53125 47.40625 23.390625 \nQ 47.40625 31.296875 43.53125 35.828125 \nQ 39.65625 40.375 33.015625 40.375 \nz\nM 52.59375 71.296875 \nL 52.59375 62.3125 \nQ 48.875 64.0625 45.09375 64.984375 \nQ 41.3125 65.921875 37.59375 65.921875 \nQ 27.828125 65.921875 22.671875 59.328125 \nQ 17.53125 52.734375 16.796875 39.40625 \nQ 19.671875 43.65625 24.015625 45.921875 \nQ 28.375 48.1875 33.59375 48.1875 \nQ 44.578125 48.1875 50.953125 41.515625 \nQ 57.328125 34.859375 57.328125 23.390625 \nQ 57.328125 12.15625 50.6875 5.359375 \nQ 44.046875 -1.421875 33.015625 -1.421875 \nQ 20.359375 -1.421875 13.671875 8.265625 \nQ 6.984375 17.96875 6.984375 36.375 \nQ 6.984375 53.65625 15.1875 63.9375 \nQ 23.390625 74.21875 37.203125 74.21875 \nQ 40.921875 74.21875 44.703125 73.484375 \nQ 48.484375 72.75 52.59375 71.296875 \nz\n\" id=\"DejaVuSans-54\"/>\n       </defs>\n       <use xlink:href=\"#DejaVuSans-53\"/>\n       <use x=\"63.623047\" xlink:href=\"#DejaVuSans-48\"/>\n       <use x=\"127.246094\" xlink:href=\"#DejaVuSans-60\"/>\n       <use x=\"211.035156\" xlink:href=\"#DejaVuSans-120\"/>\n       <use x=\"270.214844\" xlink:href=\"#DejaVuSans-60\"/>\n       <use x=\"354.003906\" xlink:href=\"#DejaVuSans-32\"/>\n       <use x=\"385.791016\" xlink:href=\"#DejaVuSans-54\"/>\n       <use x=\"449.414062\" xlink:href=\"#DejaVuSans-48\"/>\n      </g>\n     </g>\n    </g>\n    <g id=\"xtick_7\">\n     <g id=\"line2d_7\">\n      <g>\n       <use style=\"stroke:#000000;stroke-width:0.8;\" x=\"269.861054\" xlink:href=\"#m3795ba2aab\" y=\"224.64\"/>\n      </g>\n     </g>\n     <g id=\"text_7\">\n      <!-- 60&lt;x&lt; 70 -->\n      <g transform=\"translate(244.207929 239.238437)scale(0.1 -0.1)\">\n       <defs>\n        <path d=\"M 8.203125 72.90625 \nL 55.078125 72.90625 \nL 55.078125 68.703125 \nL 28.609375 0 \nL 18.3125 0 \nL 43.21875 64.59375 \nL 8.203125 64.59375 \nz\n\" id=\"DejaVuSans-55\"/>\n       </defs>\n       <use xlink:href=\"#DejaVuSans-54\"/>\n       <use x=\"63.623047\" xlink:href=\"#DejaVuSans-48\"/>\n       <use x=\"127.246094\" xlink:href=\"#DejaVuSans-60\"/>\n       <use x=\"211.035156\" xlink:href=\"#DejaVuSans-120\"/>\n       <use x=\"270.214844\" xlink:href=\"#DejaVuSans-60\"/>\n       <use x=\"354.003906\" xlink:href=\"#DejaVuSans-32\"/>\n       <use x=\"385.791016\" xlink:href=\"#DejaVuSans-55\"/>\n       <use x=\"449.414062\" xlink:href=\"#DejaVuSans-48\"/>\n      </g>\n     </g>\n    </g>\n    <g id=\"xtick_8\">\n     <g id=\"line2d_8\">\n      <g>\n       <use style=\"stroke:#000000;stroke-width:0.8;\" x=\"304.447831\" xlink:href=\"#m3795ba2aab\" y=\"224.64\"/>\n      </g>\n     </g>\n     <g id=\"text_8\">\n      <!-- 70&lt;x&lt; 80 -->\n      <g transform=\"translate(278.794706 239.238437)scale(0.1 -0.1)\">\n       <defs>\n        <path d=\"M 31.78125 34.625 \nQ 24.75 34.625 20.71875 30.859375 \nQ 16.703125 27.09375 16.703125 20.515625 \nQ 16.703125 13.921875 20.71875 10.15625 \nQ 24.75 6.390625 31.78125 6.390625 \nQ 38.8125 6.390625 42.859375 10.171875 \nQ 46.921875 13.96875 46.921875 20.515625 \nQ 46.921875 27.09375 42.890625 30.859375 \nQ 38.875 34.625 31.78125 34.625 \nz\nM 21.921875 38.8125 \nQ 15.578125 40.375 12.03125 44.71875 \nQ 8.5 49.078125 8.5 55.328125 \nQ 8.5 64.0625 14.71875 69.140625 \nQ 20.953125 74.21875 31.78125 74.21875 \nQ 42.671875 74.21875 48.875 69.140625 \nQ 55.078125 64.0625 55.078125 55.328125 \nQ 55.078125 49.078125 51.53125 44.71875 \nQ 48 40.375 41.703125 38.8125 \nQ 48.828125 37.15625 52.796875 32.3125 \nQ 56.78125 27.484375 56.78125 20.515625 \nQ 56.78125 9.90625 50.3125 4.234375 \nQ 43.84375 -1.421875 31.78125 -1.421875 \nQ 19.734375 -1.421875 13.25 4.234375 \nQ 6.78125 9.90625 6.78125 20.515625 \nQ 6.78125 27.484375 10.78125 32.3125 \nQ 14.796875 37.15625 21.921875 38.8125 \nz\nM 18.3125 54.390625 \nQ 18.3125 48.734375 21.84375 45.5625 \nQ 25.390625 42.390625 31.78125 42.390625 \nQ 38.140625 42.390625 41.71875 45.5625 \nQ 45.3125 48.734375 45.3125 54.390625 \nQ 45.3125 60.0625 41.71875 63.234375 \nQ 38.140625 66.40625 31.78125 66.40625 \nQ 25.390625 66.40625 21.84375 63.234375 \nQ 18.3125 60.0625 18.3125 54.390625 \nz\n\" id=\"DejaVuSans-56\"/>\n       </defs>\n       <use xlink:href=\"#DejaVuSans-55\"/>\n       <use x=\"63.623047\" xlink:href=\"#DejaVuSans-48\"/>\n       <use x=\"127.246094\" xlink:href=\"#DejaVuSans-60\"/>\n       <use x=\"211.035156\" xlink:href=\"#DejaVuSans-120\"/>\n       <use x=\"270.214844\" xlink:href=\"#DejaVuSans-60\"/>\n       <use x=\"354.003906\" xlink:href=\"#DejaVuSans-32\"/>\n       <use x=\"385.791016\" xlink:href=\"#DejaVuSans-56\"/>\n       <use x=\"449.414062\" xlink:href=\"#DejaVuSans-48\"/>\n      </g>\n     </g>\n    </g>\n    <g id=\"xtick_9\">\n     <g id=\"line2d_9\">\n      <g>\n       <use style=\"stroke:#000000;stroke-width:0.8;\" x=\"339.034607\" xlink:href=\"#m3795ba2aab\" y=\"224.64\"/>\n      </g>\n     </g>\n     <g id=\"text_9\">\n      <!-- 80&lt;x&lt; 90 -->\n      <g transform=\"translate(313.381482 239.238437)scale(0.1 -0.1)\">\n       <defs>\n        <path d=\"M 10.984375 1.515625 \nL 10.984375 10.5 \nQ 14.703125 8.734375 18.5 7.8125 \nQ 22.3125 6.890625 25.984375 6.890625 \nQ 35.75 6.890625 40.890625 13.453125 \nQ 46.046875 20.015625 46.78125 33.40625 \nQ 43.953125 29.203125 39.59375 26.953125 \nQ 35.25 24.703125 29.984375 24.703125 \nQ 19.046875 24.703125 12.671875 31.3125 \nQ 6.296875 37.9375 6.296875 49.421875 \nQ 6.296875 60.640625 12.9375 67.421875 \nQ 19.578125 74.21875 30.609375 74.21875 \nQ 43.265625 74.21875 49.921875 64.515625 \nQ 56.59375 54.828125 56.59375 36.375 \nQ 56.59375 19.140625 48.40625 8.859375 \nQ 40.234375 -1.421875 26.421875 -1.421875 \nQ 22.703125 -1.421875 18.890625 -0.6875 \nQ 15.09375 0.046875 10.984375 1.515625 \nz\nM 30.609375 32.421875 \nQ 37.25 32.421875 41.125 36.953125 \nQ 45.015625 41.5 45.015625 49.421875 \nQ 45.015625 57.28125 41.125 61.84375 \nQ 37.25 66.40625 30.609375 66.40625 \nQ 23.96875 66.40625 20.09375 61.84375 \nQ 16.21875 57.28125 16.21875 49.421875 \nQ 16.21875 41.5 20.09375 36.953125 \nQ 23.96875 32.421875 30.609375 32.421875 \nz\n\" id=\"DejaVuSans-57\"/>\n       </defs>\n       <use xlink:href=\"#DejaVuSans-56\"/>\n       <use x=\"63.623047\" xlink:href=\"#DejaVuSans-48\"/>\n       <use x=\"127.246094\" xlink:href=\"#DejaVuSans-60\"/>\n       <use x=\"211.035156\" xlink:href=\"#DejaVuSans-120\"/>\n       <use x=\"270.214844\" xlink:href=\"#DejaVuSans-60\"/>\n       <use x=\"354.003906\" xlink:href=\"#DejaVuSans-32\"/>\n       <use x=\"385.791016\" xlink:href=\"#DejaVuSans-57\"/>\n       <use x=\"449.414062\" xlink:href=\"#DejaVuSans-48\"/>\n      </g>\n     </g>\n    </g>\n   </g>\n   <g id=\"matplotlib.axis_2\">\n    <g id=\"ytick_1\">\n     <g id=\"line2d_10\">\n      <defs>\n       <path d=\"M 0 0 \nL -3.5 0 \n\" id=\"m06c05503ba\" style=\"stroke:#000000;stroke-width:0.8;\"/>\n      </defs>\n      <g>\n       <use style=\"stroke:#000000;stroke-width:0.8;\" x=\"33.2875\" xlink:href=\"#m06c05503ba\" y=\"224.64\"/>\n      </g>\n     </g>\n     <g id=\"text_10\">\n      <!-- 0 -->\n      <g transform=\"translate(19.925 228.439219)scale(0.1 -0.1)\">\n       <use xlink:href=\"#DejaVuSans-48\"/>\n      </g>\n     </g>\n    </g>\n    <g id=\"ytick_2\">\n     <g id=\"line2d_11\">\n      <g>\n       <use style=\"stroke:#000000;stroke-width:0.8;\" x=\"33.2875\" xlink:href=\"#m06c05503ba\" y=\"199.809579\"/>\n      </g>\n     </g>\n     <g id=\"text_11\">\n      <!-- 100 -->\n      <g transform=\"translate(7.2 203.608797)scale(0.1 -0.1)\">\n       <use xlink:href=\"#DejaVuSans-49\"/>\n       <use x=\"63.623047\" xlink:href=\"#DejaVuSans-48\"/>\n       <use x=\"127.246094\" xlink:href=\"#DejaVuSans-48\"/>\n      </g>\n     </g>\n    </g>\n    <g id=\"ytick_3\">\n     <g id=\"line2d_12\">\n      <g>\n       <use style=\"stroke:#000000;stroke-width:0.8;\" x=\"33.2875\" xlink:href=\"#m06c05503ba\" y=\"174.979157\"/>\n      </g>\n     </g>\n     <g id=\"text_12\">\n      <!-- 200 -->\n      <g transform=\"translate(7.2 178.778376)scale(0.1 -0.1)\">\n       <use xlink:href=\"#DejaVuSans-50\"/>\n       <use x=\"63.623047\" xlink:href=\"#DejaVuSans-48\"/>\n       <use x=\"127.246094\" xlink:href=\"#DejaVuSans-48\"/>\n      </g>\n     </g>\n    </g>\n    <g id=\"ytick_4\">\n     <g id=\"line2d_13\">\n      <g>\n       <use style=\"stroke:#000000;stroke-width:0.8;\" x=\"33.2875\" xlink:href=\"#m06c05503ba\" y=\"150.148736\"/>\n      </g>\n     </g>\n     <g id=\"text_13\">\n      <!-- 300 -->\n      <g transform=\"translate(7.2 153.947955)scale(0.1 -0.1)\">\n       <use xlink:href=\"#DejaVuSans-51\"/>\n       <use x=\"63.623047\" xlink:href=\"#DejaVuSans-48\"/>\n       <use x=\"127.246094\" xlink:href=\"#DejaVuSans-48\"/>\n      </g>\n     </g>\n    </g>\n    <g id=\"ytick_5\">\n     <g id=\"line2d_14\">\n      <g>\n       <use style=\"stroke:#000000;stroke-width:0.8;\" x=\"33.2875\" xlink:href=\"#m06c05503ba\" y=\"125.318314\"/>\n      </g>\n     </g>\n     <g id=\"text_14\">\n      <!-- 400 -->\n      <g transform=\"translate(7.2 129.117533)scale(0.1 -0.1)\">\n       <use xlink:href=\"#DejaVuSans-52\"/>\n       <use x=\"63.623047\" xlink:href=\"#DejaVuSans-48\"/>\n       <use x=\"127.246094\" xlink:href=\"#DejaVuSans-48\"/>\n      </g>\n     </g>\n    </g>\n    <g id=\"ytick_6\">\n     <g id=\"line2d_15\">\n      <g>\n       <use style=\"stroke:#000000;stroke-width:0.8;\" x=\"33.2875\" xlink:href=\"#m06c05503ba\" y=\"100.487893\"/>\n      </g>\n     </g>\n     <g id=\"text_15\">\n      <!-- 500 -->\n      <g transform=\"translate(7.2 104.287112)scale(0.1 -0.1)\">\n       <use xlink:href=\"#DejaVuSans-53\"/>\n       <use x=\"63.623047\" xlink:href=\"#DejaVuSans-48\"/>\n       <use x=\"127.246094\" xlink:href=\"#DejaVuSans-48\"/>\n      </g>\n     </g>\n    </g>\n    <g id=\"ytick_7\">\n     <g id=\"line2d_16\">\n      <g>\n       <use style=\"stroke:#000000;stroke-width:0.8;\" x=\"33.2875\" xlink:href=\"#m06c05503ba\" y=\"75.657472\"/>\n      </g>\n     </g>\n     <g id=\"text_16\">\n      <!-- 600 -->\n      <g transform=\"translate(7.2 79.45669)scale(0.1 -0.1)\">\n       <use xlink:href=\"#DejaVuSans-54\"/>\n       <use x=\"63.623047\" xlink:href=\"#DejaVuSans-48\"/>\n       <use x=\"127.246094\" xlink:href=\"#DejaVuSans-48\"/>\n      </g>\n     </g>\n    </g>\n    <g id=\"ytick_8\">\n     <g id=\"line2d_17\">\n      <g>\n       <use style=\"stroke:#000000;stroke-width:0.8;\" x=\"33.2875\" xlink:href=\"#m06c05503ba\" y=\"50.82705\"/>\n      </g>\n     </g>\n     <g id=\"text_17\">\n      <!-- 700 -->\n      <g transform=\"translate(7.2 54.626269)scale(0.1 -0.1)\">\n       <use xlink:href=\"#DejaVuSans-55\"/>\n       <use x=\"63.623047\" xlink:href=\"#DejaVuSans-48\"/>\n       <use x=\"127.246094\" xlink:href=\"#DejaVuSans-48\"/>\n      </g>\n     </g>\n    </g>\n    <g id=\"ytick_9\">\n     <g id=\"line2d_18\">\n      <g>\n       <use style=\"stroke:#000000;stroke-width:0.8;\" x=\"33.2875\" xlink:href=\"#m06c05503ba\" y=\"25.996629\"/>\n      </g>\n     </g>\n     <g id=\"text_18\">\n      <!-- 800 -->\n      <g transform=\"translate(7.2 29.795848)scale(0.1 -0.1)\">\n       <use xlink:href=\"#DejaVuSans-56\"/>\n       <use x=\"63.623047\" xlink:href=\"#DejaVuSans-48\"/>\n       <use x=\"127.246094\" xlink:href=\"#DejaVuSans-48\"/>\n      </g>\n     </g>\n    </g>\n   </g>\n   <g id=\"patch_12\">\n    <path d=\"M 33.2875 224.64 \nL 33.2875 7.2 \n\" style=\"fill:none;stroke:#000000;stroke-linecap:square;stroke-linejoin:miter;stroke-width:0.8;\"/>\n   </g>\n   <g id=\"patch_13\">\n    <path d=\"M 368.0875 224.64 \nL 368.0875 7.2 \n\" style=\"fill:none;stroke:#000000;stroke-linecap:square;stroke-linejoin:miter;stroke-width:0.8;\"/>\n   </g>\n   <g id=\"patch_14\">\n    <path d=\"M 33.2875 224.64 \nL 368.0875 224.64 \n\" style=\"fill:none;stroke:#000000;stroke-linecap:square;stroke-linejoin:miter;stroke-width:0.8;\"/>\n   </g>\n   <g id=\"patch_15\">\n    <path d=\"M 33.2875 7.2 \nL 368.0875 7.2 \n\" style=\"fill:none;stroke:#000000;stroke-linecap:square;stroke-linejoin:miter;stroke-width:0.8;\"/>\n   </g>\n  </g>\n </g>\n <defs>\n  <clipPath id=\"padde57b303\">\n   <rect height=\"217.44\" width=\"334.8\" x=\"33.2875\" y=\"7.2\"/>\n  </clipPath>\n </defs>\n</svg>\n",
      "image/png": "[encoded data removed]"
     },
     "metadata": {
      "needs_background": "light"
     }
    }
   ],
   "source": [
    "plt.clf()\n",
    "plt.bar(x, y)\n",
    "plt.show()"
   ]
  },
  {
   "source": [
    "- 범주화하지 않고 수치 그대로 사용\n",
    "- 정규화, 표준화 필요"
   ],
   "cell_type": "markdown",
   "metadata": {}
  },
  {
   "source": [
    "### hypertension"
   ],
   "cell_type": "markdown",
   "metadata": {}
  },
  {
   "cell_type": "code",
   "execution_count": 66,
   "metadata": {},
   "outputs": [
    {
     "output_type": "execute_result",
     "data": {
      "text/plain": [
       "0"
      ]
     },
     "metadata": {},
     "execution_count": 66
    }
   ],
   "source": [
    "data[\"hypertension\"].isna().sum()"
   ]
  },
  {
   "cell_type": "code",
   "execution_count": 57,
   "metadata": {},
   "outputs": [
    {
     "output_type": "execute_result",
     "data": {
      "text/plain": [
       "0    4612\n",
       "1     498\n",
       "Name: hypertension, dtype: int64"
      ]
     },
     "metadata": {},
     "execution_count": 57
    }
   ],
   "source": [
    "data[\"hypertension\"].value_counts()"
   ]
  },
  {
   "source": [
    "- 범주형 처리"
   ],
   "cell_type": "markdown",
   "metadata": {}
  },
  {
   "source": [
    "### heart_disease"
   ],
   "cell_type": "markdown",
   "metadata": {}
  },
  {
   "cell_type": "code",
   "execution_count": 67,
   "metadata": {},
   "outputs": [
    {
     "output_type": "execute_result",
     "data": {
      "text/plain": [
       "0"
      ]
     },
     "metadata": {},
     "execution_count": 67
    }
   ],
   "source": [
    "data[\"heart_disease\"].isna().sum()"
   ]
  },
  {
   "cell_type": "code",
   "execution_count": 60,
   "metadata": {},
   "outputs": [
    {
     "output_type": "execute_result",
     "data": {
      "text/plain": [
       "0    4834\n",
       "1     276\n",
       "Name: heart_disease, dtype: int64"
      ]
     },
     "metadata": {},
     "execution_count": 60
    }
   ],
   "source": [
    "data[\"heart_disease\"].value_counts()"
   ]
  },
  {
   "source": [
    "- 범주형 처리"
   ],
   "cell_type": "markdown",
   "metadata": {}
  },
  {
   "source": [
    "### ever_married"
   ],
   "cell_type": "markdown",
   "metadata": {}
  },
  {
   "cell_type": "code",
   "execution_count": 68,
   "metadata": {},
   "outputs": [
    {
     "output_type": "execute_result",
     "data": {
      "text/plain": [
       "0"
      ]
     },
     "metadata": {},
     "execution_count": 68
    }
   ],
   "source": [
    "data[\"ever_married\"].isna().sum()"
   ]
  },
  {
   "cell_type": "code",
   "execution_count": 61,
   "metadata": {},
   "outputs": [
    {
     "output_type": "execute_result",
     "data": {
      "text/plain": [
       "Yes    3353\n",
       "No     1757\n",
       "Name: ever_married, dtype: int64"
      ]
     },
     "metadata": {},
     "execution_count": 61
    }
   ],
   "source": [
    "data[\"ever_married\"].value_counts()"
   ]
  },
  {
   "source": [
    "- 범주형 처리"
   ],
   "cell_type": "markdown",
   "metadata": {}
  },
  {
   "source": [
    "### work_type"
   ],
   "cell_type": "markdown",
   "metadata": {}
  },
  {
   "cell_type": "code",
   "execution_count": 69,
   "metadata": {},
   "outputs": [
    {
     "output_type": "execute_result",
     "data": {
      "text/plain": [
       "0"
      ]
     },
     "metadata": {},
     "execution_count": 69
    }
   ],
   "source": [
    "data[\"work_type\"].isna().sum()"
   ]
  },
  {
   "cell_type": "code",
   "execution_count": 64,
   "metadata": {},
   "outputs": [
    {
     "output_type": "execute_result",
     "data": {
      "text/plain": [
       "Private          2925\n",
       "Self-employed     819\n",
       "children          687\n",
       "Govt_job          657\n",
       "Never_worked       22\n",
       "Name: work_type, dtype: int64"
      ]
     },
     "metadata": {},
     "execution_count": 64
    }
   ],
   "source": [
    "data[\"work_type\"].value_counts()"
   ]
  },
  {
   "source": [
    "- 범주형 처리"
   ],
   "cell_type": "markdown",
   "metadata": {}
  },
  {
   "source": [
    "### Residence_type"
   ],
   "cell_type": "markdown",
   "metadata": {}
  },
  {
   "cell_type": "code",
   "execution_count": 70,
   "metadata": {},
   "outputs": [
    {
     "output_type": "execute_result",
     "data": {
      "text/plain": [
       "0"
      ]
     },
     "metadata": {},
     "execution_count": 70
    }
   ],
   "source": [
    "data[\"Residence_type\"].isna().sum()"
   ]
  },
  {
   "cell_type": "code",
   "execution_count": 65,
   "metadata": {},
   "outputs": [
    {
     "output_type": "execute_result",
     "data": {
      "text/plain": [
       "Urban    2596\n",
       "Rural    2514\n",
       "Name: Residence_type, dtype: int64"
      ]
     },
     "metadata": {},
     "execution_count": 65
    }
   ],
   "source": [
    "data[\"Residence_type\"].value_counts()"
   ]
  },
  {
   "source": [
    "- 범주형 처리"
   ],
   "cell_type": "markdown",
   "metadata": {}
  },
  {
   "source": [
    "### avg_glucose_level"
   ],
   "cell_type": "markdown",
   "metadata": {}
  },
  {
   "cell_type": "code",
   "execution_count": 71,
   "metadata": {},
   "outputs": [
    {
     "output_type": "execute_result",
     "data": {
      "text/plain": [
       "0"
      ]
     },
     "metadata": {},
     "execution_count": 71
    }
   ],
   "source": [
    "data[\"avg_glucose_level\"].isna().sum()"
   ]
  },
  {
   "cell_type": "code",
   "execution_count": 72,
   "metadata": {},
   "outputs": [
    {
     "output_type": "execute_result",
     "data": {
      "text/plain": [
       "55.12"
      ]
     },
     "metadata": {},
     "execution_count": 72
    }
   ],
   "source": [
    "data[\"avg_glucose_level\"].min()"
   ]
  },
  {
   "cell_type": "code",
   "execution_count": 73,
   "metadata": {},
   "outputs": [
    {
     "output_type": "execute_result",
     "data": {
      "text/plain": [
       "271.74"
      ]
     },
     "metadata": {},
     "execution_count": 73
    }
   ],
   "source": [
    "data[\"avg_glucose_level\"].max()"
   ]
  },
  {
   "cell_type": "code",
   "execution_count": 92,
   "metadata": {},
   "outputs": [
    {
     "output_type": "stream",
     "name": "stdout",
     "text": [
      "50<x< 70 \t 754\n70<x< 90 \t 1648\n90<x< 110 \t 1235\n110<x< 130 \t 552\n130<x< 150 \t 190\n150<x< 170 \t 109\n170<x< 190 \t 92\n190<x< 210 \t 215\n210<x< 230 \t 196\n230<x< 250 \t 94\n250<x< 270 \t 24\n270<x< 290 \t 1\n"
     ]
    }
   ],
   "source": [
    "x, y = [], []\n",
    "for i in range(50, 280, 20):\n",
    "    x_value = str(i) + \"<x< \" + str(i + 20)\n",
    "    x.append(x_value)\n",
    "\n",
    "    try:\n",
    "        ranged_data = (i <= data[\"avg_glucose_level\"]) & (data[\"avg_glucose_level\"] < i + 20)\n",
    "        counts = ranged_data.value_counts()\n",
    "        true_index = counts.index.tolist().index(True)\n",
    "        y_value = counts.tolist()[true_index]\n",
    "        y.append(y_value)\n",
    "        \n",
    "        print(x_value, \"\\t\", y_value)\n",
    "\n",
    "    except ValueError:\n",
    "        y.append(0)\n",
    "\n",
    "        print(x_value, \"\\t\", \"None\")\n",
    "        continue"
   ]
  },
  {
   "cell_type": "code",
   "execution_count": 93,
   "metadata": {},
   "outputs": [
    {
     "output_type": "display_data",
     "data": {
      "text/plain": "<Figure size 432x288 with 1 Axes>",
      "image/svg+xml": "<?xml version=\"1.0\" encoding=\"utf-8\" standalone=\"no\"?>\n<!DOCTYPE svg PUBLIC \"-//W3C//DTD SVG 1.1//EN\"\n  \"http://www.w3.org/Graphics/SVG/1.1/DTD/svg11.dtd\">\n<!-- Created with matplotlib (https://matplotlib.org/) -->\n<svg height=\"248.518125pt\" version=\"1.1\" viewBox=\"0 0 388.130032 248.518125\" width=\"388.130032pt\" xmlns=\"http://www.w3.org/2000/svg\" xmlns:xlink=\"http://www.w3.org/1999/xlink\">\n <metadata>\n  <rdf:RDF xmlns:cc=\"http://creativecommons.org/ns#\" xmlns:dc=\"http://purl.org/dc/elements/1.1/\" xmlns:rdf=\"http://www.w3.org/1999/02/22-rdf-syntax-ns#\">\n   <cc:Work>\n    <dc:type rdf:resource=\"http://purl.org/dc/dcmitype/StillImage\"/>\n    <dc:date>2021-03-17T11:24:55.619357</dc:date>\n    <dc:format>image/svg+xml</dc:format>\n    <dc:creator>\n     <cc:Agent>\n      <dc:title>Matplotlib v3.3.4, https://matplotlib.org/</dc:title>\n     </cc:Agent>\n    </dc:creator>\n   </cc:Work>\n  </rdf:RDF>\n </metadata>\n <defs>\n  <style type=\"text/css\">*{stroke-linecap:butt;stroke-linejoin:round;}</style>\n </defs>\n <g id=\"figure_1\">\n  <g id=\"patch_1\">\n   <path d=\"M -0 248.518125 \nL 388.130032 248.518125 \nL 388.130032 0 \nL -0 0 \nz\n\" style=\"fill:none;\"/>\n  </g>\n  <g id=\"axes_1\">\n   <g id=\"patch_2\">\n    <path d=\"M 39.65 224.64 \nL 374.45 224.64 \nL 374.45 7.2 \nL 39.65 7.2 \nz\n\" style=\"fill:#ffffff;\"/>\n   </g>\n   <g id=\"patch_3\">\n    <path clip-path=\"url(#pbc83e55d03)\" d=\"M 54.868182 224.64 \nL 75.503005 224.64 \nL 75.503005 129.893259 \nL 54.868182 129.893259 \nz\n\" style=\"fill:#1f77b4;\"/>\n   </g>\n   <g id=\"patch_4\">\n    <path clip-path=\"url(#pbc83e55d03)\" d=\"M 80.66171 224.64 \nL 101.296533 224.64 \nL 101.296533 17.554286 \nL 80.66171 17.554286 \nz\n\" style=\"fill:#1f77b4;\"/>\n   </g>\n   <g id=\"patch_5\">\n    <path clip-path=\"url(#pbc83e55d03)\" d=\"M 106.455239 224.64 \nL 127.090062 224.64 \nL 127.090062 69.451373 \nL 106.455239 69.451373 \nz\n\" style=\"fill:#1f77b4;\"/>\n   </g>\n   <g id=\"patch_6\">\n    <path clip-path=\"url(#pbc83e55d03)\" d=\"M 132.248767 224.64 \nL 152.88359 224.64 \nL 152.88359 155.276338 \nL 132.248767 155.276338 \nz\n\" style=\"fill:#1f77b4;\"/>\n   </g>\n   <g id=\"patch_7\">\n    <path clip-path=\"url(#pbc83e55d03)\" d=\"M 158.042296 224.64 \nL 178.677119 224.64 \nL 178.677119 200.764827 \nL 158.042296 200.764827 \nz\n\" style=\"fill:#1f77b4;\"/>\n   </g>\n   <g id=\"patch_8\">\n    <path clip-path=\"url(#pbc83e55d03)\" d=\"M 183.835824 224.64 \nL 204.470647 224.64 \nL 204.470647 210.94319 \nL 183.835824 210.94319 \nz\n\" style=\"fill:#1f77b4;\"/>\n   </g>\n   <g id=\"patch_9\">\n    <path clip-path=\"url(#pbc83e55d03)\" d=\"M 209.629353 224.64 \nL 230.264176 224.64 \nL 230.264176 213.07939 \nL 209.629353 213.07939 \nz\n\" style=\"fill:#1f77b4;\"/>\n   </g>\n   <g id=\"patch_10\">\n    <path clip-path=\"url(#pbc83e55d03)\" d=\"M 235.422881 224.64 \nL 256.057704 224.64 \nL 256.057704 197.623356 \nL 235.422881 197.623356 \nz\n\" style=\"fill:#1f77b4;\"/>\n   </g>\n   <g id=\"patch_11\">\n    <path clip-path=\"url(#pbc83e55d03)\" d=\"M 261.21641 224.64 \nL 281.851233 224.64 \nL 281.851233 200.010874 \nL 261.21641 200.010874 \nz\n\" style=\"fill:#1f77b4;\"/>\n   </g>\n   <g id=\"patch_12\">\n    <path clip-path=\"url(#pbc83e55d03)\" d=\"M 287.009938 224.64 \nL 307.644761 224.64 \nL 307.644761 212.828072 \nL 287.009938 212.828072 \nz\n\" style=\"fill:#1f77b4;\"/>\n   </g>\n   <g id=\"patch_13\">\n    <path clip-path=\"url(#pbc83e55d03)\" d=\"M 312.803467 224.64 \nL 333.43829 224.64 \nL 333.43829 221.624189 \nL 312.803467 221.624189 \nz\n\" style=\"fill:#1f77b4;\"/>\n   </g>\n   <g id=\"patch_14\">\n    <path clip-path=\"url(#pbc83e55d03)\" d=\"M 338.596995 224.64 \nL 359.231818 224.64 \nL 359.231818 224.514341 \nL 338.596995 224.514341 \nz\n\" style=\"fill:#1f77b4;\"/>\n   </g>\n   <g id=\"matplotlib.axis_1\">\n    <g id=\"xtick_1\">\n     <g id=\"line2d_1\">\n      <defs>\n       <path d=\"M 0 0 \nL 0 3.5 \n\" id=\"me6e2dcc919\" style=\"stroke:#000000;stroke-width:0.8;\"/>\n      </defs>\n      <g>\n       <use style=\"stroke:#000000;stroke-width:0.8;\" x=\"65.185593\" xlink:href=\"#me6e2dcc919\" y=\"224.64\"/>\n      </g>\n     </g>\n     <g id=\"text_1\">\n      <!-- 50&lt;x&lt; 70 -->\n      <g transform=\"translate(39.532468 239.238437)scale(0.1 -0.1)\">\n       <defs>\n        <path d=\"M 10.796875 72.90625 \nL 49.515625 72.90625 \nL 49.515625 64.59375 \nL 19.828125 64.59375 \nL 19.828125 46.734375 \nQ 21.96875 47.46875 24.109375 47.828125 \nQ 26.265625 48.1875 28.421875 48.1875 \nQ 40.625 48.1875 47.75 41.5 \nQ 54.890625 34.8125 54.890625 23.390625 \nQ 54.890625 11.625 47.5625 5.09375 \nQ 40.234375 -1.421875 26.90625 -1.421875 \nQ 22.3125 -1.421875 17.546875 -0.640625 \nQ 12.796875 0.140625 7.71875 1.703125 \nL 7.71875 11.625 \nQ 12.109375 9.234375 16.796875 8.0625 \nQ 21.484375 6.890625 26.703125 6.890625 \nQ 35.15625 6.890625 40.078125 11.328125 \nQ 45.015625 15.765625 45.015625 23.390625 \nQ 45.015625 31 40.078125 35.4375 \nQ 35.15625 39.890625 26.703125 39.890625 \nQ 22.75 39.890625 18.8125 39.015625 \nQ 14.890625 38.140625 10.796875 36.28125 \nz\n\" id=\"DejaVuSans-53\"/>\n        <path d=\"M 31.78125 66.40625 \nQ 24.171875 66.40625 20.328125 58.90625 \nQ 16.5 51.421875 16.5 36.375 \nQ 16.5 21.390625 20.328125 13.890625 \nQ 24.171875 6.390625 31.78125 6.390625 \nQ 39.453125 6.390625 43.28125 13.890625 \nQ 47.125 21.390625 47.125 36.375 \nQ 47.125 51.421875 43.28125 58.90625 \nQ 39.453125 66.40625 31.78125 66.40625 \nz\nM 31.78125 74.21875 \nQ 44.046875 74.21875 50.515625 64.515625 \nQ 56.984375 54.828125 56.984375 36.375 \nQ 56.984375 17.96875 50.515625 8.265625 \nQ 44.046875 -1.421875 31.78125 -1.421875 \nQ 19.53125 -1.421875 13.0625 8.265625 \nQ 6.59375 17.96875 6.59375 36.375 \nQ 6.59375 54.828125 13.0625 64.515625 \nQ 19.53125 74.21875 31.78125 74.21875 \nz\n\" id=\"DejaVuSans-48\"/>\n        <path d=\"M 73.1875 49.21875 \nL 22.796875 31.296875 \nL 73.1875 13.484375 \nL 73.1875 4.59375 \nL 10.59375 27.296875 \nL 10.59375 35.40625 \nL 73.1875 58.109375 \nz\n\" id=\"DejaVuSans-60\"/>\n        <path d=\"M 54.890625 54.6875 \nL 35.109375 28.078125 \nL 55.90625 0 \nL 45.3125 0 \nL 29.390625 21.484375 \nL 13.484375 0 \nL 2.875 0 \nL 24.125 28.609375 \nL 4.6875 54.6875 \nL 15.28125 54.6875 \nL 29.78125 35.203125 \nL 44.28125 54.6875 \nz\n\" id=\"DejaVuSans-120\"/>\n        <path id=\"DejaVuSans-32\"/>\n        <path d=\"M 8.203125 72.90625 \nL 55.078125 72.90625 \nL 55.078125 68.703125 \nL 28.609375 0 \nL 18.3125 0 \nL 43.21875 64.59375 \nL 8.203125 64.59375 \nz\n\" id=\"DejaVuSans-55\"/>\n       </defs>\n       <use xlink:href=\"#DejaVuSans-53\"/>\n       <use x=\"63.623047\" xlink:href=\"#DejaVuSans-48\"/>\n       <use x=\"127.246094\" xlink:href=\"#DejaVuSans-60\"/>\n       <use x=\"211.035156\" xlink:href=\"#DejaVuSans-120\"/>\n       <use x=\"270.214844\" xlink:href=\"#DejaVuSans-60\"/>\n       <use x=\"354.003906\" xlink:href=\"#DejaVuSans-32\"/>\n       <use x=\"385.791016\" xlink:href=\"#DejaVuSans-55\"/>\n       <use x=\"449.414062\" xlink:href=\"#DejaVuSans-48\"/>\n      </g>\n     </g>\n    </g>\n    <g id=\"xtick_2\">\n     <g id=\"line2d_2\">\n      <g>\n       <use style=\"stroke:#000000;stroke-width:0.8;\" x=\"90.979122\" xlink:href=\"#me6e2dcc919\" y=\"224.64\"/>\n      </g>\n     </g>\n     <g id=\"text_2\">\n      <!-- 70&lt;x&lt; 90 -->\n      <g transform=\"translate(65.325997 239.238437)scale(0.1 -0.1)\">\n       <defs>\n        <path d=\"M 10.984375 1.515625 \nL 10.984375 10.5 \nQ 14.703125 8.734375 18.5 7.8125 \nQ 22.3125 6.890625 25.984375 6.890625 \nQ 35.75 6.890625 40.890625 13.453125 \nQ 46.046875 20.015625 46.78125 33.40625 \nQ 43.953125 29.203125 39.59375 26.953125 \nQ 35.25 24.703125 29.984375 24.703125 \nQ 19.046875 24.703125 12.671875 31.3125 \nQ 6.296875 37.9375 6.296875 49.421875 \nQ 6.296875 60.640625 12.9375 67.421875 \nQ 19.578125 74.21875 30.609375 74.21875 \nQ 43.265625 74.21875 49.921875 64.515625 \nQ 56.59375 54.828125 56.59375 36.375 \nQ 56.59375 19.140625 48.40625 8.859375 \nQ 40.234375 -1.421875 26.421875 -1.421875 \nQ 22.703125 -1.421875 18.890625 -0.6875 \nQ 15.09375 0.046875 10.984375 1.515625 \nz\nM 30.609375 32.421875 \nQ 37.25 32.421875 41.125 36.953125 \nQ 45.015625 41.5 45.015625 49.421875 \nQ 45.015625 57.28125 41.125 61.84375 \nQ 37.25 66.40625 30.609375 66.40625 \nQ 23.96875 66.40625 20.09375 61.84375 \nQ 16.21875 57.28125 16.21875 49.421875 \nQ 16.21875 41.5 20.09375 36.953125 \nQ 23.96875 32.421875 30.609375 32.421875 \nz\n\" id=\"DejaVuSans-57\"/>\n       </defs>\n       <use xlink:href=\"#DejaVuSans-55\"/>\n       <use x=\"63.623047\" xlink:href=\"#DejaVuSans-48\"/>\n       <use x=\"127.246094\" xlink:href=\"#DejaVuSans-60\"/>\n       <use x=\"211.035156\" xlink:href=\"#DejaVuSans-120\"/>\n       <use x=\"270.214844\" xlink:href=\"#DejaVuSans-60\"/>\n       <use x=\"354.003906\" xlink:href=\"#DejaVuSans-32\"/>\n       <use x=\"385.791016\" xlink:href=\"#DejaVuSans-57\"/>\n       <use x=\"449.414062\" xlink:href=\"#DejaVuSans-48\"/>\n      </g>\n     </g>\n    </g>\n    <g id=\"xtick_3\">\n     <g id=\"line2d_3\">\n      <g>\n       <use style=\"stroke:#000000;stroke-width:0.8;\" x=\"116.77265\" xlink:href=\"#me6e2dcc919\" y=\"224.64\"/>\n      </g>\n     </g>\n     <g id=\"text_3\">\n      <!-- 90&lt;x&lt; 110 -->\n      <g transform=\"translate(87.938275 239.238437)scale(0.1 -0.1)\">\n       <defs>\n        <path d=\"M 12.40625 8.296875 \nL 28.515625 8.296875 \nL 28.515625 63.921875 \nL 10.984375 60.40625 \nL 10.984375 69.390625 \nL 28.421875 72.90625 \nL 38.28125 72.90625 \nL 38.28125 8.296875 \nL 54.390625 8.296875 \nL 54.390625 0 \nL 12.40625 0 \nz\n\" id=\"DejaVuSans-49\"/>\n       </defs>\n       <use xlink:href=\"#DejaVuSans-57\"/>\n       <use x=\"63.623047\" xlink:href=\"#DejaVuSans-48\"/>\n       <use x=\"127.246094\" xlink:href=\"#DejaVuSans-60\"/>\n       <use x=\"211.035156\" xlink:href=\"#DejaVuSans-120\"/>\n       <use x=\"270.214844\" xlink:href=\"#DejaVuSans-60\"/>\n       <use x=\"354.003906\" xlink:href=\"#DejaVuSans-32\"/>\n       <use x=\"385.791016\" xlink:href=\"#DejaVuSans-49\"/>\n       <use x=\"449.414062\" xlink:href=\"#DejaVuSans-49\"/>\n       <use x=\"513.037109\" xlink:href=\"#DejaVuSans-48\"/>\n      </g>\n     </g>\n    </g>\n    <g id=\"xtick_4\">\n     <g id=\"line2d_4\">\n      <g>\n       <use style=\"stroke:#000000;stroke-width:0.8;\" x=\"142.566179\" xlink:href=\"#me6e2dcc919\" y=\"224.64\"/>\n      </g>\n     </g>\n     <g id=\"text_4\">\n      <!-- 110&lt;x&lt; 130 -->\n      <g transform=\"translate(110.550554 239.238437)scale(0.1 -0.1)\">\n       <defs>\n        <path d=\"M 40.578125 39.3125 \nQ 47.65625 37.796875 51.625 33 \nQ 55.609375 28.21875 55.609375 21.1875 \nQ 55.609375 10.40625 48.1875 4.484375 \nQ 40.765625 -1.421875 27.09375 -1.421875 \nQ 22.515625 -1.421875 17.65625 -0.515625 \nQ 12.796875 0.390625 7.625 2.203125 \nL 7.625 11.71875 \nQ 11.71875 9.328125 16.59375 8.109375 \nQ 21.484375 6.890625 26.8125 6.890625 \nQ 36.078125 6.890625 40.9375 10.546875 \nQ 45.796875 14.203125 45.796875 21.1875 \nQ 45.796875 27.640625 41.28125 31.265625 \nQ 36.765625 34.90625 28.71875 34.90625 \nL 20.21875 34.90625 \nL 20.21875 43.015625 \nL 29.109375 43.015625 \nQ 36.375 43.015625 40.234375 45.921875 \nQ 44.09375 48.828125 44.09375 54.296875 \nQ 44.09375 59.90625 40.109375 62.90625 \nQ 36.140625 65.921875 28.71875 65.921875 \nQ 24.65625 65.921875 20.015625 65.03125 \nQ 15.375 64.15625 9.8125 62.3125 \nL 9.8125 71.09375 \nQ 15.4375 72.65625 20.34375 73.4375 \nQ 25.25 74.21875 29.59375 74.21875 \nQ 40.828125 74.21875 47.359375 69.109375 \nQ 53.90625 64.015625 53.90625 55.328125 \nQ 53.90625 49.265625 50.4375 45.09375 \nQ 46.96875 40.921875 40.578125 39.3125 \nz\n\" id=\"DejaVuSans-51\"/>\n       </defs>\n       <use xlink:href=\"#DejaVuSans-49\"/>\n       <use x=\"63.623047\" xlink:href=\"#DejaVuSans-49\"/>\n       <use x=\"127.246094\" xlink:href=\"#DejaVuSans-48\"/>\n       <use x=\"190.869141\" xlink:href=\"#DejaVuSans-60\"/>\n       <use x=\"274.658203\" xlink:href=\"#DejaVuSans-120\"/>\n       <use x=\"333.837891\" xlink:href=\"#DejaVuSans-60\"/>\n       <use x=\"417.626953\" xlink:href=\"#DejaVuSans-32\"/>\n       <use x=\"449.414062\" xlink:href=\"#DejaVuSans-49\"/>\n       <use x=\"513.037109\" xlink:href=\"#DejaVuSans-51\"/>\n       <use x=\"576.660156\" xlink:href=\"#DejaVuSans-48\"/>\n      </g>\n     </g>\n    </g>\n    <g id=\"xtick_5\">\n     <g id=\"line2d_5\">\n      <g>\n       <use style=\"stroke:#000000;stroke-width:0.8;\" x=\"168.359707\" xlink:href=\"#me6e2dcc919\" y=\"224.64\"/>\n      </g>\n     </g>\n     <g id=\"text_5\">\n      <!-- 130&lt;x&lt; 150 -->\n      <g transform=\"translate(136.344082 239.238437)scale(0.1 -0.1)\">\n       <use xlink:href=\"#DejaVuSans-49\"/>\n       <use x=\"63.623047\" xlink:href=\"#DejaVuSans-51\"/>\n       <use x=\"127.246094\" xlink:href=\"#DejaVuSans-48\"/>\n       <use x=\"190.869141\" xlink:href=\"#DejaVuSans-60\"/>\n       <use x=\"274.658203\" xlink:href=\"#DejaVuSans-120\"/>\n       <use x=\"333.837891\" xlink:href=\"#DejaVuSans-60\"/>\n       <use x=\"417.626953\" xlink:href=\"#DejaVuSans-32\"/>\n       <use x=\"449.414062\" xlink:href=\"#DejaVuSans-49\"/>\n       <use x=\"513.037109\" xlink:href=\"#DejaVuSans-53\"/>\n       <use x=\"576.660156\" xlink:href=\"#DejaVuSans-48\"/>\n      </g>\n     </g>\n    </g>\n    <g id=\"xtick_6\">\n     <g id=\"line2d_6\">\n      <g>\n       <use style=\"stroke:#000000;stroke-width:0.8;\" x=\"194.153236\" xlink:href=\"#me6e2dcc919\" y=\"224.64\"/>\n      </g>\n     </g>\n     <g id=\"text_6\">\n      <!-- 150&lt;x&lt; 170 -->\n      <g transform=\"translate(162.137611 239.238437)scale(0.1 -0.1)\">\n       <use xlink:href=\"#DejaVuSans-49\"/>\n       <use x=\"63.623047\" xlink:href=\"#DejaVuSans-53\"/>\n       <use x=\"127.246094\" xlink:href=\"#DejaVuSans-48\"/>\n       <use x=\"190.869141\" xlink:href=\"#DejaVuSans-60\"/>\n       <use x=\"274.658203\" xlink:href=\"#DejaVuSans-120\"/>\n       <use x=\"333.837891\" xlink:href=\"#DejaVuSans-60\"/>\n       <use x=\"417.626953\" xlink:href=\"#DejaVuSans-32\"/>\n       <use x=\"449.414062\" xlink:href=\"#DejaVuSans-49\"/>\n       <use x=\"513.037109\" xlink:href=\"#DejaVuSans-55\"/>\n       <use x=\"576.660156\" xlink:href=\"#DejaVuSans-48\"/>\n      </g>\n     </g>\n    </g>\n    <g id=\"xtick_7\">\n     <g id=\"line2d_7\">\n      <g>\n       <use style=\"stroke:#000000;stroke-width:0.8;\" x=\"219.946764\" xlink:href=\"#me6e2dcc919\" y=\"224.64\"/>\n      </g>\n     </g>\n     <g id=\"text_7\">\n      <!-- 170&lt;x&lt; 190 -->\n      <g transform=\"translate(187.931139 239.238437)scale(0.1 -0.1)\">\n       <use xlink:href=\"#DejaVuSans-49\"/>\n       <use x=\"63.623047\" xlink:href=\"#DejaVuSans-55\"/>\n       <use x=\"127.246094\" xlink:href=\"#DejaVuSans-48\"/>\n       <use x=\"190.869141\" xlink:href=\"#DejaVuSans-60\"/>\n       <use x=\"274.658203\" xlink:href=\"#DejaVuSans-120\"/>\n       <use x=\"333.837891\" xlink:href=\"#DejaVuSans-60\"/>\n       <use x=\"417.626953\" xlink:href=\"#DejaVuSans-32\"/>\n       <use x=\"449.414062\" xlink:href=\"#DejaVuSans-49\"/>\n       <use x=\"513.037109\" xlink:href=\"#DejaVuSans-57\"/>\n       <use x=\"576.660156\" xlink:href=\"#DejaVuSans-48\"/>\n      </g>\n     </g>\n    </g>\n    <g id=\"xtick_8\">\n     <g id=\"line2d_8\">\n      <g>\n       <use style=\"stroke:#000000;stroke-width:0.8;\" x=\"245.740293\" xlink:href=\"#me6e2dcc919\" y=\"224.64\"/>\n      </g>\n     </g>\n     <g id=\"text_8\">\n      <!-- 190&lt;x&lt; 210 -->\n      <g transform=\"translate(213.724668 239.238437)scale(0.1 -0.1)\">\n       <defs>\n        <path d=\"M 19.1875 8.296875 \nL 53.609375 8.296875 \nL 53.609375 0 \nL 7.328125 0 \nL 7.328125 8.296875 \nQ 12.9375 14.109375 22.625 23.890625 \nQ 32.328125 33.6875 34.8125 36.53125 \nQ 39.546875 41.84375 41.421875 45.53125 \nQ 43.3125 49.21875 43.3125 52.78125 \nQ 43.3125 58.59375 39.234375 62.25 \nQ 35.15625 65.921875 28.609375 65.921875 \nQ 23.96875 65.921875 18.8125 64.3125 \nQ 13.671875 62.703125 7.8125 59.421875 \nL 7.8125 69.390625 \nQ 13.765625 71.78125 18.9375 73 \nQ 24.125 74.21875 28.421875 74.21875 \nQ 39.75 74.21875 46.484375 68.546875 \nQ 53.21875 62.890625 53.21875 53.421875 \nQ 53.21875 48.921875 51.53125 44.890625 \nQ 49.859375 40.875 45.40625 35.40625 \nQ 44.1875 33.984375 37.640625 27.21875 \nQ 31.109375 20.453125 19.1875 8.296875 \nz\n\" id=\"DejaVuSans-50\"/>\n       </defs>\n       <use xlink:href=\"#DejaVuSans-49\"/>\n       <use x=\"63.623047\" xlink:href=\"#DejaVuSans-57\"/>\n       <use x=\"127.246094\" xlink:href=\"#DejaVuSans-48\"/>\n       <use x=\"190.869141\" xlink:href=\"#DejaVuSans-60\"/>\n       <use x=\"274.658203\" xlink:href=\"#DejaVuSans-120\"/>\n       <use x=\"333.837891\" xlink:href=\"#DejaVuSans-60\"/>\n       <use x=\"417.626953\" xlink:href=\"#DejaVuSans-32\"/>\n       <use x=\"449.414062\" xlink:href=\"#DejaVuSans-50\"/>\n       <use x=\"513.037109\" xlink:href=\"#DejaVuSans-49\"/>\n       <use x=\"576.660156\" xlink:href=\"#DejaVuSans-48\"/>\n      </g>\n     </g>\n    </g>\n    <g id=\"xtick_9\">\n     <g id=\"line2d_9\">\n      <g>\n       <use style=\"stroke:#000000;stroke-width:0.8;\" x=\"271.533821\" xlink:href=\"#me6e2dcc919\" y=\"224.64\"/>\n      </g>\n     </g>\n     <g id=\"text_9\">\n      <!-- 210&lt;x&lt; 230 -->\n      <g transform=\"translate(239.518196 239.238437)scale(0.1 -0.1)\">\n       <use xlink:href=\"#DejaVuSans-50\"/>\n       <use x=\"63.623047\" xlink:href=\"#DejaVuSans-49\"/>\n       <use x=\"127.246094\" xlink:href=\"#DejaVuSans-48\"/>\n       <use x=\"190.869141\" xlink:href=\"#DejaVuSans-60\"/>\n       <use x=\"274.658203\" xlink:href=\"#DejaVuSans-120\"/>\n       <use x=\"333.837891\" xlink:href=\"#DejaVuSans-60\"/>\n       <use x=\"417.626953\" xlink:href=\"#DejaVuSans-32\"/>\n       <use x=\"449.414062\" xlink:href=\"#DejaVuSans-50\"/>\n       <use x=\"513.037109\" xlink:href=\"#DejaVuSans-51\"/>\n       <use x=\"576.660156\" xlink:href=\"#DejaVuSans-48\"/>\n      </g>\n     </g>\n    </g>\n    <g id=\"xtick_10\">\n     <g id=\"line2d_10\">\n      <g>\n       <use style=\"stroke:#000000;stroke-width:0.8;\" x=\"297.32735\" xlink:href=\"#me6e2dcc919\" y=\"224.64\"/>\n      </g>\n     </g>\n     <g id=\"text_10\">\n      <!-- 230&lt;x&lt; 250 -->\n      <g transform=\"translate(265.311725 239.238437)scale(0.1 -0.1)\">\n       <use xlink:href=\"#DejaVuSans-50\"/>\n       <use x=\"63.623047\" xlink:href=\"#DejaVuSans-51\"/>\n       <use x=\"127.246094\" xlink:href=\"#DejaVuSans-48\"/>\n       <use x=\"190.869141\" xlink:href=\"#DejaVuSans-60\"/>\n       <use x=\"274.658203\" xlink:href=\"#DejaVuSans-120\"/>\n       <use x=\"333.837891\" xlink:href=\"#DejaVuSans-60\"/>\n       <use x=\"417.626953\" xlink:href=\"#DejaVuSans-32\"/>\n       <use x=\"449.414062\" xlink:href=\"#DejaVuSans-50\"/>\n       <use x=\"513.037109\" xlink:href=\"#DejaVuSans-53\"/>\n       <use x=\"576.660156\" xlink:href=\"#DejaVuSans-48\"/>\n      </g>\n     </g>\n    </g>\n    <g id=\"xtick_11\">\n     <g id=\"line2d_11\">\n      <g>\n       <use style=\"stroke:#000000;stroke-width:0.8;\" x=\"323.120878\" xlink:href=\"#me6e2dcc919\" y=\"224.64\"/>\n      </g>\n     </g>\n     <g id=\"text_11\">\n      <!-- 250&lt;x&lt; 270 -->\n      <g transform=\"translate(291.105253 239.238437)scale(0.1 -0.1)\">\n       <use xlink:href=\"#DejaVuSans-50\"/>\n       <use x=\"63.623047\" xlink:href=\"#DejaVuSans-53\"/>\n       <use x=\"127.246094\" xlink:href=\"#DejaVuSans-48\"/>\n       <use x=\"190.869141\" xlink:href=\"#DejaVuSans-60\"/>\n       <use x=\"274.658203\" xlink:href=\"#DejaVuSans-120\"/>\n       <use x=\"333.837891\" xlink:href=\"#DejaVuSans-60\"/>\n       <use x=\"417.626953\" xlink:href=\"#DejaVuSans-32\"/>\n       <use x=\"449.414062\" xlink:href=\"#DejaVuSans-50\"/>\n       <use x=\"513.037109\" xlink:href=\"#DejaVuSans-55\"/>\n       <use x=\"576.660156\" xlink:href=\"#DejaVuSans-48\"/>\n      </g>\n     </g>\n    </g>\n    <g id=\"xtick_12\">\n     <g id=\"line2d_12\">\n      <g>\n       <use style=\"stroke:#000000;stroke-width:0.8;\" x=\"348.914407\" xlink:href=\"#me6e2dcc919\" y=\"224.64\"/>\n      </g>\n     </g>\n     <g id=\"text_12\">\n      <!-- 270&lt;x&lt; 290 -->\n      <g transform=\"translate(316.898782 239.238437)scale(0.1 -0.1)\">\n       <use xlink:href=\"#DejaVuSans-50\"/>\n       <use x=\"63.623047\" xlink:href=\"#DejaVuSans-55\"/>\n       <use x=\"127.246094\" xlink:href=\"#DejaVuSans-48\"/>\n       <use x=\"190.869141\" xlink:href=\"#DejaVuSans-60\"/>\n       <use x=\"274.658203\" xlink:href=\"#DejaVuSans-120\"/>\n       <use x=\"333.837891\" xlink:href=\"#DejaVuSans-60\"/>\n       <use x=\"417.626953\" xlink:href=\"#DejaVuSans-32\"/>\n       <use x=\"449.414062\" xlink:href=\"#DejaVuSans-50\"/>\n       <use x=\"513.037109\" xlink:href=\"#DejaVuSans-57\"/>\n       <use x=\"576.660156\" xlink:href=\"#DejaVuSans-48\"/>\n      </g>\n     </g>\n    </g>\n   </g>\n   <g id=\"matplotlib.axis_2\">\n    <g id=\"ytick_1\">\n     <g id=\"line2d_13\">\n      <defs>\n       <path d=\"M 0 0 \nL -3.5 0 \n\" id=\"mf9e1797527\" style=\"stroke:#000000;stroke-width:0.8;\"/>\n      </defs>\n      <g>\n       <use style=\"stroke:#000000;stroke-width:0.8;\" x=\"39.65\" xlink:href=\"#mf9e1797527\" y=\"224.64\"/>\n      </g>\n     </g>\n     <g id=\"text_13\">\n      <!-- 0 -->\n      <g transform=\"translate(26.2875 228.439219)scale(0.1 -0.1)\">\n       <use xlink:href=\"#DejaVuSans-48\"/>\n      </g>\n     </g>\n    </g>\n    <g id=\"ytick_2\">\n     <g id=\"line2d_14\">\n      <g>\n       <use style=\"stroke:#000000;stroke-width:0.8;\" x=\"39.65\" xlink:href=\"#mf9e1797527\" y=\"199.508239\"/>\n      </g>\n     </g>\n     <g id=\"text_14\">\n      <!-- 200 -->\n      <g transform=\"translate(13.5625 203.307457)scale(0.1 -0.1)\">\n       <use xlink:href=\"#DejaVuSans-50\"/>\n       <use x=\"63.623047\" xlink:href=\"#DejaVuSans-48\"/>\n       <use x=\"127.246094\" xlink:href=\"#DejaVuSans-48\"/>\n      </g>\n     </g>\n    </g>\n    <g id=\"ytick_3\">\n     <g id=\"line2d_15\">\n      <g>\n       <use style=\"stroke:#000000;stroke-width:0.8;\" x=\"39.65\" xlink:href=\"#mf9e1797527\" y=\"174.376477\"/>\n      </g>\n     </g>\n     <g id=\"text_15\">\n      <!-- 400 -->\n      <g transform=\"translate(13.5625 178.175696)scale(0.1 -0.1)\">\n       <defs>\n        <path d=\"M 37.796875 64.3125 \nL 12.890625 25.390625 \nL 37.796875 25.390625 \nz\nM 35.203125 72.90625 \nL 47.609375 72.90625 \nL 47.609375 25.390625 \nL 58.015625 25.390625 \nL 58.015625 17.1875 \nL 47.609375 17.1875 \nL 47.609375 0 \nL 37.796875 0 \nL 37.796875 17.1875 \nL 4.890625 17.1875 \nL 4.890625 26.703125 \nz\n\" id=\"DejaVuSans-52\"/>\n       </defs>\n       <use xlink:href=\"#DejaVuSans-52\"/>\n       <use x=\"63.623047\" xlink:href=\"#DejaVuSans-48\"/>\n       <use x=\"127.246094\" xlink:href=\"#DejaVuSans-48\"/>\n      </g>\n     </g>\n    </g>\n    <g id=\"ytick_4\">\n     <g id=\"line2d_16\">\n      <g>\n       <use style=\"stroke:#000000;stroke-width:0.8;\" x=\"39.65\" xlink:href=\"#mf9e1797527\" y=\"149.244716\"/>\n      </g>\n     </g>\n     <g id=\"text_16\">\n      <!-- 600 -->\n      <g transform=\"translate(13.5625 153.043934)scale(0.1 -0.1)\">\n       <defs>\n        <path d=\"M 33.015625 40.375 \nQ 26.375 40.375 22.484375 35.828125 \nQ 18.609375 31.296875 18.609375 23.390625 \nQ 18.609375 15.53125 22.484375 10.953125 \nQ 26.375 6.390625 33.015625 6.390625 \nQ 39.65625 6.390625 43.53125 10.953125 \nQ 47.40625 15.53125 47.40625 23.390625 \nQ 47.40625 31.296875 43.53125 35.828125 \nQ 39.65625 40.375 33.015625 40.375 \nz\nM 52.59375 71.296875 \nL 52.59375 62.3125 \nQ 48.875 64.0625 45.09375 64.984375 \nQ 41.3125 65.921875 37.59375 65.921875 \nQ 27.828125 65.921875 22.671875 59.328125 \nQ 17.53125 52.734375 16.796875 39.40625 \nQ 19.671875 43.65625 24.015625 45.921875 \nQ 28.375 48.1875 33.59375 48.1875 \nQ 44.578125 48.1875 50.953125 41.515625 \nQ 57.328125 34.859375 57.328125 23.390625 \nQ 57.328125 12.15625 50.6875 5.359375 \nQ 44.046875 -1.421875 33.015625 -1.421875 \nQ 20.359375 -1.421875 13.671875 8.265625 \nQ 6.984375 17.96875 6.984375 36.375 \nQ 6.984375 53.65625 15.1875 63.9375 \nQ 23.390625 74.21875 37.203125 74.21875 \nQ 40.921875 74.21875 44.703125 73.484375 \nQ 48.484375 72.75 52.59375 71.296875 \nz\n\" id=\"DejaVuSans-54\"/>\n       </defs>\n       <use xlink:href=\"#DejaVuSans-54\"/>\n       <use x=\"63.623047\" xlink:href=\"#DejaVuSans-48\"/>\n       <use x=\"127.246094\" xlink:href=\"#DejaVuSans-48\"/>\n      </g>\n     </g>\n    </g>\n    <g id=\"ytick_5\">\n     <g id=\"line2d_17\">\n      <g>\n       <use style=\"stroke:#000000;stroke-width:0.8;\" x=\"39.65\" xlink:href=\"#mf9e1797527\" y=\"124.112954\"/>\n      </g>\n     </g>\n     <g id=\"text_17\">\n      <!-- 800 -->\n      <g transform=\"translate(13.5625 127.912173)scale(0.1 -0.1)\">\n       <defs>\n        <path d=\"M 31.78125 34.625 \nQ 24.75 34.625 20.71875 30.859375 \nQ 16.703125 27.09375 16.703125 20.515625 \nQ 16.703125 13.921875 20.71875 10.15625 \nQ 24.75 6.390625 31.78125 6.390625 \nQ 38.8125 6.390625 42.859375 10.171875 \nQ 46.921875 13.96875 46.921875 20.515625 \nQ 46.921875 27.09375 42.890625 30.859375 \nQ 38.875 34.625 31.78125 34.625 \nz\nM 21.921875 38.8125 \nQ 15.578125 40.375 12.03125 44.71875 \nQ 8.5 49.078125 8.5 55.328125 \nQ 8.5 64.0625 14.71875 69.140625 \nQ 20.953125 74.21875 31.78125 74.21875 \nQ 42.671875 74.21875 48.875 69.140625 \nQ 55.078125 64.0625 55.078125 55.328125 \nQ 55.078125 49.078125 51.53125 44.71875 \nQ 48 40.375 41.703125 38.8125 \nQ 48.828125 37.15625 52.796875 32.3125 \nQ 56.78125 27.484375 56.78125 20.515625 \nQ 56.78125 9.90625 50.3125 4.234375 \nQ 43.84375 -1.421875 31.78125 -1.421875 \nQ 19.734375 -1.421875 13.25 4.234375 \nQ 6.78125 9.90625 6.78125 20.515625 \nQ 6.78125 27.484375 10.78125 32.3125 \nQ 14.796875 37.15625 21.921875 38.8125 \nz\nM 18.3125 54.390625 \nQ 18.3125 48.734375 21.84375 45.5625 \nQ 25.390625 42.390625 31.78125 42.390625 \nQ 38.140625 42.390625 41.71875 45.5625 \nQ 45.3125 48.734375 45.3125 54.390625 \nQ 45.3125 60.0625 41.71875 63.234375 \nQ 38.140625 66.40625 31.78125 66.40625 \nQ 25.390625 66.40625 21.84375 63.234375 \nQ 18.3125 60.0625 18.3125 54.390625 \nz\n\" id=\"DejaVuSans-56\"/>\n       </defs>\n       <use xlink:href=\"#DejaVuSans-56\"/>\n       <use x=\"63.623047\" xlink:href=\"#DejaVuSans-48\"/>\n       <use x=\"127.246094\" xlink:href=\"#DejaVuSans-48\"/>\n      </g>\n     </g>\n    </g>\n    <g id=\"ytick_6\">\n     <g id=\"line2d_18\">\n      <g>\n       <use style=\"stroke:#000000;stroke-width:0.8;\" x=\"39.65\" xlink:href=\"#mf9e1797527\" y=\"98.981193\"/>\n      </g>\n     </g>\n     <g id=\"text_18\">\n      <!-- 1000 -->\n      <g transform=\"translate(7.2 102.780412)scale(0.1 -0.1)\">\n       <use xlink:href=\"#DejaVuSans-49\"/>\n       <use x=\"63.623047\" xlink:href=\"#DejaVuSans-48\"/>\n       <use x=\"127.246094\" xlink:href=\"#DejaVuSans-48\"/>\n       <use x=\"190.869141\" xlink:href=\"#DejaVuSans-48\"/>\n      </g>\n     </g>\n    </g>\n    <g id=\"ytick_7\">\n     <g id=\"line2d_19\">\n      <g>\n       <use style=\"stroke:#000000;stroke-width:0.8;\" x=\"39.65\" xlink:href=\"#mf9e1797527\" y=\"73.849431\"/>\n      </g>\n     </g>\n     <g id=\"text_19\">\n      <!-- 1200 -->\n      <g transform=\"translate(7.2 77.64865)scale(0.1 -0.1)\">\n       <use xlink:href=\"#DejaVuSans-49\"/>\n       <use x=\"63.623047\" xlink:href=\"#DejaVuSans-50\"/>\n       <use x=\"127.246094\" xlink:href=\"#DejaVuSans-48\"/>\n       <use x=\"190.869141\" xlink:href=\"#DejaVuSans-48\"/>\n      </g>\n     </g>\n    </g>\n    <g id=\"ytick_8\">\n     <g id=\"line2d_20\">\n      <g>\n       <use style=\"stroke:#000000;stroke-width:0.8;\" x=\"39.65\" xlink:href=\"#mf9e1797527\" y=\"48.71767\"/>\n      </g>\n     </g>\n     <g id=\"text_20\">\n      <!-- 1400 -->\n      <g transform=\"translate(7.2 52.516889)scale(0.1 -0.1)\">\n       <use xlink:href=\"#DejaVuSans-49\"/>\n       <use x=\"63.623047\" xlink:href=\"#DejaVuSans-52\"/>\n       <use x=\"127.246094\" xlink:href=\"#DejaVuSans-48\"/>\n       <use x=\"190.869141\" xlink:href=\"#DejaVuSans-48\"/>\n      </g>\n     </g>\n    </g>\n    <g id=\"ytick_9\">\n     <g id=\"line2d_21\">\n      <g>\n       <use style=\"stroke:#000000;stroke-width:0.8;\" x=\"39.65\" xlink:href=\"#mf9e1797527\" y=\"23.585908\"/>\n      </g>\n     </g>\n     <g id=\"text_21\">\n      <!-- 1600 -->\n      <g transform=\"translate(7.2 27.385127)scale(0.1 -0.1)\">\n       <use xlink:href=\"#DejaVuSans-49\"/>\n       <use x=\"63.623047\" xlink:href=\"#DejaVuSans-54\"/>\n       <use x=\"127.246094\" xlink:href=\"#DejaVuSans-48\"/>\n       <use x=\"190.869141\" xlink:href=\"#DejaVuSans-48\"/>\n      </g>\n     </g>\n    </g>\n   </g>\n   <g id=\"patch_15\">\n    <path d=\"M 39.65 224.64 \nL 39.65 7.2 \n\" style=\"fill:none;stroke:#000000;stroke-linecap:square;stroke-linejoin:miter;stroke-width:0.8;\"/>\n   </g>\n   <g id=\"patch_16\">\n    <path d=\"M 374.45 224.64 \nL 374.45 7.2 \n\" style=\"fill:none;stroke:#000000;stroke-linecap:square;stroke-linejoin:miter;stroke-width:0.8;\"/>\n   </g>\n   <g id=\"patch_17\">\n    <path d=\"M 39.65 224.64 \nL 374.45 224.64 \n\" style=\"fill:none;stroke:#000000;stroke-linecap:square;stroke-linejoin:miter;stroke-width:0.8;\"/>\n   </g>\n   <g id=\"patch_18\">\n    <path d=\"M 39.65 7.2 \nL 374.45 7.2 \n\" style=\"fill:none;stroke:#000000;stroke-linecap:square;stroke-linejoin:miter;stroke-width:0.8;\"/>\n   </g>\n  </g>\n </g>\n <defs>\n  <clipPath id=\"pbc83e55d03\">\n   <rect height=\"217.44\" width=\"334.8\" x=\"39.65\" y=\"7.2\"/>\n  </clipPath>\n </defs>\n</svg>\n",
      "image/png": "[encoded data removed]"
     },
     "metadata": {
      "needs_background": "light"
     }
    }
   ],
   "source": [
    "plt.clf()\n",
    "plt.bar(x, y)\n",
    "plt.show()"
   ]
  },
  {
   "source": [
    "- 수치 그대로 사용\n",
    "- 정규화, 표준화 필요"
   ],
   "cell_type": "markdown",
   "metadata": {}
  },
  {
   "source": [
    "### bmi"
   ],
   "cell_type": "markdown",
   "metadata": {}
  },
  {
   "cell_type": "code",
   "execution_count": 84,
   "metadata": {},
   "outputs": [
    {
     "output_type": "execute_result",
     "data": {
      "text/plain": [
       "201"
      ]
     },
     "metadata": {},
     "execution_count": 84
    }
   ],
   "source": [
    "data[\"bmi\"].isna().sum()"
   ]
  },
  {
   "cell_type": "code",
   "execution_count": 134,
   "metadata": {},
   "outputs": [
    {
     "output_type": "execute_result",
     "data": {
      "text/plain": [
       "3.9334637964774952"
      ]
     },
     "metadata": {},
     "execution_count": 134
    }
   ],
   "source": [
    "data[\"bmi\"].isna().sum()/len(data)*100"
   ]
  },
  {
   "cell_type": "code",
   "execution_count": 86,
   "metadata": {},
   "outputs": [
    {
     "output_type": "execute_result",
     "data": {
      "text/plain": [
       "10.3"
      ]
     },
     "metadata": {},
     "execution_count": 86
    }
   ],
   "source": [
    "data[\"bmi\"].min()"
   ]
  },
  {
   "cell_type": "code",
   "execution_count": 87,
   "metadata": {},
   "outputs": [
    {
     "output_type": "execute_result",
     "data": {
      "text/plain": [
       "97.6"
      ]
     },
     "metadata": {},
     "execution_count": 87
    }
   ],
   "source": [
    "data[\"bmi\"].max()"
   ]
  },
  {
   "cell_type": "code",
   "execution_count": 90,
   "metadata": {},
   "outputs": [
    {
     "output_type": "stream",
     "name": "stdout",
     "text": [
      "50<x<60 \t 66\n60<x<70 \t 9\n70<x<80 \t 2\n80<x<90 \t None\n"
     ]
    }
   ],
   "source": [
    "x, y = [], []\n",
    "for i in range(50, 90, 10):\n",
    "    x_value = str(i) + \"<x<\" + str(i + 10)\n",
    "    x.append(x_value)\n",
    "\n",
    "    try:\n",
    "        ranged_data = (i <= data[\"bmi\"]) & (data[\"bmi\"] < i + 10)\n",
    "        counts = ranged_data.value_counts()\n",
    "        true_index = counts.index.tolist().index(True)\n",
    "        y_value = counts.tolist()[true_index]\n",
    "        y.append(y_value)\n",
    "        \n",
    "        print(x_value, \"\\t\", y_value)\n",
    "\n",
    "    except ValueError:\n",
    "        y.append(0)\n",
    "\n",
    "        print(x_value, \"\\t\", \"None\")\n",
    "        continue"
   ]
  },
  {
   "cell_type": "code",
   "execution_count": 91,
   "metadata": {},
   "outputs": [
    {
     "output_type": "display_data",
     "data": {
      "text/plain": "<Figure size 432x288 with 1 Axes>",
      "image/svg+xml": "<?xml version=\"1.0\" encoding=\"utf-8\" standalone=\"no\"?>\n<!DOCTYPE svg PUBLIC \"-//W3C//DTD SVG 1.1//EN\"\n  \"http://www.w3.org/Graphics/SVG/1.1/DTD/svg11.dtd\">\n<!-- Created with matplotlib (https://matplotlib.org/) -->\n<svg height=\"248.518125pt\" version=\"1.1\" viewBox=\"0 0 368.925 248.518125\" width=\"368.925pt\" xmlns=\"http://www.w3.org/2000/svg\" xmlns:xlink=\"http://www.w3.org/1999/xlink\">\n <metadata>\n  <rdf:RDF xmlns:cc=\"http://creativecommons.org/ns#\" xmlns:dc=\"http://purl.org/dc/elements/1.1/\" xmlns:rdf=\"http://www.w3.org/1999/02/22-rdf-syntax-ns#\">\n   <cc:Work>\n    <dc:type rdf:resource=\"http://purl.org/dc/dcmitype/StillImage\"/>\n    <dc:date>2021-03-17T11:24:40.445881</dc:date>\n    <dc:format>image/svg+xml</dc:format>\n    <dc:creator>\n     <cc:Agent>\n      <dc:title>Matplotlib v3.3.4, https://matplotlib.org/</dc:title>\n     </cc:Agent>\n    </dc:creator>\n   </cc:Work>\n  </rdf:RDF>\n </metadata>\n <defs>\n  <style type=\"text/css\">*{stroke-linecap:butt;stroke-linejoin:round;}</style>\n </defs>\n <g id=\"figure_1\">\n  <g id=\"patch_1\">\n   <path d=\"M -0 248.518125 \nL 368.925 248.518125 \nL 368.925 0 \nL -0 0 \nz\n\" style=\"fill:none;\"/>\n  </g>\n  <g id=\"axes_1\">\n   <g id=\"patch_2\">\n    <path d=\"M 26.925 224.64 \nL 361.725 224.64 \nL 361.725 7.2 \nL 26.925 7.2 \nz\n\" style=\"fill:#ffffff;\"/>\n   </g>\n   <g id=\"patch_3\">\n    <path clip-path=\"url(#p5c11ac7763)\" d=\"M 42.143182 224.64 \nL 106.219737 224.64 \nL 106.219737 17.554286 \nL 42.143182 17.554286 \nz\n\" style=\"fill:#1f77b4;\"/>\n   </g>\n   <g id=\"patch_4\">\n    <path clip-path=\"url(#p5c11ac7763)\" d=\"M 122.238876 224.64 \nL 186.315431 224.64 \nL 186.315431 196.401039 \nL 122.238876 196.401039 \nz\n\" style=\"fill:#1f77b4;\"/>\n   </g>\n   <g id=\"patch_5\">\n    <path clip-path=\"url(#p5c11ac7763)\" d=\"M 202.334569 224.64 \nL 266.411124 224.64 \nL 266.411124 218.364675 \nL 202.334569 218.364675 \nz\n\" style=\"fill:#1f77b4;\"/>\n   </g>\n   <g id=\"patch_6\">\n    <path clip-path=\"url(#p5c11ac7763)\" d=\"M 282.430263 224.64 \nL 346.506818 224.64 \nL 346.506818 224.64 \nL 282.430263 224.64 \nz\n\" style=\"fill:#1f77b4;\"/>\n   </g>\n   <g id=\"matplotlib.axis_1\">\n    <g id=\"xtick_1\">\n     <g id=\"line2d_1\">\n      <defs>\n       <path d=\"M 0 0 \nL 0 3.5 \n\" id=\"m7487432888\" style=\"stroke:#000000;stroke-width:0.8;\"/>\n      </defs>\n      <g>\n       <use style=\"stroke:#000000;stroke-width:0.8;\" x=\"74.181459\" xlink:href=\"#m7487432888\" y=\"224.64\"/>\n      </g>\n     </g>\n     <g id=\"text_1\">\n      <!-- 50&lt;x&lt;60 -->\n      <g transform=\"translate(50.117397 239.238437)scale(0.1 -0.1)\">\n       <defs>\n        <path d=\"M 10.796875 72.90625 \nL 49.515625 72.90625 \nL 49.515625 64.59375 \nL 19.828125 64.59375 \nL 19.828125 46.734375 \nQ 21.96875 47.46875 24.109375 47.828125 \nQ 26.265625 48.1875 28.421875 48.1875 \nQ 40.625 48.1875 47.75 41.5 \nQ 54.890625 34.8125 54.890625 23.390625 \nQ 54.890625 11.625 47.5625 5.09375 \nQ 40.234375 -1.421875 26.90625 -1.421875 \nQ 22.3125 -1.421875 17.546875 -0.640625 \nQ 12.796875 0.140625 7.71875 1.703125 \nL 7.71875 11.625 \nQ 12.109375 9.234375 16.796875 8.0625 \nQ 21.484375 6.890625 26.703125 6.890625 \nQ 35.15625 6.890625 40.078125 11.328125 \nQ 45.015625 15.765625 45.015625 23.390625 \nQ 45.015625 31 40.078125 35.4375 \nQ 35.15625 39.890625 26.703125 39.890625 \nQ 22.75 39.890625 18.8125 39.015625 \nQ 14.890625 38.140625 10.796875 36.28125 \nz\n\" id=\"DejaVuSans-53\"/>\n        <path d=\"M 31.78125 66.40625 \nQ 24.171875 66.40625 20.328125 58.90625 \nQ 16.5 51.421875 16.5 36.375 \nQ 16.5 21.390625 20.328125 13.890625 \nQ 24.171875 6.390625 31.78125 6.390625 \nQ 39.453125 6.390625 43.28125 13.890625 \nQ 47.125 21.390625 47.125 36.375 \nQ 47.125 51.421875 43.28125 58.90625 \nQ 39.453125 66.40625 31.78125 66.40625 \nz\nM 31.78125 74.21875 \nQ 44.046875 74.21875 50.515625 64.515625 \nQ 56.984375 54.828125 56.984375 36.375 \nQ 56.984375 17.96875 50.515625 8.265625 \nQ 44.046875 -1.421875 31.78125 -1.421875 \nQ 19.53125 -1.421875 13.0625 8.265625 \nQ 6.59375 17.96875 6.59375 36.375 \nQ 6.59375 54.828125 13.0625 64.515625 \nQ 19.53125 74.21875 31.78125 74.21875 \nz\n\" id=\"DejaVuSans-48\"/>\n        <path d=\"M 73.1875 49.21875 \nL 22.796875 31.296875 \nL 73.1875 13.484375 \nL 73.1875 4.59375 \nL 10.59375 27.296875 \nL 10.59375 35.40625 \nL 73.1875 58.109375 \nz\n\" id=\"DejaVuSans-60\"/>\n        <path d=\"M 54.890625 54.6875 \nL 35.109375 28.078125 \nL 55.90625 0 \nL 45.3125 0 \nL 29.390625 21.484375 \nL 13.484375 0 \nL 2.875 0 \nL 24.125 28.609375 \nL 4.6875 54.6875 \nL 15.28125 54.6875 \nL 29.78125 35.203125 \nL 44.28125 54.6875 \nz\n\" id=\"DejaVuSans-120\"/>\n        <path d=\"M 33.015625 40.375 \nQ 26.375 40.375 22.484375 35.828125 \nQ 18.609375 31.296875 18.609375 23.390625 \nQ 18.609375 15.53125 22.484375 10.953125 \nQ 26.375 6.390625 33.015625 6.390625 \nQ 39.65625 6.390625 43.53125 10.953125 \nQ 47.40625 15.53125 47.40625 23.390625 \nQ 47.40625 31.296875 43.53125 35.828125 \nQ 39.65625 40.375 33.015625 40.375 \nz\nM 52.59375 71.296875 \nL 52.59375 62.3125 \nQ 48.875 64.0625 45.09375 64.984375 \nQ 41.3125 65.921875 37.59375 65.921875 \nQ 27.828125 65.921875 22.671875 59.328125 \nQ 17.53125 52.734375 16.796875 39.40625 \nQ 19.671875 43.65625 24.015625 45.921875 \nQ 28.375 48.1875 33.59375 48.1875 \nQ 44.578125 48.1875 50.953125 41.515625 \nQ 57.328125 34.859375 57.328125 23.390625 \nQ 57.328125 12.15625 50.6875 5.359375 \nQ 44.046875 -1.421875 33.015625 -1.421875 \nQ 20.359375 -1.421875 13.671875 8.265625 \nQ 6.984375 17.96875 6.984375 36.375 \nQ 6.984375 53.65625 15.1875 63.9375 \nQ 23.390625 74.21875 37.203125 74.21875 \nQ 40.921875 74.21875 44.703125 73.484375 \nQ 48.484375 72.75 52.59375 71.296875 \nz\n\" id=\"DejaVuSans-54\"/>\n       </defs>\n       <use xlink:href=\"#DejaVuSans-53\"/>\n       <use x=\"63.623047\" xlink:href=\"#DejaVuSans-48\"/>\n       <use x=\"127.246094\" xlink:href=\"#DejaVuSans-60\"/>\n       <use x=\"211.035156\" xlink:href=\"#DejaVuSans-120\"/>\n       <use x=\"270.214844\" xlink:href=\"#DejaVuSans-60\"/>\n       <use x=\"354.003906\" xlink:href=\"#DejaVuSans-54\"/>\n       <use x=\"417.626953\" xlink:href=\"#DejaVuSans-48\"/>\n      </g>\n     </g>\n    </g>\n    <g id=\"xtick_2\">\n     <g id=\"line2d_2\">\n      <g>\n       <use style=\"stroke:#000000;stroke-width:0.8;\" x=\"154.277153\" xlink:href=\"#m7487432888\" y=\"224.64\"/>\n      </g>\n     </g>\n     <g id=\"text_2\">\n      <!-- 60&lt;x&lt;70 -->\n      <g transform=\"translate(130.213091 239.238437)scale(0.1 -0.1)\">\n       <defs>\n        <path d=\"M 8.203125 72.90625 \nL 55.078125 72.90625 \nL 55.078125 68.703125 \nL 28.609375 0 \nL 18.3125 0 \nL 43.21875 64.59375 \nL 8.203125 64.59375 \nz\n\" id=\"DejaVuSans-55\"/>\n       </defs>\n       <use xlink:href=\"#DejaVuSans-54\"/>\n       <use x=\"63.623047\" xlink:href=\"#DejaVuSans-48\"/>\n       <use x=\"127.246094\" xlink:href=\"#DejaVuSans-60\"/>\n       <use x=\"211.035156\" xlink:href=\"#DejaVuSans-120\"/>\n       <use x=\"270.214844\" xlink:href=\"#DejaVuSans-60\"/>\n       <use x=\"354.003906\" xlink:href=\"#DejaVuSans-55\"/>\n       <use x=\"417.626953\" xlink:href=\"#DejaVuSans-48\"/>\n      </g>\n     </g>\n    </g>\n    <g id=\"xtick_3\">\n     <g id=\"line2d_3\">\n      <g>\n       <use style=\"stroke:#000000;stroke-width:0.8;\" x=\"234.372847\" xlink:href=\"#m7487432888\" y=\"224.64\"/>\n      </g>\n     </g>\n     <g id=\"text_3\">\n      <!-- 70&lt;x&lt;80 -->\n      <g transform=\"translate(210.308784 239.238437)scale(0.1 -0.1)\">\n       <defs>\n        <path d=\"M 31.78125 34.625 \nQ 24.75 34.625 20.71875 30.859375 \nQ 16.703125 27.09375 16.703125 20.515625 \nQ 16.703125 13.921875 20.71875 10.15625 \nQ 24.75 6.390625 31.78125 6.390625 \nQ 38.8125 6.390625 42.859375 10.171875 \nQ 46.921875 13.96875 46.921875 20.515625 \nQ 46.921875 27.09375 42.890625 30.859375 \nQ 38.875 34.625 31.78125 34.625 \nz\nM 21.921875 38.8125 \nQ 15.578125 40.375 12.03125 44.71875 \nQ 8.5 49.078125 8.5 55.328125 \nQ 8.5 64.0625 14.71875 69.140625 \nQ 20.953125 74.21875 31.78125 74.21875 \nQ 42.671875 74.21875 48.875 69.140625 \nQ 55.078125 64.0625 55.078125 55.328125 \nQ 55.078125 49.078125 51.53125 44.71875 \nQ 48 40.375 41.703125 38.8125 \nQ 48.828125 37.15625 52.796875 32.3125 \nQ 56.78125 27.484375 56.78125 20.515625 \nQ 56.78125 9.90625 50.3125 4.234375 \nQ 43.84375 -1.421875 31.78125 -1.421875 \nQ 19.734375 -1.421875 13.25 4.234375 \nQ 6.78125 9.90625 6.78125 20.515625 \nQ 6.78125 27.484375 10.78125 32.3125 \nQ 14.796875 37.15625 21.921875 38.8125 \nz\nM 18.3125 54.390625 \nQ 18.3125 48.734375 21.84375 45.5625 \nQ 25.390625 42.390625 31.78125 42.390625 \nQ 38.140625 42.390625 41.71875 45.5625 \nQ 45.3125 48.734375 45.3125 54.390625 \nQ 45.3125 60.0625 41.71875 63.234375 \nQ 38.140625 66.40625 31.78125 66.40625 \nQ 25.390625 66.40625 21.84375 63.234375 \nQ 18.3125 60.0625 18.3125 54.390625 \nz\n\" id=\"DejaVuSans-56\"/>\n       </defs>\n       <use xlink:href=\"#DejaVuSans-55\"/>\n       <use x=\"63.623047\" xlink:href=\"#DejaVuSans-48\"/>\n       <use x=\"127.246094\" xlink:href=\"#DejaVuSans-60\"/>\n       <use x=\"211.035156\" xlink:href=\"#DejaVuSans-120\"/>\n       <use x=\"270.214844\" xlink:href=\"#DejaVuSans-60\"/>\n       <use x=\"354.003906\" xlink:href=\"#DejaVuSans-56\"/>\n       <use x=\"417.626953\" xlink:href=\"#DejaVuSans-48\"/>\n      </g>\n     </g>\n    </g>\n    <g id=\"xtick_4\">\n     <g id=\"line2d_4\">\n      <g>\n       <use style=\"stroke:#000000;stroke-width:0.8;\" x=\"314.468541\" xlink:href=\"#m7487432888\" y=\"224.64\"/>\n      </g>\n     </g>\n     <g id=\"text_4\">\n      <!-- 80&lt;x&lt;90 -->\n      <g transform=\"translate(290.404478 239.238437)scale(0.1 -0.1)\">\n       <defs>\n        <path d=\"M 10.984375 1.515625 \nL 10.984375 10.5 \nQ 14.703125 8.734375 18.5 7.8125 \nQ 22.3125 6.890625 25.984375 6.890625 \nQ 35.75 6.890625 40.890625 13.453125 \nQ 46.046875 20.015625 46.78125 33.40625 \nQ 43.953125 29.203125 39.59375 26.953125 \nQ 35.25 24.703125 29.984375 24.703125 \nQ 19.046875 24.703125 12.671875 31.3125 \nQ 6.296875 37.9375 6.296875 49.421875 \nQ 6.296875 60.640625 12.9375 67.421875 \nQ 19.578125 74.21875 30.609375 74.21875 \nQ 43.265625 74.21875 49.921875 64.515625 \nQ 56.59375 54.828125 56.59375 36.375 \nQ 56.59375 19.140625 48.40625 8.859375 \nQ 40.234375 -1.421875 26.421875 -1.421875 \nQ 22.703125 -1.421875 18.890625 -0.6875 \nQ 15.09375 0.046875 10.984375 1.515625 \nz\nM 30.609375 32.421875 \nQ 37.25 32.421875 41.125 36.953125 \nQ 45.015625 41.5 45.015625 49.421875 \nQ 45.015625 57.28125 41.125 61.84375 \nQ 37.25 66.40625 30.609375 66.40625 \nQ 23.96875 66.40625 20.09375 61.84375 \nQ 16.21875 57.28125 16.21875 49.421875 \nQ 16.21875 41.5 20.09375 36.953125 \nQ 23.96875 32.421875 30.609375 32.421875 \nz\n\" id=\"DejaVuSans-57\"/>\n       </defs>\n       <use xlink:href=\"#DejaVuSans-56\"/>\n       <use x=\"63.623047\" xlink:href=\"#DejaVuSans-48\"/>\n       <use x=\"127.246094\" xlink:href=\"#DejaVuSans-60\"/>\n       <use x=\"211.035156\" xlink:href=\"#DejaVuSans-120\"/>\n       <use x=\"270.214844\" xlink:href=\"#DejaVuSans-60\"/>\n       <use x=\"354.003906\" xlink:href=\"#DejaVuSans-57\"/>\n       <use x=\"417.626953\" xlink:href=\"#DejaVuSans-48\"/>\n      </g>\n     </g>\n    </g>\n   </g>\n   <g id=\"matplotlib.axis_2\">\n    <g id=\"ytick_1\">\n     <g id=\"line2d_5\">\n      <defs>\n       <path d=\"M 0 0 \nL -3.5 0 \n\" id=\"m6e852684e4\" style=\"stroke:#000000;stroke-width:0.8;\"/>\n      </defs>\n      <g>\n       <use style=\"stroke:#000000;stroke-width:0.8;\" x=\"26.925\" xlink:href=\"#m6e852684e4\" y=\"224.64\"/>\n      </g>\n     </g>\n     <g id=\"text_5\">\n      <!-- 0 -->\n      <g transform=\"translate(13.5625 228.439219)scale(0.1 -0.1)\">\n       <use xlink:href=\"#DejaVuSans-48\"/>\n      </g>\n     </g>\n    </g>\n    <g id=\"ytick_2\">\n     <g id=\"line2d_6\">\n      <g>\n       <use style=\"stroke:#000000;stroke-width:0.8;\" x=\"26.925\" xlink:href=\"#m6e852684e4\" y=\"193.263377\"/>\n      </g>\n     </g>\n     <g id=\"text_6\">\n      <!-- 10 -->\n      <g transform=\"translate(7.2 197.062595)scale(0.1 -0.1)\">\n       <defs>\n        <path d=\"M 12.40625 8.296875 \nL 28.515625 8.296875 \nL 28.515625 63.921875 \nL 10.984375 60.40625 \nL 10.984375 69.390625 \nL 28.421875 72.90625 \nL 38.28125 72.90625 \nL 38.28125 8.296875 \nL 54.390625 8.296875 \nL 54.390625 0 \nL 12.40625 0 \nz\n\" id=\"DejaVuSans-49\"/>\n       </defs>\n       <use xlink:href=\"#DejaVuSans-49\"/>\n       <use x=\"63.623047\" xlink:href=\"#DejaVuSans-48\"/>\n      </g>\n     </g>\n    </g>\n    <g id=\"ytick_3\">\n     <g id=\"line2d_7\">\n      <g>\n       <use style=\"stroke:#000000;stroke-width:0.8;\" x=\"26.925\" xlink:href=\"#m6e852684e4\" y=\"161.886753\"/>\n      </g>\n     </g>\n     <g id=\"text_7\">\n      <!-- 20 -->\n      <g transform=\"translate(7.2 165.685972)scale(0.1 -0.1)\">\n       <defs>\n        <path d=\"M 19.1875 8.296875 \nL 53.609375 8.296875 \nL 53.609375 0 \nL 7.328125 0 \nL 7.328125 8.296875 \nQ 12.9375 14.109375 22.625 23.890625 \nQ 32.328125 33.6875 34.8125 36.53125 \nQ 39.546875 41.84375 41.421875 45.53125 \nQ 43.3125 49.21875 43.3125 52.78125 \nQ 43.3125 58.59375 39.234375 62.25 \nQ 35.15625 65.921875 28.609375 65.921875 \nQ 23.96875 65.921875 18.8125 64.3125 \nQ 13.671875 62.703125 7.8125 59.421875 \nL 7.8125 69.390625 \nQ 13.765625 71.78125 18.9375 73 \nQ 24.125 74.21875 28.421875 74.21875 \nQ 39.75 74.21875 46.484375 68.546875 \nQ 53.21875 62.890625 53.21875 53.421875 \nQ 53.21875 48.921875 51.53125 44.890625 \nQ 49.859375 40.875 45.40625 35.40625 \nQ 44.1875 33.984375 37.640625 27.21875 \nQ 31.109375 20.453125 19.1875 8.296875 \nz\n\" id=\"DejaVuSans-50\"/>\n       </defs>\n       <use xlink:href=\"#DejaVuSans-50\"/>\n       <use x=\"63.623047\" xlink:href=\"#DejaVuSans-48\"/>\n      </g>\n     </g>\n    </g>\n    <g id=\"ytick_4\">\n     <g id=\"line2d_8\">\n      <g>\n       <use style=\"stroke:#000000;stroke-width:0.8;\" x=\"26.925\" xlink:href=\"#m6e852684e4\" y=\"130.51013\"/>\n      </g>\n     </g>\n     <g id=\"text_8\">\n      <!-- 30 -->\n      <g transform=\"translate(7.2 134.309349)scale(0.1 -0.1)\">\n       <defs>\n        <path d=\"M 40.578125 39.3125 \nQ 47.65625 37.796875 51.625 33 \nQ 55.609375 28.21875 55.609375 21.1875 \nQ 55.609375 10.40625 48.1875 4.484375 \nQ 40.765625 -1.421875 27.09375 -1.421875 \nQ 22.515625 -1.421875 17.65625 -0.515625 \nQ 12.796875 0.390625 7.625 2.203125 \nL 7.625 11.71875 \nQ 11.71875 9.328125 16.59375 8.109375 \nQ 21.484375 6.890625 26.8125 6.890625 \nQ 36.078125 6.890625 40.9375 10.546875 \nQ 45.796875 14.203125 45.796875 21.1875 \nQ 45.796875 27.640625 41.28125 31.265625 \nQ 36.765625 34.90625 28.71875 34.90625 \nL 20.21875 34.90625 \nL 20.21875 43.015625 \nL 29.109375 43.015625 \nQ 36.375 43.015625 40.234375 45.921875 \nQ 44.09375 48.828125 44.09375 54.296875 \nQ 44.09375 59.90625 40.109375 62.90625 \nQ 36.140625 65.921875 28.71875 65.921875 \nQ 24.65625 65.921875 20.015625 65.03125 \nQ 15.375 64.15625 9.8125 62.3125 \nL 9.8125 71.09375 \nQ 15.4375 72.65625 20.34375 73.4375 \nQ 25.25 74.21875 29.59375 74.21875 \nQ 40.828125 74.21875 47.359375 69.109375 \nQ 53.90625 64.015625 53.90625 55.328125 \nQ 53.90625 49.265625 50.4375 45.09375 \nQ 46.96875 40.921875 40.578125 39.3125 \nz\n\" id=\"DejaVuSans-51\"/>\n       </defs>\n       <use xlink:href=\"#DejaVuSans-51\"/>\n       <use x=\"63.623047\" xlink:href=\"#DejaVuSans-48\"/>\n      </g>\n     </g>\n    </g>\n    <g id=\"ytick_5\">\n     <g id=\"line2d_9\">\n      <g>\n       <use style=\"stroke:#000000;stroke-width:0.8;\" x=\"26.925\" xlink:href=\"#m6e852684e4\" y=\"99.133506\"/>\n      </g>\n     </g>\n     <g id=\"text_9\">\n      <!-- 40 -->\n      <g transform=\"translate(7.2 102.932725)scale(0.1 -0.1)\">\n       <defs>\n        <path d=\"M 37.796875 64.3125 \nL 12.890625 25.390625 \nL 37.796875 25.390625 \nz\nM 35.203125 72.90625 \nL 47.609375 72.90625 \nL 47.609375 25.390625 \nL 58.015625 25.390625 \nL 58.015625 17.1875 \nL 47.609375 17.1875 \nL 47.609375 0 \nL 37.796875 0 \nL 37.796875 17.1875 \nL 4.890625 17.1875 \nL 4.890625 26.703125 \nz\n\" id=\"DejaVuSans-52\"/>\n       </defs>\n       <use xlink:href=\"#DejaVuSans-52\"/>\n       <use x=\"63.623047\" xlink:href=\"#DejaVuSans-48\"/>\n      </g>\n     </g>\n    </g>\n    <g id=\"ytick_6\">\n     <g id=\"line2d_10\">\n      <g>\n       <use style=\"stroke:#000000;stroke-width:0.8;\" x=\"26.925\" xlink:href=\"#m6e852684e4\" y=\"67.756883\"/>\n      </g>\n     </g>\n     <g id=\"text_10\">\n      <!-- 50 -->\n      <g transform=\"translate(7.2 71.556102)scale(0.1 -0.1)\">\n       <use xlink:href=\"#DejaVuSans-53\"/>\n       <use x=\"63.623047\" xlink:href=\"#DejaVuSans-48\"/>\n      </g>\n     </g>\n    </g>\n    <g id=\"ytick_7\">\n     <g id=\"line2d_11\">\n      <g>\n       <use style=\"stroke:#000000;stroke-width:0.8;\" x=\"26.925\" xlink:href=\"#m6e852684e4\" y=\"36.38026\"/>\n      </g>\n     </g>\n     <g id=\"text_11\">\n      <!-- 60 -->\n      <g transform=\"translate(7.2 40.179478)scale(0.1 -0.1)\">\n       <use xlink:href=\"#DejaVuSans-54\"/>\n       <use x=\"63.623047\" xlink:href=\"#DejaVuSans-48\"/>\n      </g>\n     </g>\n    </g>\n   </g>\n   <g id=\"patch_7\">\n    <path d=\"M 26.925 224.64 \nL 26.925 7.2 \n\" style=\"fill:none;stroke:#000000;stroke-linecap:square;stroke-linejoin:miter;stroke-width:0.8;\"/>\n   </g>\n   <g id=\"patch_8\">\n    <path d=\"M 361.725 224.64 \nL 361.725 7.2 \n\" style=\"fill:none;stroke:#000000;stroke-linecap:square;stroke-linejoin:miter;stroke-width:0.8;\"/>\n   </g>\n   <g id=\"patch_9\">\n    <path d=\"M 26.925 224.64 \nL 361.725 224.64 \n\" style=\"fill:none;stroke:#000000;stroke-linecap:square;stroke-linejoin:miter;stroke-width:0.8;\"/>\n   </g>\n   <g id=\"patch_10\">\n    <path d=\"M 26.925 7.2 \nL 361.725 7.2 \n\" style=\"fill:none;stroke:#000000;stroke-linecap:square;stroke-linejoin:miter;stroke-width:0.8;\"/>\n   </g>\n  </g>\n </g>\n <defs>\n  <clipPath id=\"p5c11ac7763\">\n   <rect height=\"217.44\" width=\"334.8\" x=\"26.925\" y=\"7.2\"/>\n  </clipPath>\n </defs>\n</svg>\n",
      "image/png": "[encoded data removed]"
     },
     "metadata": {
      "needs_background": "light"
     }
    }
   ],
   "source": [
    "plt.clf()\n",
    "plt.bar(x, y)\n",
    "plt.show()"
   ]
  },
  {
   "source": [
    "- Nan값 처리 필요\n",
    "- 있는 수치 그대로 사용\n",
    "- 정규화, 표준화 필요"
   ],
   "cell_type": "markdown",
   "metadata": {}
  },
  {
   "source": [
    "### smoking_status"
   ],
   "cell_type": "markdown",
   "metadata": {}
  },
  {
   "cell_type": "code",
   "execution_count": 99,
   "metadata": {},
   "outputs": [
    {
     "output_type": "execute_result",
     "data": {
      "text/plain": [
       "0"
      ]
     },
     "metadata": {},
     "execution_count": 99
    }
   ],
   "source": [
    "data[\"smoking_status\"].isna().sum()"
   ]
  },
  {
   "cell_type": "code",
   "execution_count": 98,
   "metadata": {},
   "outputs": [
    {
     "output_type": "execute_result",
     "data": {
      "text/plain": [
       "never smoked       1892\n",
       "Unknown            1544\n",
       "formerly smoked     885\n",
       "smokes              789\n",
       "Name: smoking_status, dtype: int64"
      ]
     },
     "metadata": {},
     "execution_count": 98
    }
   ],
   "source": [
    "data[\"smoking_status\"].value_counts()"
   ]
  },
  {
   "cell_type": "code",
   "execution_count": 135,
   "metadata": {},
   "outputs": [
    {
     "output_type": "execute_result",
     "data": {
      "text/plain": [
       "30.21526418786693"
      ]
     },
     "metadata": {},
     "execution_count": 135
    }
   ],
   "source": [
    "1544 / len(data) * 100"
   ]
  },
  {
   "source": [
    "- 범주형 처리\n",
    "- Unknown을 어떻게 처리할지?"
   ],
   "cell_type": "markdown",
   "metadata": {}
  },
  {
   "source": [
    "### stroke"
   ],
   "cell_type": "markdown",
   "metadata": {}
  },
  {
   "cell_type": "code",
   "execution_count": 101,
   "metadata": {},
   "outputs": [
    {
     "output_type": "execute_result",
     "data": {
      "text/plain": [
       "0"
      ]
     },
     "metadata": {},
     "execution_count": 101
    }
   ],
   "source": [
    "data[\"stroke\"].isna().sum()"
   ]
  },
  {
   "cell_type": "code",
   "execution_count": 141,
   "metadata": {},
   "outputs": [
    {
     "output_type": "execute_result",
     "data": {
      "text/plain": [
       "0    4861\n",
       "1     249\n",
       "Name: stroke, dtype: int64"
      ]
     },
     "metadata": {},
     "execution_count": 141
    }
   ],
   "source": [
    "stroke_count = data[\"stroke\"].value_counts()\n",
    "stroke_count"
   ]
  },
  {
   "cell_type": "code",
   "execution_count": 142,
   "metadata": {},
   "outputs": [
    {
     "output_type": "execute_result",
     "data": {
      "text/plain": [
       "19.522088353413654"
      ]
     },
     "metadata": {},
     "execution_count": 142
    }
   ],
   "source": [
    "4861 / 249"
   ]
  },
  {
   "cell_type": "code",
   "execution_count": 139,
   "metadata": {},
   "outputs": [],
   "source": [
    "x = stroke_count.index.tolist()\n",
    "y = stroke_count.tolist()"
   ]
  },
  {
   "cell_type": "code",
   "execution_count": 140,
   "metadata": {},
   "outputs": [
    {
     "output_type": "display_data",
     "data": {
      "text/plain": "<Figure size 432x288 with 1 Axes>",
      "image/svg+xml": "<?xml version=\"1.0\" encoding=\"utf-8\" standalone=\"no\"?>\n<!DOCTYPE svg PUBLIC \"-//W3C//DTD SVG 1.1//EN\"\n  \"http://www.w3.org/Graphics/SVG/1.1/DTD/svg11.dtd\">\n<!-- Created with matplotlib (https://matplotlib.org/) -->\n<svg height=\"248.518125pt\" version=\"1.1\" viewBox=\"0 0 381.65 248.518125\" width=\"381.65pt\" xmlns=\"http://www.w3.org/2000/svg\" xmlns:xlink=\"http://www.w3.org/1999/xlink\">\n <metadata>\n  <rdf:RDF xmlns:cc=\"http://creativecommons.org/ns#\" xmlns:dc=\"http://purl.org/dc/elements/1.1/\" xmlns:rdf=\"http://www.w3.org/1999/02/22-rdf-syntax-ns#\">\n   <cc:Work>\n    <dc:type rdf:resource=\"http://purl.org/dc/dcmitype/StillImage\"/>\n    <dc:date>2021-03-17T17:24:16.485741</dc:date>\n    <dc:format>image/svg+xml</dc:format>\n    <dc:creator>\n     <cc:Agent>\n      <dc:title>Matplotlib v3.3.4, https://matplotlib.org/</dc:title>\n     </cc:Agent>\n    </dc:creator>\n   </cc:Work>\n  </rdf:RDF>\n </metadata>\n <defs>\n  <style type=\"text/css\">*{stroke-linecap:butt;stroke-linejoin:round;}</style>\n </defs>\n <g id=\"figure_1\">\n  <g id=\"patch_1\">\n   <path d=\"M -0 248.518125 \nL 381.65 248.518125 \nL 381.65 0 \nL -0 0 \nz\n\" style=\"fill:none;\"/>\n  </g>\n  <g id=\"axes_1\">\n   <g id=\"patch_2\">\n    <path d=\"M 39.65 224.64 \nL 374.45 224.64 \nL 374.45 7.2 \nL 39.65 7.2 \nz\n\" style=\"fill:#ffffff;\"/>\n   </g>\n   <g id=\"patch_3\">\n    <path clip-path=\"url(#p0aed571fe2)\" d=\"M 54.868182 224.64 \nL 190.140909 224.64 \nL 190.140909 17.554286 \nL 54.868182 17.554286 \nz\n\" style=\"fill:#1f77b4;\"/>\n   </g>\n   <g id=\"patch_4\">\n    <path clip-path=\"url(#p0aed571fe2)\" d=\"M 223.959091 224.64 \nL 359.231818 224.64 \nL 359.231818 214.032236 \nL 223.959091 214.032236 \nz\n\" style=\"fill:#1f77b4;\"/>\n   </g>\n   <g id=\"matplotlib.axis_1\">\n    <g id=\"xtick_1\">\n     <g id=\"line2d_1\">\n      <defs>\n       <path d=\"M 0 0 \nL 0 3.5 \n\" id=\"mfd8851e001\" style=\"stroke:#000000;stroke-width:0.8;\"/>\n      </defs>\n      <g>\n       <use style=\"stroke:#000000;stroke-width:0.8;\" x=\"80.231818\" xlink:href=\"#mfd8851e001\" y=\"224.64\"/>\n      </g>\n     </g>\n     <g id=\"text_1\">\n      <!-- −0.25 -->\n      <g transform=\"translate(64.909162 239.238437)scale(0.1 -0.1)\">\n       <defs>\n        <path d=\"M 10.59375 35.5 \nL 73.1875 35.5 \nL 73.1875 27.203125 \nL 10.59375 27.203125 \nz\n\" id=\"DejaVuSans-8722\"/>\n        <path d=\"M 31.78125 66.40625 \nQ 24.171875 66.40625 20.328125 58.90625 \nQ 16.5 51.421875 16.5 36.375 \nQ 16.5 21.390625 20.328125 13.890625 \nQ 24.171875 6.390625 31.78125 6.390625 \nQ 39.453125 6.390625 43.28125 13.890625 \nQ 47.125 21.390625 47.125 36.375 \nQ 47.125 51.421875 43.28125 58.90625 \nQ 39.453125 66.40625 31.78125 66.40625 \nz\nM 31.78125 74.21875 \nQ 44.046875 74.21875 50.515625 64.515625 \nQ 56.984375 54.828125 56.984375 36.375 \nQ 56.984375 17.96875 50.515625 8.265625 \nQ 44.046875 -1.421875 31.78125 -1.421875 \nQ 19.53125 -1.421875 13.0625 8.265625 \nQ 6.59375 17.96875 6.59375 36.375 \nQ 6.59375 54.828125 13.0625 64.515625 \nQ 19.53125 74.21875 31.78125 74.21875 \nz\n\" id=\"DejaVuSans-48\"/>\n        <path d=\"M 10.6875 12.40625 \nL 21 12.40625 \nL 21 0 \nL 10.6875 0 \nz\n\" id=\"DejaVuSans-46\"/>\n        <path d=\"M 19.1875 8.296875 \nL 53.609375 8.296875 \nL 53.609375 0 \nL 7.328125 0 \nL 7.328125 8.296875 \nQ 12.9375 14.109375 22.625 23.890625 \nQ 32.328125 33.6875 34.8125 36.53125 \nQ 39.546875 41.84375 41.421875 45.53125 \nQ 43.3125 49.21875 43.3125 52.78125 \nQ 43.3125 58.59375 39.234375 62.25 \nQ 35.15625 65.921875 28.609375 65.921875 \nQ 23.96875 65.921875 18.8125 64.3125 \nQ 13.671875 62.703125 7.8125 59.421875 \nL 7.8125 69.390625 \nQ 13.765625 71.78125 18.9375 73 \nQ 24.125 74.21875 28.421875 74.21875 \nQ 39.75 74.21875 46.484375 68.546875 \nQ 53.21875 62.890625 53.21875 53.421875 \nQ 53.21875 48.921875 51.53125 44.890625 \nQ 49.859375 40.875 45.40625 35.40625 \nQ 44.1875 33.984375 37.640625 27.21875 \nQ 31.109375 20.453125 19.1875 8.296875 \nz\n\" id=\"DejaVuSans-50\"/>\n        <path d=\"M 10.796875 72.90625 \nL 49.515625 72.90625 \nL 49.515625 64.59375 \nL 19.828125 64.59375 \nL 19.828125 46.734375 \nQ 21.96875 47.46875 24.109375 47.828125 \nQ 26.265625 48.1875 28.421875 48.1875 \nQ 40.625 48.1875 47.75 41.5 \nQ 54.890625 34.8125 54.890625 23.390625 \nQ 54.890625 11.625 47.5625 5.09375 \nQ 40.234375 -1.421875 26.90625 -1.421875 \nQ 22.3125 -1.421875 17.546875 -0.640625 \nQ 12.796875 0.140625 7.71875 1.703125 \nL 7.71875 11.625 \nQ 12.109375 9.234375 16.796875 8.0625 \nQ 21.484375 6.890625 26.703125 6.890625 \nQ 35.15625 6.890625 40.078125 11.328125 \nQ 45.015625 15.765625 45.015625 23.390625 \nQ 45.015625 31 40.078125 35.4375 \nQ 35.15625 39.890625 26.703125 39.890625 \nQ 22.75 39.890625 18.8125 39.015625 \nQ 14.890625 38.140625 10.796875 36.28125 \nz\n\" id=\"DejaVuSans-53\"/>\n       </defs>\n       <use xlink:href=\"#DejaVuSans-8722\"/>\n       <use x=\"83.789062\" xlink:href=\"#DejaVuSans-48\"/>\n       <use x=\"147.412109\" xlink:href=\"#DejaVuSans-46\"/>\n       <use x=\"179.199219\" xlink:href=\"#DejaVuSans-50\"/>\n       <use x=\"242.822266\" xlink:href=\"#DejaVuSans-53\"/>\n      </g>\n     </g>\n    </g>\n    <g id=\"xtick_2\">\n     <g id=\"line2d_2\">\n      <g>\n       <use style=\"stroke:#000000;stroke-width:0.8;\" x=\"122.504545\" xlink:href=\"#mfd8851e001\" y=\"224.64\"/>\n      </g>\n     </g>\n     <g id=\"text_2\">\n      <!-- 0.00 -->\n      <g transform=\"translate(111.371733 239.238437)scale(0.1 -0.1)\">\n       <use xlink:href=\"#DejaVuSans-48\"/>\n       <use x=\"63.623047\" xlink:href=\"#DejaVuSans-46\"/>\n       <use x=\"95.410156\" xlink:href=\"#DejaVuSans-48\"/>\n       <use x=\"159.033203\" xlink:href=\"#DejaVuSans-48\"/>\n      </g>\n     </g>\n    </g>\n    <g id=\"xtick_3\">\n     <g id=\"line2d_3\">\n      <g>\n       <use style=\"stroke:#000000;stroke-width:0.8;\" x=\"164.777273\" xlink:href=\"#mfd8851e001\" y=\"224.64\"/>\n      </g>\n     </g>\n     <g id=\"text_3\">\n      <!-- 0.25 -->\n      <g transform=\"translate(153.64446 239.238437)scale(0.1 -0.1)\">\n       <use xlink:href=\"#DejaVuSans-48\"/>\n       <use x=\"63.623047\" xlink:href=\"#DejaVuSans-46\"/>\n       <use x=\"95.410156\" xlink:href=\"#DejaVuSans-50\"/>\n       <use x=\"159.033203\" xlink:href=\"#DejaVuSans-53\"/>\n      </g>\n     </g>\n    </g>\n    <g id=\"xtick_4\">\n     <g id=\"line2d_4\">\n      <g>\n       <use style=\"stroke:#000000;stroke-width:0.8;\" x=\"207.05\" xlink:href=\"#mfd8851e001\" y=\"224.64\"/>\n      </g>\n     </g>\n     <g id=\"text_4\">\n      <!-- 0.50 -->\n      <g transform=\"translate(195.917188 239.238437)scale(0.1 -0.1)\">\n       <use xlink:href=\"#DejaVuSans-48\"/>\n       <use x=\"63.623047\" xlink:href=\"#DejaVuSans-46\"/>\n       <use x=\"95.410156\" xlink:href=\"#DejaVuSans-53\"/>\n       <use x=\"159.033203\" xlink:href=\"#DejaVuSans-48\"/>\n      </g>\n     </g>\n    </g>\n    <g id=\"xtick_5\">\n     <g id=\"line2d_5\">\n      <g>\n       <use style=\"stroke:#000000;stroke-width:0.8;\" x=\"249.322727\" xlink:href=\"#mfd8851e001\" y=\"224.64\"/>\n      </g>\n     </g>\n     <g id=\"text_5\">\n      <!-- 0.75 -->\n      <g transform=\"translate(238.189915 239.238437)scale(0.1 -0.1)\">\n       <defs>\n        <path d=\"M 8.203125 72.90625 \nL 55.078125 72.90625 \nL 55.078125 68.703125 \nL 28.609375 0 \nL 18.3125 0 \nL 43.21875 64.59375 \nL 8.203125 64.59375 \nz\n\" id=\"DejaVuSans-55\"/>\n       </defs>\n       <use xlink:href=\"#DejaVuSans-48\"/>\n       <use x=\"63.623047\" xlink:href=\"#DejaVuSans-46\"/>\n       <use x=\"95.410156\" xlink:href=\"#DejaVuSans-55\"/>\n       <use x=\"159.033203\" xlink:href=\"#DejaVuSans-53\"/>\n      </g>\n     </g>\n    </g>\n    <g id=\"xtick_6\">\n     <g id=\"line2d_6\">\n      <g>\n       <use style=\"stroke:#000000;stroke-width:0.8;\" x=\"291.595455\" xlink:href=\"#mfd8851e001\" y=\"224.64\"/>\n      </g>\n     </g>\n     <g id=\"text_6\">\n      <!-- 1.00 -->\n      <g transform=\"translate(280.462642 239.238437)scale(0.1 -0.1)\">\n       <defs>\n        <path d=\"M 12.40625 8.296875 \nL 28.515625 8.296875 \nL 28.515625 63.921875 \nL 10.984375 60.40625 \nL 10.984375 69.390625 \nL 28.421875 72.90625 \nL 38.28125 72.90625 \nL 38.28125 8.296875 \nL 54.390625 8.296875 \nL 54.390625 0 \nL 12.40625 0 \nz\n\" id=\"DejaVuSans-49\"/>\n       </defs>\n       <use xlink:href=\"#DejaVuSans-49\"/>\n       <use x=\"63.623047\" xlink:href=\"#DejaVuSans-46\"/>\n       <use x=\"95.410156\" xlink:href=\"#DejaVuSans-48\"/>\n       <use x=\"159.033203\" xlink:href=\"#DejaVuSans-48\"/>\n      </g>\n     </g>\n    </g>\n    <g id=\"xtick_7\">\n     <g id=\"line2d_7\">\n      <g>\n       <use style=\"stroke:#000000;stroke-width:0.8;\" x=\"333.868182\" xlink:href=\"#mfd8851e001\" y=\"224.64\"/>\n      </g>\n     </g>\n     <g id=\"text_7\">\n      <!-- 1.25 -->\n      <g transform=\"translate(322.735369 239.238437)scale(0.1 -0.1)\">\n       <use xlink:href=\"#DejaVuSans-49\"/>\n       <use x=\"63.623047\" xlink:href=\"#DejaVuSans-46\"/>\n       <use x=\"95.410156\" xlink:href=\"#DejaVuSans-50\"/>\n       <use x=\"159.033203\" xlink:href=\"#DejaVuSans-53\"/>\n      </g>\n     </g>\n    </g>\n   </g>\n   <g id=\"matplotlib.axis_2\">\n    <g id=\"ytick_1\">\n     <g id=\"line2d_8\">\n      <defs>\n       <path d=\"M 0 0 \nL -3.5 0 \n\" id=\"m8d41dc8c12\" style=\"stroke:#000000;stroke-width:0.8;\"/>\n      </defs>\n      <g>\n       <use style=\"stroke:#000000;stroke-width:0.8;\" x=\"39.65\" xlink:href=\"#m8d41dc8c12\" y=\"224.64\"/>\n      </g>\n     </g>\n     <g id=\"text_8\">\n      <!-- 0 -->\n      <g transform=\"translate(26.2875 228.439219)scale(0.1 -0.1)\">\n       <use xlink:href=\"#DejaVuSans-48\"/>\n      </g>\n     </g>\n    </g>\n    <g id=\"ytick_2\">\n     <g id=\"line2d_9\">\n      <g>\n       <use style=\"stroke:#000000;stroke-width:0.8;\" x=\"39.65\" xlink:href=\"#m8d41dc8c12\" y=\"182.038536\"/>\n      </g>\n     </g>\n     <g id=\"text_9\">\n      <!-- 1000 -->\n      <g transform=\"translate(7.2 185.837755)scale(0.1 -0.1)\">\n       <use xlink:href=\"#DejaVuSans-49\"/>\n       <use x=\"63.623047\" xlink:href=\"#DejaVuSans-48\"/>\n       <use x=\"127.246094\" xlink:href=\"#DejaVuSans-48\"/>\n       <use x=\"190.869141\" xlink:href=\"#DejaVuSans-48\"/>\n      </g>\n     </g>\n    </g>\n    <g id=\"ytick_3\">\n     <g id=\"line2d_10\">\n      <g>\n       <use style=\"stroke:#000000;stroke-width:0.8;\" x=\"39.65\" xlink:href=\"#m8d41dc8c12\" y=\"139.437073\"/>\n      </g>\n     </g>\n     <g id=\"text_10\">\n      <!-- 2000 -->\n      <g transform=\"translate(7.2 143.236292)scale(0.1 -0.1)\">\n       <use xlink:href=\"#DejaVuSans-50\"/>\n       <use x=\"63.623047\" xlink:href=\"#DejaVuSans-48\"/>\n       <use x=\"127.246094\" xlink:href=\"#DejaVuSans-48\"/>\n       <use x=\"190.869141\" xlink:href=\"#DejaVuSans-48\"/>\n      </g>\n     </g>\n    </g>\n    <g id=\"ytick_4\">\n     <g id=\"line2d_11\">\n      <g>\n       <use style=\"stroke:#000000;stroke-width:0.8;\" x=\"39.65\" xlink:href=\"#m8d41dc8c12\" y=\"96.835609\"/>\n      </g>\n     </g>\n     <g id=\"text_11\">\n      <!-- 3000 -->\n      <g transform=\"translate(7.2 100.634828)scale(0.1 -0.1)\">\n       <defs>\n        <path d=\"M 40.578125 39.3125 \nQ 47.65625 37.796875 51.625 33 \nQ 55.609375 28.21875 55.609375 21.1875 \nQ 55.609375 10.40625 48.1875 4.484375 \nQ 40.765625 -1.421875 27.09375 -1.421875 \nQ 22.515625 -1.421875 17.65625 -0.515625 \nQ 12.796875 0.390625 7.625 2.203125 \nL 7.625 11.71875 \nQ 11.71875 9.328125 16.59375 8.109375 \nQ 21.484375 6.890625 26.8125 6.890625 \nQ 36.078125 6.890625 40.9375 10.546875 \nQ 45.796875 14.203125 45.796875 21.1875 \nQ 45.796875 27.640625 41.28125 31.265625 \nQ 36.765625 34.90625 28.71875 34.90625 \nL 20.21875 34.90625 \nL 20.21875 43.015625 \nL 29.109375 43.015625 \nQ 36.375 43.015625 40.234375 45.921875 \nQ 44.09375 48.828125 44.09375 54.296875 \nQ 44.09375 59.90625 40.109375 62.90625 \nQ 36.140625 65.921875 28.71875 65.921875 \nQ 24.65625 65.921875 20.015625 65.03125 \nQ 15.375 64.15625 9.8125 62.3125 \nL 9.8125 71.09375 \nQ 15.4375 72.65625 20.34375 73.4375 \nQ 25.25 74.21875 29.59375 74.21875 \nQ 40.828125 74.21875 47.359375 69.109375 \nQ 53.90625 64.015625 53.90625 55.328125 \nQ 53.90625 49.265625 50.4375 45.09375 \nQ 46.96875 40.921875 40.578125 39.3125 \nz\n\" id=\"DejaVuSans-51\"/>\n       </defs>\n       <use xlink:href=\"#DejaVuSans-51\"/>\n       <use x=\"63.623047\" xlink:href=\"#DejaVuSans-48\"/>\n       <use x=\"127.246094\" xlink:href=\"#DejaVuSans-48\"/>\n       <use x=\"190.869141\" xlink:href=\"#DejaVuSans-48\"/>\n      </g>\n     </g>\n    </g>\n    <g id=\"ytick_5\">\n     <g id=\"line2d_12\">\n      <g>\n       <use style=\"stroke:#000000;stroke-width:0.8;\" x=\"39.65\" xlink:href=\"#m8d41dc8c12\" y=\"54.234146\"/>\n      </g>\n     </g>\n     <g id=\"text_12\">\n      <!-- 4000 -->\n      <g transform=\"translate(7.2 58.033365)scale(0.1 -0.1)\">\n       <defs>\n        <path d=\"M 37.796875 64.3125 \nL 12.890625 25.390625 \nL 37.796875 25.390625 \nz\nM 35.203125 72.90625 \nL 47.609375 72.90625 \nL 47.609375 25.390625 \nL 58.015625 25.390625 \nL 58.015625 17.1875 \nL 47.609375 17.1875 \nL 47.609375 0 \nL 37.796875 0 \nL 37.796875 17.1875 \nL 4.890625 17.1875 \nL 4.890625 26.703125 \nz\n\" id=\"DejaVuSans-52\"/>\n       </defs>\n       <use xlink:href=\"#DejaVuSans-52\"/>\n       <use x=\"63.623047\" xlink:href=\"#DejaVuSans-48\"/>\n       <use x=\"127.246094\" xlink:href=\"#DejaVuSans-48\"/>\n       <use x=\"190.869141\" xlink:href=\"#DejaVuSans-48\"/>\n      </g>\n     </g>\n    </g>\n    <g id=\"ytick_6\">\n     <g id=\"line2d_13\">\n      <g>\n       <use style=\"stroke:#000000;stroke-width:0.8;\" x=\"39.65\" xlink:href=\"#m8d41dc8c12\" y=\"11.632682\"/>\n      </g>\n     </g>\n     <g id=\"text_13\">\n      <!-- 5000 -->\n      <g transform=\"translate(7.2 15.431901)scale(0.1 -0.1)\">\n       <use xlink:href=\"#DejaVuSans-53\"/>\n       <use x=\"63.623047\" xlink:href=\"#DejaVuSans-48\"/>\n       <use x=\"127.246094\" xlink:href=\"#DejaVuSans-48\"/>\n       <use x=\"190.869141\" xlink:href=\"#DejaVuSans-48\"/>\n      </g>\n     </g>\n    </g>\n   </g>\n   <g id=\"patch_5\">\n    <path d=\"M 39.65 224.64 \nL 39.65 7.2 \n\" style=\"fill:none;stroke:#000000;stroke-linecap:square;stroke-linejoin:miter;stroke-width:0.8;\"/>\n   </g>\n   <g id=\"patch_6\">\n    <path d=\"M 374.45 224.64 \nL 374.45 7.2 \n\" style=\"fill:none;stroke:#000000;stroke-linecap:square;stroke-linejoin:miter;stroke-width:0.8;\"/>\n   </g>\n   <g id=\"patch_7\">\n    <path d=\"M 39.65 224.64 \nL 374.45 224.64 \n\" style=\"fill:none;stroke:#000000;stroke-linecap:square;stroke-linejoin:miter;stroke-width:0.8;\"/>\n   </g>\n   <g id=\"patch_8\">\n    <path d=\"M 39.65 7.2 \nL 374.45 7.2 \n\" style=\"fill:none;stroke:#000000;stroke-linecap:square;stroke-linejoin:miter;stroke-width:0.8;\"/>\n   </g>\n  </g>\n </g>\n <defs>\n  <clipPath id=\"p0aed571fe2\">\n   <rect height=\"217.44\" width=\"334.8\" x=\"39.65\" y=\"7.2\"/>\n  </clipPath>\n </defs>\n</svg>\n",
      "image/png": "[encoded data removed]"
     },
     "metadata": {
      "needs_background": "light"
     }
    }
   ],
   "source": [
    "plt.clf()\n",
    "plt.bar(x, y)\n",
    "plt.show()"
   ]
  },
  {
   "source": [
    "- 데이터 불균형 해결 필요\n",
    "- 앞에거 다 처리하고 불균형 해소"
   ],
   "cell_type": "markdown",
   "metadata": {}
  },
  {
   "source": [
    "# 상관분석"
   ],
   "cell_type": "markdown",
   "metadata": {}
  },
  {
   "source": [
    "**피어슨 상관계수**\n",
    "- 1과 가까울수록 양의 상관관계\n",
    "- -1과 가까울수록 음의 상관관계"
   ],
   "cell_type": "markdown",
   "metadata": {}
  },
  {
   "cell_type": "code",
   "execution_count": 107,
   "metadata": {},
   "outputs": [
    {
     "output_type": "execute_result",
     "data": {
      "text/plain": [
       "                         id       age  hypertension  heart_disease  \\\n",
       "id                 1.000000  0.003538      0.003550      -0.001296   \n",
       "age                0.003538  1.000000      0.276398       0.263796   \n",
       "hypertension       0.003550  0.276398      1.000000       0.108306   \n",
       "heart_disease     -0.001296  0.263796      0.108306       1.000000   \n",
       "avg_glucose_level  0.001092  0.238171      0.174474       0.161857   \n",
       "bmi                0.003084  0.333398      0.167811       0.041357   \n",
       "stroke             0.006388  0.245257      0.127904       0.134914   \n",
       "\n",
       "                   avg_glucose_level       bmi    stroke  \n",
       "id                          0.001092  0.003084  0.006388  \n",
       "age                         0.238171  0.333398  0.245257  \n",
       "hypertension                0.174474  0.167811  0.127904  \n",
       "heart_disease               0.161857  0.041357  0.134914  \n",
       "avg_glucose_level           1.000000  0.175502  0.131945  \n",
       "bmi                         0.175502  1.000000  0.042374  \n",
       "stroke                      0.131945  0.042374  1.000000  "
      ],
      "text/html": "<div>\n<style scoped>\n    .dataframe tbody tr th:only-of-type {\n        vertical-align: middle;\n    }\n\n    .dataframe tbody tr th {\n        vertical-align: top;\n    }\n\n    .dataframe thead th {\n        text-align: right;\n    }\n</style>\n<table border=\"1\" class=\"dataframe\">\n  <thead>\n    <tr style=\"text-align: right;\">\n      <th></th>\n      <th>id</th>\n      <th>age</th>\n      <th>hypertension</th>\n      <th>heart_disease</th>\n      <th>avg_glucose_level</th>\n      <th>bmi</th>\n      <th>stroke</th>\n    </tr>\n  </thead>\n  <tbody>\n    <tr>\n      <th>id</th>\n      <td>1.000000</td>\n      <td>0.003538</td>\n      <td>0.003550</td>\n      <td>-0.001296</td>\n      <td>0.001092</td>\n      <td>0.003084</td>\n      <td>0.006388</td>\n    </tr>\n    <tr>\n      <th>age</th>\n      <td>0.003538</td>\n      <td>1.000000</td>\n      <td>0.276398</td>\n      <td>0.263796</td>\n      <td>0.238171</td>\n      <td>0.333398</td>\n      <td>0.245257</td>\n    </tr>\n    <tr>\n      <th>hypertension</th>\n      <td>0.003550</td>\n      <td>0.276398</td>\n      <td>1.000000</td>\n      <td>0.108306</td>\n      <td>0.174474</td>\n      <td>0.167811</td>\n      <td>0.127904</td>\n    </tr>\n    <tr>\n      <th>heart_disease</th>\n      <td>-0.001296</td>\n      <td>0.263796</td>\n      <td>0.108306</td>\n      <td>1.000000</td>\n      <td>0.161857</td>\n      <td>0.041357</td>\n      <td>0.134914</td>\n    </tr>\n    <tr>\n      <th>avg_glucose_level</th>\n      <td>0.001092</td>\n      <td>0.238171</td>\n      <td>0.174474</td>\n      <td>0.161857</td>\n      <td>1.000000</td>\n      <td>0.175502</td>\n      <td>0.131945</td>\n    </tr>\n    <tr>\n      <th>bmi</th>\n      <td>0.003084</td>\n      <td>0.333398</td>\n      <td>0.167811</td>\n      <td>0.041357</td>\n      <td>0.175502</td>\n      <td>1.000000</td>\n      <td>0.042374</td>\n    </tr>\n    <tr>\n      <th>stroke</th>\n      <td>0.006388</td>\n      <td>0.245257</td>\n      <td>0.127904</td>\n      <td>0.134914</td>\n      <td>0.131945</td>\n      <td>0.042374</td>\n      <td>1.000000</td>\n    </tr>\n  </tbody>\n</table>\n</div>"
     },
     "metadata": {},
     "execution_count": 107
    }
   ],
   "source": [
    "corr = data.corr(method='pearson')\n",
    "corr"
   ]
  },
  {
   "source": [
    "**범주형 데이터를 모두 정수로 변형하고 확인**"
   ],
   "cell_type": "markdown",
   "metadata": {}
  },
  {
   "cell_type": "code",
   "execution_count": 110,
   "metadata": {},
   "outputs": [],
   "source": [
    "import copy"
   ]
  },
  {
   "cell_type": "code",
   "execution_count": 118,
   "metadata": {},
   "outputs": [],
   "source": [
    "data_to_category = copy.deepcopy(data)"
   ]
  },
  {
   "cell_type": "code",
   "execution_count": null,
   "metadata": {},
   "outputs": [],
   "source": [
    "import numpy"
   ]
  },
  {
   "cell_type": "code",
   "execution_count": 119,
   "metadata": {},
   "outputs": [],
   "source": [
    "data_to_category[\"gender\"] = data_to_category[\"gender\"].apply(lambda x: 0 if x==\"Male\" else 1)"
   ]
  },
  {
   "cell_type": "code",
   "execution_count": 120,
   "metadata": {},
   "outputs": [],
   "source": [
    "data_to_category[\"ever_married\"] = data_to_category[\"ever_married\"].apply(lambda x: 0 if x==\"No\" else 1)"
   ]
  },
  {
   "cell_type": "code",
   "execution_count": 123,
   "metadata": {},
   "outputs": [],
   "source": [
    "data_to_category[\"work_type\"] = data_to_category[\"work_type\"].apply(lambda x: 0 if x==\"Private\" else x)\n",
    "data_to_category[\"work_type\"] = data_to_category[\"work_type\"].apply(lambda x: 1 if x==\"Self-employed\" else x)\n",
    "data_to_category[\"work_type\"] = data_to_category[\"work_type\"].apply(lambda x: 2 if x==\"children\" else x)\n",
    "data_to_category[\"work_type\"] = data_to_category[\"work_type\"].apply(lambda x: 3 if x==\"Govt_job\" else x)\n",
    "data_to_category[\"work_type\"] = data_to_category[\"work_type\"].apply(lambda x: 4 if x==\"Never_worked\" else x)"
   ]
  },
  {
   "cell_type": "code",
   "execution_count": 125,
   "metadata": {},
   "outputs": [],
   "source": [
    "data_to_category[\"Residence_type\"] = data_to_category[\"Residence_type\"].apply(lambda x: 0 if x==\"Urban\" else 1)"
   ]
  },
  {
   "cell_type": "code",
   "execution_count": 127,
   "metadata": {},
   "outputs": [],
   "source": [
    "data_to_category[\"smoking_status\"] = data_to_category[\"smoking_status\"].apply(lambda x: 0 if x==\"never smoked\" else x)\n",
    "data_to_category[\"smoking_status\"] = data_to_category[\"smoking_status\"].apply(lambda x: None if x==\"Unknown\" else x)\n",
    "data_to_category[\"smoking_status\"] = data_to_category[\"smoking_status\"].apply(lambda x: 1 if x==\"formerly smoked\" else x)\n",
    "data_to_category[\"smoking_status\"] = data_to_category[\"smoking_status\"].apply(lambda x: 2 if x==\"smokes\" else x)"
   ]
  },
  {
   "cell_type": "code",
   "execution_count": 129,
   "metadata": {},
   "outputs": [
    {
     "output_type": "execute_result",
     "data": {
      "text/plain": [
       "                         id    gender       age  hypertension  heart_disease  \\\n",
       "id                 1.000000 -0.001776  0.003538      0.003550      -0.001296   \n",
       "gender            -0.001776  1.000000  0.027623     -0.021275      -0.085717   \n",
       "age                0.003538  0.027623  1.000000      0.276398       0.263796   \n",
       "hypertension       0.003550 -0.021275  0.276398      1.000000       0.108306   \n",
       "heart_disease     -0.001296 -0.085717  0.263796      0.108306       1.000000   \n",
       "ever_married       0.013690  0.029936  0.679125      0.164243       0.114644   \n",
       "work_type         -0.013892 -0.034054 -0.182384     -0.030550      -0.030156   \n",
       "Residence_type     0.001403 -0.005937 -0.014180      0.007913      -0.003092   \n",
       "avg_glucose_level  0.001092 -0.054580  0.238171      0.174474       0.161857   \n",
       "bmi                0.003084  0.026020  0.333398      0.167811       0.041357   \n",
       "smoking_status    -0.004268 -0.077347  0.047766     -0.000050       0.058759   \n",
       "stroke             0.006388 -0.009117  0.245257      0.127904       0.134914   \n",
       "\n",
       "                   ever_married  work_type  Residence_type  avg_glucose_level  \\\n",
       "id                     0.013690  -0.013892        0.001403           0.001092   \n",
       "gender                 0.029936  -0.034054       -0.005937          -0.054580   \n",
       "age                    0.679125  -0.182384       -0.014180           0.238171   \n",
       "hypertension           0.164243  -0.030550        0.007913           0.174474   \n",
       "heart_disease          0.114644  -0.030156       -0.003092           0.161857   \n",
       "ever_married           1.000000  -0.171142       -0.006261           0.155068   \n",
       "work_type             -0.171142   1.000000       -0.019358          -0.033069   \n",
       "Residence_type        -0.006261  -0.019358        1.000000           0.004946   \n",
       "avg_glucose_level      0.155068  -0.033069        0.004946           1.000000   \n",
       "bmi                    0.341695  -0.188511        0.000122           0.175502   \n",
       "smoking_status         0.069894  -0.028913       -0.038841           0.013859   \n",
       "stroke                 0.108340  -0.032098       -0.015458           0.131945   \n",
       "\n",
       "                        bmi  smoking_status    stroke  \n",
       "id                 0.003084       -0.004268  0.006388  \n",
       "gender             0.026020       -0.077347 -0.009117  \n",
       "age                0.333398        0.047766  0.245257  \n",
       "hypertension       0.167811       -0.000050  0.127904  \n",
       "heart_disease      0.041357        0.058759  0.134914  \n",
       "ever_married       0.341695        0.069894  0.108340  \n",
       "work_type         -0.188511       -0.028913 -0.032098  \n",
       "Residence_type     0.000122       -0.038841 -0.015458  \n",
       "avg_glucose_level  0.175502        0.013859  0.131945  \n",
       "bmi                1.000000        0.037541  0.042374  \n",
       "smoking_status     0.037541        1.000000  0.021686  \n",
       "stroke             0.042374        0.021686  1.000000  "
      ],
      "text/html": "<div>\n<style scoped>\n    .dataframe tbody tr th:only-of-type {\n        vertical-align: middle;\n    }\n\n    .dataframe tbody tr th {\n        vertical-align: top;\n    }\n\n    .dataframe thead th {\n        text-align: right;\n    }\n</style>\n<table border=\"1\" class=\"dataframe\">\n  <thead>\n    <tr style=\"text-align: right;\">\n      <th></th>\n      <th>id</th>\n      <th>gender</th>\n      <th>age</th>\n      <th>hypertension</th>\n      <th>heart_disease</th>\n      <th>ever_married</th>\n      <th>work_type</th>\n      <th>Residence_type</th>\n      <th>avg_glucose_level</th>\n      <th>bmi</th>\n      <th>smoking_status</th>\n      <th>stroke</th>\n    </tr>\n  </thead>\n  <tbody>\n    <tr>\n      <th>id</th>\n      <td>1.000000</td>\n      <td>-0.001776</td>\n      <td>0.003538</td>\n      <td>0.003550</td>\n      <td>-0.001296</td>\n      <td>0.013690</td>\n      <td>-0.013892</td>\n      <td>0.001403</td>\n      <td>0.001092</td>\n      <td>0.003084</td>\n      <td>-0.004268</td>\n      <td>0.006388</td>\n    </tr>\n    <tr>\n      <th>gender</th>\n      <td>-0.001776</td>\n      <td>1.000000</td>\n      <td>0.027623</td>\n      <td>-0.021275</td>\n      <td>-0.085717</td>\n      <td>0.029936</td>\n      <td>-0.034054</td>\n      <td>-0.005937</td>\n      <td>-0.054580</td>\n      <td>0.026020</td>\n      <td>-0.077347</td>\n      <td>-0.009117</td>\n    </tr>\n    <tr>\n      <th>age</th>\n      <td>0.003538</td>\n      <td>0.027623</td>\n      <td>1.000000</td>\n      <td>0.276398</td>\n      <td>0.263796</td>\n      <td>0.679125</td>\n      <td>-0.182384</td>\n      <td>-0.014180</td>\n      <td>0.238171</td>\n      <td>0.333398</td>\n      <td>0.047766</td>\n      <td>0.245257</td>\n    </tr>\n    <tr>\n      <th>hypertension</th>\n      <td>0.003550</td>\n      <td>-0.021275</td>\n      <td>0.276398</td>\n      <td>1.000000</td>\n      <td>0.108306</td>\n      <td>0.164243</td>\n      <td>-0.030550</td>\n      <td>0.007913</td>\n      <td>0.174474</td>\n      <td>0.167811</td>\n      <td>-0.000050</td>\n      <td>0.127904</td>\n    </tr>\n    <tr>\n      <th>heart_disease</th>\n      <td>-0.001296</td>\n      <td>-0.085717</td>\n      <td>0.263796</td>\n      <td>0.108306</td>\n      <td>1.000000</td>\n      <td>0.114644</td>\n      <td>-0.030156</td>\n      <td>-0.003092</td>\n      <td>0.161857</td>\n      <td>0.041357</td>\n      <td>0.058759</td>\n      <td>0.134914</td>\n    </tr>\n    <tr>\n      <th>ever_married</th>\n      <td>0.013690</td>\n      <td>0.029936</td>\n      <td>0.679125</td>\n      <td>0.164243</td>\n      <td>0.114644</td>\n      <td>1.000000</td>\n      <td>-0.171142</td>\n      <td>-0.006261</td>\n      <td>0.155068</td>\n      <td>0.341695</td>\n      <td>0.069894</td>\n      <td>0.108340</td>\n    </tr>\n    <tr>\n      <th>work_type</th>\n      <td>-0.013892</td>\n      <td>-0.034054</td>\n      <td>-0.182384</td>\n      <td>-0.030550</td>\n      <td>-0.030156</td>\n      <td>-0.171142</td>\n      <td>1.000000</td>\n      <td>-0.019358</td>\n      <td>-0.033069</td>\n      <td>-0.188511</td>\n      <td>-0.028913</td>\n      <td>-0.032098</td>\n    </tr>\n    <tr>\n      <th>Residence_type</th>\n      <td>0.001403</td>\n      <td>-0.005937</td>\n      <td>-0.014180</td>\n      <td>0.007913</td>\n      <td>-0.003092</td>\n      <td>-0.006261</td>\n      <td>-0.019358</td>\n      <td>1.000000</td>\n      <td>0.004946</td>\n      <td>0.000122</td>\n      <td>-0.038841</td>\n      <td>-0.015458</td>\n    </tr>\n    <tr>\n      <th>avg_glucose_level</th>\n      <td>0.001092</td>\n      <td>-0.054580</td>\n      <td>0.238171</td>\n      <td>0.174474</td>\n      <td>0.161857</td>\n      <td>0.155068</td>\n      <td>-0.033069</td>\n      <td>0.004946</td>\n      <td>1.000000</td>\n      <td>0.175502</td>\n      <td>0.013859</td>\n      <td>0.131945</td>\n    </tr>\n    <tr>\n      <th>bmi</th>\n      <td>0.003084</td>\n      <td>0.026020</td>\n      <td>0.333398</td>\n      <td>0.167811</td>\n      <td>0.041357</td>\n      <td>0.341695</td>\n      <td>-0.188511</td>\n      <td>0.000122</td>\n      <td>0.175502</td>\n      <td>1.000000</td>\n      <td>0.037541</td>\n      <td>0.042374</td>\n    </tr>\n    <tr>\n      <th>smoking_status</th>\n      <td>-0.004268</td>\n      <td>-0.077347</td>\n      <td>0.047766</td>\n      <td>-0.000050</td>\n      <td>0.058759</td>\n      <td>0.069894</td>\n      <td>-0.028913</td>\n      <td>-0.038841</td>\n      <td>0.013859</td>\n      <td>0.037541</td>\n      <td>1.000000</td>\n      <td>0.021686</td>\n    </tr>\n    <tr>\n      <th>stroke</th>\n      <td>0.006388</td>\n      <td>-0.009117</td>\n      <td>0.245257</td>\n      <td>0.127904</td>\n      <td>0.134914</td>\n      <td>0.108340</td>\n      <td>-0.032098</td>\n      <td>-0.015458</td>\n      <td>0.131945</td>\n      <td>0.042374</td>\n      <td>0.021686</td>\n      <td>1.000000</td>\n    </tr>\n  </tbody>\n</table>\n</div>"
     },
     "metadata": {},
     "execution_count": 129
    }
   ],
   "source": [
    "corr2 = data_to_category.corr(method='pearson')\n",
    "corr2"
   ]
  },
  {
   "cell_type": "code",
   "execution_count": 132,
   "metadata": {},
   "outputs": [
    {
     "output_type": "display_data",
     "data": {
      "text/plain": "<Figure size 432x288 with 2 Axes>",
      "image/svg+xml": "<?xml version=\"1.0\" encoding=\"utf-8\" standalone=\"no\"?>\n<!DOCTYPE svg PUBLIC \"-//W3C//DTD SVG 1.1//EN\"\n  \"http://www.w3.org/Graphics/SVG/1.1/DTD/svg11.dtd\">\n<!-- Created with matplotlib (https://matplotlib.org/) -->\n<svg height=\"252.317344pt\" version=\"1.1\" viewBox=\"0 0 352.480125 252.317344\" width=\"352.480125pt\" xmlns=\"http://www.w3.org/2000/svg\" xmlns:xlink=\"http://www.w3.org/1999/xlink\">\n <metadata>\n  <rdf:RDF xmlns:cc=\"http://creativecommons.org/ns#\" xmlns:dc=\"http://purl.org/dc/elements/1.1/\" xmlns:rdf=\"http://www.w3.org/1999/02/22-rdf-syntax-ns#\">\n   <cc:Work>\n    <dc:type rdf:resource=\"http://purl.org/dc/dcmitype/StillImage\"/>\n    <dc:date>2021-03-17T17:01:05.181335</dc:date>\n    <dc:format>image/svg+xml</dc:format>\n    <dc:creator>\n     <cc:Agent>\n      <dc:title>Matplotlib v3.3.4, https://matplotlib.org/</dc:title>\n     </cc:Agent>\n    </dc:creator>\n   </cc:Work>\n  </rdf:RDF>\n </metadata>\n <defs>\n  <style type=\"text/css\">*{stroke-linecap:butt;stroke-linejoin:round;}</style>\n </defs>\n <g id=\"figure_1\">\n  <g id=\"patch_1\">\n   <path d=\"M -0 252.317344 \nL 352.480125 252.317344 \nL 352.480125 0 \nL -0 0 \nz\n\" style=\"fill:none;\"/>\n  </g>\n  <g id=\"axes_1\">\n   <g id=\"patch_2\">\n    <path d=\"M 26.925 228.439219 \nL 294.765 228.439219 \nL 294.765 10.999219 \nL 26.925 10.999219 \nz\n\" style=\"fill:#ffffff;\"/>\n   </g>\n   <g id=\"PolyCollection_1\">\n    <path clip-path=\"url(#p8c04769ae5)\" d=\"M 26.925 228.439219 \nL 26.925 210.319219 \nL 49.245 210.319219 \nL 49.245 228.439219 \nL 26.925 228.439219 \nz\n\" style=\"fill:#fde725;\"/>\n    <path clip-path=\"url(#p8c04769ae5)\" d=\"M 49.245 228.439219 \nL 49.245 210.319219 \nL 71.565 210.319219 \nL 71.565 228.439219 \nL 49.245 228.439219 \nz\n\" style=\"fill:#453781;\"/>\n    <path clip-path=\"url(#p8c04769ae5)\" d=\"M 71.565 228.439219 \nL 71.565 210.319219 \nL 93.885 210.319219 \nL 93.885 228.439219 \nL 71.565 228.439219 \nz\n\" style=\"fill:#453882;\"/>\n    <path clip-path=\"url(#p8c04769ae5)\" d=\"M 93.885 228.439219 \nL 93.885 210.319219 \nL 116.205 210.319219 \nL 116.205 228.439219 \nL 93.885 228.439219 \nz\n\" style=\"fill:#453882;\"/>\n    <path clip-path=\"url(#p8c04769ae5)\" d=\"M 116.205 228.439219 \nL 116.205 210.319219 \nL 138.525 210.319219 \nL 138.525 228.439219 \nL 116.205 228.439219 \nz\n\" style=\"fill:#453781;\"/>\n    <path clip-path=\"url(#p8c04769ae5)\" d=\"M 138.525 228.439219 \nL 138.525 210.319219 \nL 160.845 210.319219 \nL 160.845 228.439219 \nL 138.525 228.439219 \nz\n\" style=\"fill:#443a83;\"/>\n    <path clip-path=\"url(#p8c04769ae5)\" d=\"M 160.845 228.439219 \nL 160.845 210.319219 \nL 183.165 210.319219 \nL 183.165 228.439219 \nL 160.845 228.439219 \nz\n\" style=\"fill:#46337f;\"/>\n    <path clip-path=\"url(#p8c04769ae5)\" d=\"M 183.165 228.439219 \nL 183.165 210.319219 \nL 205.485 210.319219 \nL 205.485 228.439219 \nL 183.165 228.439219 \nz\n\" style=\"fill:#453781;\"/>\n    <path clip-path=\"url(#p8c04769ae5)\" d=\"M 205.485 228.439219 \nL 205.485 210.319219 \nL 227.805 210.319219 \nL 227.805 228.439219 \nL 205.485 228.439219 \nz\n\" style=\"fill:#453781;\"/>\n    <path clip-path=\"url(#p8c04769ae5)\" d=\"M 227.805 228.439219 \nL 227.805 210.319219 \nL 250.125 210.319219 \nL 250.125 228.439219 \nL 227.805 228.439219 \nz\n\" style=\"fill:#453882;\"/>\n    <path clip-path=\"url(#p8c04769ae5)\" d=\"M 250.125 228.439219 \nL 250.125 210.319219 \nL 272.445 210.319219 \nL 272.445 228.439219 \nL 250.125 228.439219 \nz\n\" style=\"fill:#453581;\"/>\n    <path clip-path=\"url(#p8c04769ae5)\" d=\"M 272.445 228.439219 \nL 272.445 210.319219 \nL 294.765 210.319219 \nL 294.765 228.439219 \nL 272.445 228.439219 \nz\n\" style=\"fill:#453882;\"/>\n    <path clip-path=\"url(#p8c04769ae5)\" d=\"M 26.925 210.319219 \nL 26.925 192.199219 \nL 49.245 192.199219 \nL 49.245 210.319219 \nL 26.925 210.319219 \nz\n\" style=\"fill:#453781;\"/>\n    <path clip-path=\"url(#p8c04769ae5)\" d=\"M 49.245 210.319219 \nL 49.245 192.199219 \nL 71.565 192.199219 \nL 71.565 210.319219 \nL 49.245 210.319219 \nz\n\" style=\"fill:#fde725;\"/>\n    <path clip-path=\"url(#p8c04769ae5)\" d=\"M 71.565 210.319219 \nL 71.565 192.199219 \nL 93.885 192.199219 \nL 93.885 210.319219 \nL 71.565 210.319219 \nz\n\" style=\"fill:#433e85;\"/>\n    <path clip-path=\"url(#p8c04769ae5)\" d=\"M 93.885 210.319219 \nL 93.885 192.199219 \nL 116.205 192.199219 \nL 116.205 210.319219 \nL 93.885 210.319219 \nz\n\" style=\"fill:#46327e;\"/>\n    <path clip-path=\"url(#p8c04769ae5)\" d=\"M 116.205 210.319219 \nL 116.205 192.199219 \nL 138.525 192.199219 \nL 138.525 210.319219 \nL 116.205 210.319219 \nz\n\" style=\"fill:#482071;\"/>\n    <path clip-path=\"url(#p8c04769ae5)\" d=\"M 138.525 210.319219 \nL 138.525 192.199219 \nL 160.845 192.199219 \nL 160.845 210.319219 \nL 138.525 210.319219 \nz\n\" style=\"fill:#423f85;\"/>\n    <path clip-path=\"url(#p8c04769ae5)\" d=\"M 160.845 210.319219 \nL 160.845 192.199219 \nL 183.165 192.199219 \nL 183.165 210.319219 \nL 160.845 210.319219 \nz\n\" style=\"fill:#472e7c;\"/>\n    <path clip-path=\"url(#p8c04769ae5)\" d=\"M 183.165 210.319219 \nL 183.165 192.199219 \nL 205.485 192.199219 \nL 205.485 210.319219 \nL 183.165 210.319219 \nz\n\" style=\"fill:#453581;\"/>\n    <path clip-path=\"url(#p8c04769ae5)\" d=\"M 205.485 210.319219 \nL 205.485 192.199219 \nL 227.805 192.199219 \nL 227.805 210.319219 \nL 205.485 210.319219 \nz\n\" style=\"fill:#482878;\"/>\n    <path clip-path=\"url(#p8c04769ae5)\" d=\"M 227.805 210.319219 \nL 227.805 192.199219 \nL 250.125 192.199219 \nL 250.125 210.319219 \nL 227.805 210.319219 \nz\n\" style=\"fill:#433e85;\"/>\n    <path clip-path=\"url(#p8c04769ae5)\" d=\"M 250.125 210.319219 \nL 250.125 192.199219 \nL 272.445 192.199219 \nL 272.445 210.319219 \nL 250.125 210.319219 \nz\n\" style=\"fill:#482173;\"/>\n    <path clip-path=\"url(#p8c04769ae5)\" d=\"M 272.445 210.319219 \nL 272.445 192.199219 \nL 294.765 192.199219 \nL 294.765 210.319219 \nL 272.445 210.319219 \nz\n\" style=\"fill:#463480;\"/>\n    <path clip-path=\"url(#p8c04769ae5)\" d=\"M 26.925 192.199219 \nL 26.925 174.079219 \nL 49.245 174.079219 \nL 49.245 192.199219 \nL 26.925 192.199219 \nz\n\" style=\"fill:#453882;\"/>\n    <path clip-path=\"url(#p8c04769ae5)\" d=\"M 49.245 192.199219 \nL 49.245 174.079219 \nL 71.565 174.079219 \nL 71.565 192.199219 \nL 49.245 192.199219 \nz\n\" style=\"fill:#433e85;\"/>\n    <path clip-path=\"url(#p8c04769ae5)\" d=\"M 71.565 192.199219 \nL 71.565 174.079219 \nL 93.885 174.079219 \nL 93.885 192.199219 \nL 71.565 192.199219 \nz\n\" style=\"fill:#fde725;\"/>\n    <path clip-path=\"url(#p8c04769ae5)\" d=\"M 93.885 192.199219 \nL 93.885 174.079219 \nL 116.205 174.079219 \nL 116.205 192.199219 \nL 93.885 192.199219 \nz\n\" style=\"fill:#2a768e;\"/>\n    <path clip-path=\"url(#p8c04769ae5)\" d=\"M 116.205 192.199219 \nL 116.205 174.079219 \nL 138.525 174.079219 \nL 138.525 192.199219 \nL 116.205 192.199219 \nz\n\" style=\"fill:#2c738e;\"/>\n    <path clip-path=\"url(#p8c04769ae5)\" d=\"M 138.525 192.199219 \nL 138.525 174.079219 \nL 160.845 174.079219 \nL 160.845 192.199219 \nL 138.525 192.199219 \nz\n\" style=\"fill:#52c569;\"/>\n    <path clip-path=\"url(#p8c04769ae5)\" d=\"M 160.845 192.199219 \nL 160.845 174.079219 \nL 183.165 174.079219 \nL 183.165 192.199219 \nL 160.845 192.199219 \nz\n\" style=\"fill:#440256;\"/>\n    <path clip-path=\"url(#p8c04769ae5)\" d=\"M 183.165 192.199219 \nL 183.165 174.079219 \nL 205.485 174.079219 \nL 205.485 192.199219 \nL 183.165 192.199219 \nz\n\" style=\"fill:#46337f;\"/>\n    <path clip-path=\"url(#p8c04769ae5)\" d=\"M 205.485 192.199219 \nL 205.485 174.079219 \nL 227.805 174.079219 \nL 227.805 192.199219 \nL 205.485 192.199219 \nz\n\" style=\"fill:#2e6e8e;\"/>\n    <path clip-path=\"url(#p8c04769ae5)\" d=\"M 227.805 192.199219 \nL 227.805 174.079219 \nL 250.125 174.079219 \nL 250.125 192.199219 \nL 227.805 192.199219 \nz\n\" style=\"fill:#26828e;\"/>\n    <path clip-path=\"url(#p8c04769ae5)\" d=\"M 250.125 192.199219 \nL 250.125 174.079219 \nL 272.445 174.079219 \nL 272.445 192.199219 \nL 250.125 192.199219 \nz\n\" style=\"fill:#414287;\"/>\n    <path clip-path=\"url(#p8c04769ae5)\" d=\"M 272.445 192.199219 \nL 272.445 174.079219 \nL 294.765 174.079219 \nL 294.765 192.199219 \nL 272.445 192.199219 \nz\n\" style=\"fill:#2d708e;\"/>\n    <path clip-path=\"url(#p8c04769ae5)\" d=\"M 26.925 174.079219 \nL 26.925 155.959219 \nL 49.245 155.959219 \nL 49.245 174.079219 \nL 26.925 174.079219 \nz\n\" style=\"fill:#453882;\"/>\n    <path clip-path=\"url(#p8c04769ae5)\" d=\"M 49.245 174.079219 \nL 49.245 155.959219 \nL 71.565 155.959219 \nL 71.565 174.079219 \nL 49.245 174.079219 \nz\n\" style=\"fill:#46327e;\"/>\n    <path clip-path=\"url(#p8c04769ae5)\" d=\"M 71.565 174.079219 \nL 71.565 155.959219 \nL 93.885 155.959219 \nL 93.885 174.079219 \nL 71.565 174.079219 \nz\n\" style=\"fill:#2a768e;\"/>\n    <path clip-path=\"url(#p8c04769ae5)\" d=\"M 93.885 174.079219 \nL 93.885 155.959219 \nL 116.205 155.959219 \nL 116.205 174.079219 \nL 93.885 174.079219 \nz\n\" style=\"fill:#fde725;\"/>\n    <path clip-path=\"url(#p8c04769ae5)\" d=\"M 116.205 174.079219 \nL 116.205 155.959219 \nL 138.525 155.959219 \nL 138.525 174.079219 \nL 116.205 174.079219 \nz\n\" style=\"fill:#3b518b;\"/>\n    <path clip-path=\"url(#p8c04769ae5)\" d=\"M 138.525 174.079219 \nL 138.525 155.959219 \nL 160.845 155.959219 \nL 160.845 174.079219 \nL 138.525 174.079219 \nz\n\" style=\"fill:#355e8d;\"/>\n    <path clip-path=\"url(#p8c04769ae5)\" d=\"M 160.845 174.079219 \nL 160.845 155.959219 \nL 183.165 155.959219 \nL 183.165 174.079219 \nL 160.845 174.079219 \nz\n\" style=\"fill:#472f7d;\"/>\n    <path clip-path=\"url(#p8c04769ae5)\" d=\"M 183.165 174.079219 \nL 183.165 155.959219 \nL 205.485 155.959219 \nL 205.485 174.079219 \nL 183.165 174.079219 \nz\n\" style=\"fill:#443983;\"/>\n    <path clip-path=\"url(#p8c04769ae5)\" d=\"M 205.485 174.079219 \nL 205.485 155.959219 \nL 227.805 155.959219 \nL 227.805 174.079219 \nL 205.485 174.079219 \nz\n\" style=\"fill:#34618d;\"/>\n    <path clip-path=\"url(#p8c04769ae5)\" d=\"M 227.805 174.079219 \nL 227.805 155.959219 \nL 250.125 155.959219 \nL 250.125 174.079219 \nL 227.805 174.079219 \nz\n\" style=\"fill:#355f8d;\"/>\n    <path clip-path=\"url(#p8c04769ae5)\" d=\"M 250.125 174.079219 \nL 250.125 155.959219 \nL 272.445 155.959219 \nL 272.445 174.079219 \nL 250.125 174.079219 \nz\n\" style=\"fill:#453781;\"/>\n    <path clip-path=\"url(#p8c04769ae5)\" d=\"M 272.445 174.079219 \nL 272.445 155.959219 \nL 294.765 155.959219 \nL 294.765 174.079219 \nL 272.445 174.079219 \nz\n\" style=\"fill:#39568c;\"/>\n    <path clip-path=\"url(#p8c04769ae5)\" d=\"M 26.925 155.959219 \nL 26.925 137.839219 \nL 49.245 137.839219 \nL 49.245 155.959219 \nL 26.925 155.959219 \nz\n\" style=\"fill:#453781;\"/>\n    <path clip-path=\"url(#p8c04769ae5)\" d=\"M 49.245 155.959219 \nL 49.245 137.839219 \nL 71.565 137.839219 \nL 71.565 155.959219 \nL 49.245 155.959219 \nz\n\" style=\"fill:#482071;\"/>\n    <path clip-path=\"url(#p8c04769ae5)\" d=\"M 71.565 155.959219 \nL 71.565 137.839219 \nL 93.885 137.839219 \nL 93.885 155.959219 \nL 71.565 155.959219 \nz\n\" style=\"fill:#2c738e;\"/>\n    <path clip-path=\"url(#p8c04769ae5)\" d=\"M 93.885 155.959219 \nL 93.885 137.839219 \nL 116.205 137.839219 \nL 116.205 155.959219 \nL 93.885 155.959219 \nz\n\" style=\"fill:#3b518b;\"/>\n    <path clip-path=\"url(#p8c04769ae5)\" d=\"M 116.205 155.959219 \nL 116.205 137.839219 \nL 138.525 137.839219 \nL 138.525 155.959219 \nL 116.205 155.959219 \nz\n\" style=\"fill:#fde725;\"/>\n    <path clip-path=\"url(#p8c04769ae5)\" d=\"M 138.525 155.959219 \nL 138.525 137.839219 \nL 160.845 137.839219 \nL 160.845 155.959219 \nL 138.525 155.959219 \nz\n\" style=\"fill:#3a538b;\"/>\n    <path clip-path=\"url(#p8c04769ae5)\" d=\"M 160.845 155.959219 \nL 160.845 137.839219 \nL 183.165 137.839219 \nL 183.165 155.959219 \nL 160.845 155.959219 \nz\n\" style=\"fill:#472f7d;\"/>\n    <path clip-path=\"url(#p8c04769ae5)\" d=\"M 183.165 155.959219 \nL 183.165 137.839219 \nL 205.485 137.839219 \nL 205.485 155.959219 \nL 183.165 155.959219 \nz\n\" style=\"fill:#453581;\"/>\n    <path clip-path=\"url(#p8c04769ae5)\" d=\"M 205.485 155.959219 \nL 205.485 137.839219 \nL 227.805 137.839219 \nL 227.805 155.959219 \nL 205.485 155.959219 \nz\n\" style=\"fill:#355e8d;\"/>\n    <path clip-path=\"url(#p8c04769ae5)\" d=\"M 227.805 155.959219 \nL 227.805 137.839219 \nL 250.125 137.839219 \nL 250.125 155.959219 \nL 227.805 155.959219 \nz\n\" style=\"fill:#424186;\"/>\n    <path clip-path=\"url(#p8c04769ae5)\" d=\"M 250.125 155.959219 \nL 250.125 137.839219 \nL 272.445 137.839219 \nL 272.445 155.959219 \nL 250.125 155.959219 \nz\n\" style=\"fill:#404688;\"/>\n    <path clip-path=\"url(#p8c04769ae5)\" d=\"M 272.445 155.959219 \nL 272.445 137.839219 \nL 294.765 137.839219 \nL 294.765 155.959219 \nL 272.445 155.959219 \nz\n\" style=\"fill:#38588c;\"/>\n    <path clip-path=\"url(#p8c04769ae5)\" d=\"M 26.925 137.839219 \nL 26.925 119.719219 \nL 49.245 119.719219 \nL 49.245 137.839219 \nL 26.925 137.839219 \nz\n\" style=\"fill:#443a83;\"/>\n    <path clip-path=\"url(#p8c04769ae5)\" d=\"M 49.245 137.839219 \nL 49.245 119.719219 \nL 71.565 119.719219 \nL 71.565 137.839219 \nL 49.245 137.839219 \nz\n\" style=\"fill:#423f85;\"/>\n    <path clip-path=\"url(#p8c04769ae5)\" d=\"M 71.565 137.839219 \nL 71.565 119.719219 \nL 93.885 119.719219 \nL 93.885 137.839219 \nL 71.565 137.839219 \nz\n\" style=\"fill:#52c569;\"/>\n    <path clip-path=\"url(#p8c04769ae5)\" d=\"M 93.885 137.839219 \nL 93.885 119.719219 \nL 116.205 119.719219 \nL 116.205 137.839219 \nL 93.885 137.839219 \nz\n\" style=\"fill:#355e8d;\"/>\n    <path clip-path=\"url(#p8c04769ae5)\" d=\"M 116.205 137.839219 \nL 116.205 119.719219 \nL 138.525 119.719219 \nL 138.525 137.839219 \nL 116.205 137.839219 \nz\n\" style=\"fill:#3a538b;\"/>\n    <path clip-path=\"url(#p8c04769ae5)\" d=\"M 138.525 137.839219 \nL 138.525 119.719219 \nL 160.845 119.719219 \nL 160.845 137.839219 \nL 138.525 137.839219 \nz\n\" style=\"fill:#fde725;\"/>\n    <path clip-path=\"url(#p8c04769ae5)\" d=\"M 160.845 137.839219 \nL 160.845 119.719219 \nL 183.165 119.719219 \nL 183.165 137.839219 \nL 160.845 137.839219 \nz\n\" style=\"fill:#450559;\"/>\n    <path clip-path=\"url(#p8c04769ae5)\" d=\"M 183.165 137.839219 \nL 183.165 119.719219 \nL 205.485 119.719219 \nL 205.485 137.839219 \nL 183.165 137.839219 \nz\n\" style=\"fill:#453581;\"/>\n    <path clip-path=\"url(#p8c04769ae5)\" d=\"M 205.485 137.839219 \nL 205.485 119.719219 \nL 227.805 119.719219 \nL 227.805 137.839219 \nL 205.485 137.839219 \nz\n\" style=\"fill:#365d8d;\"/>\n    <path clip-path=\"url(#p8c04769ae5)\" d=\"M 227.805 137.839219 \nL 227.805 119.719219 \nL 250.125 119.719219 \nL 250.125 137.839219 \nL 227.805 137.839219 \nz\n\" style=\"fill:#25838e;\"/>\n    <path clip-path=\"url(#p8c04769ae5)\" d=\"M 250.125 137.839219 \nL 250.125 119.719219 \nL 272.445 119.719219 \nL 272.445 137.839219 \nL 250.125 137.839219 \nz\n\" style=\"fill:#3f4889;\"/>\n    <path clip-path=\"url(#p8c04769ae5)\" d=\"M 272.445 137.839219 \nL 272.445 119.719219 \nL 294.765 119.719219 \nL 294.765 137.839219 \nL 272.445 137.839219 \nz\n\" style=\"fill:#3b518b;\"/>\n    <path clip-path=\"url(#p8c04769ae5)\" d=\"M 26.925 119.719219 \nL 26.925 101.599219 \nL 49.245 101.599219 \nL 49.245 119.719219 \nL 26.925 119.719219 \nz\n\" style=\"fill:#46337f;\"/>\n    <path clip-path=\"url(#p8c04769ae5)\" d=\"M 49.245 119.719219 \nL 49.245 101.599219 \nL 71.565 101.599219 \nL 71.565 119.719219 \nL 49.245 119.719219 \nz\n\" style=\"fill:#472e7c;\"/>\n    <path clip-path=\"url(#p8c04769ae5)\" d=\"M 71.565 119.719219 \nL 71.565 101.599219 \nL 93.885 101.599219 \nL 93.885 119.719219 \nL 71.565 119.719219 \nz\n\" style=\"fill:#440256;\"/>\n    <path clip-path=\"url(#p8c04769ae5)\" d=\"M 93.885 119.719219 \nL 93.885 101.599219 \nL 116.205 101.599219 \nL 116.205 119.719219 \nL 93.885 119.719219 \nz\n\" style=\"fill:#472f7d;\"/>\n    <path clip-path=\"url(#p8c04769ae5)\" d=\"M 116.205 119.719219 \nL 116.205 101.599219 \nL 138.525 101.599219 \nL 138.525 119.719219 \nL 116.205 119.719219 \nz\n\" style=\"fill:#472f7d;\"/>\n    <path clip-path=\"url(#p8c04769ae5)\" d=\"M 138.525 119.719219 \nL 138.525 101.599219 \nL 160.845 101.599219 \nL 160.845 119.719219 \nL 138.525 119.719219 \nz\n\" style=\"fill:#450559;\"/>\n    <path clip-path=\"url(#p8c04769ae5)\" d=\"M 160.845 119.719219 \nL 160.845 101.599219 \nL 183.165 101.599219 \nL 183.165 119.719219 \nL 160.845 119.719219 \nz\n\" style=\"fill:#fde725;\"/>\n    <path clip-path=\"url(#p8c04769ae5)\" d=\"M 183.165 119.719219 \nL 183.165 101.599219 \nL 205.485 101.599219 \nL 205.485 119.719219 \nL 183.165 119.719219 \nz\n\" style=\"fill:#46327e;\"/>\n    <path clip-path=\"url(#p8c04769ae5)\" d=\"M 205.485 119.719219 \nL 205.485 101.599219 \nL 227.805 101.599219 \nL 227.805 119.719219 \nL 205.485 119.719219 \nz\n\" style=\"fill:#472e7c;\"/>\n    <path clip-path=\"url(#p8c04769ae5)\" d=\"M 227.805 119.719219 \nL 227.805 101.599219 \nL 250.125 101.599219 \nL 250.125 119.719219 \nL 227.805 119.719219 \nz\n\" style=\"fill:#440154;\"/>\n    <path clip-path=\"url(#p8c04769ae5)\" d=\"M 250.125 119.719219 \nL 250.125 101.599219 \nL 272.445 101.599219 \nL 272.445 119.719219 \nL 250.125 119.719219 \nz\n\" style=\"fill:#472f7d;\"/>\n    <path clip-path=\"url(#p8c04769ae5)\" d=\"M 272.445 119.719219 \nL 272.445 101.599219 \nL 294.765 101.599219 \nL 294.765 119.719219 \nL 272.445 119.719219 \nz\n\" style=\"fill:#472e7c;\"/>\n    <path clip-path=\"url(#p8c04769ae5)\" d=\"M 26.925 101.599219 \nL 26.925 83.479219 \nL 49.245 83.479219 \nL 49.245 101.599219 \nL 26.925 101.599219 \nz\n\" style=\"fill:#453781;\"/>\n    <path clip-path=\"url(#p8c04769ae5)\" d=\"M 49.245 101.599219 \nL 49.245 83.479219 \nL 71.565 83.479219 \nL 71.565 101.599219 \nL 49.245 101.599219 \nz\n\" style=\"fill:#453581;\"/>\n    <path clip-path=\"url(#p8c04769ae5)\" d=\"M 71.565 101.599219 \nL 71.565 83.479219 \nL 93.885 83.479219 \nL 93.885 101.599219 \nL 71.565 101.599219 \nz\n\" style=\"fill:#46337f;\"/>\n    <path clip-path=\"url(#p8c04769ae5)\" d=\"M 93.885 101.599219 \nL 93.885 83.479219 \nL 116.205 83.479219 \nL 116.205 101.599219 \nL 93.885 101.599219 \nz\n\" style=\"fill:#443983;\"/>\n    <path clip-path=\"url(#p8c04769ae5)\" d=\"M 116.205 101.599219 \nL 116.205 83.479219 \nL 138.525 83.479219 \nL 138.525 101.599219 \nL 116.205 101.599219 \nz\n\" style=\"fill:#453581;\"/>\n    <path clip-path=\"url(#p8c04769ae5)\" d=\"M 138.525 101.599219 \nL 138.525 83.479219 \nL 160.845 83.479219 \nL 160.845 101.599219 \nL 138.525 101.599219 \nz\n\" style=\"fill:#453581;\"/>\n    <path clip-path=\"url(#p8c04769ae5)\" d=\"M 160.845 101.599219 \nL 160.845 83.479219 \nL 183.165 83.479219 \nL 183.165 101.599219 \nL 160.845 101.599219 \nz\n\" style=\"fill:#46327e;\"/>\n    <path clip-path=\"url(#p8c04769ae5)\" d=\"M 183.165 101.599219 \nL 183.165 83.479219 \nL 205.485 83.479219 \nL 205.485 101.599219 \nL 183.165 101.599219 \nz\n\" style=\"fill:#fde725;\"/>\n    <path clip-path=\"url(#p8c04769ae5)\" d=\"M 205.485 101.599219 \nL 205.485 83.479219 \nL 227.805 83.479219 \nL 227.805 101.599219 \nL 205.485 101.599219 \nz\n\" style=\"fill:#453882;\"/>\n    <path clip-path=\"url(#p8c04769ae5)\" d=\"M 227.805 101.599219 \nL 227.805 83.479219 \nL 250.125 83.479219 \nL 250.125 101.599219 \nL 227.805 101.599219 \nz\n\" style=\"fill:#453781;\"/>\n    <path clip-path=\"url(#p8c04769ae5)\" d=\"M 250.125 101.599219 \nL 250.125 83.479219 \nL 272.445 83.479219 \nL 272.445 101.599219 \nL 250.125 101.599219 \nz\n\" style=\"fill:#472d7b;\"/>\n    <path clip-path=\"url(#p8c04769ae5)\" d=\"M 272.445 101.599219 \nL 272.445 83.479219 \nL 294.765 83.479219 \nL 294.765 101.599219 \nL 272.445 101.599219 \nz\n\" style=\"fill:#46337f;\"/>\n    <path clip-path=\"url(#p8c04769ae5)\" d=\"M 26.925 83.479219 \nL 26.925 65.359219 \nL 49.245 65.359219 \nL 49.245 83.479219 \nL 26.925 83.479219 \nz\n\" style=\"fill:#453781;\"/>\n    <path clip-path=\"url(#p8c04769ae5)\" d=\"M 49.245 83.479219 \nL 49.245 65.359219 \nL 71.565 65.359219 \nL 71.565 83.479219 \nL 49.245 83.479219 \nz\n\" style=\"fill:#482878;\"/>\n    <path clip-path=\"url(#p8c04769ae5)\" d=\"M 71.565 83.479219 \nL 71.565 65.359219 \nL 93.885 65.359219 \nL 93.885 83.479219 \nL 71.565 83.479219 \nz\n\" style=\"fill:#2e6e8e;\"/>\n    <path clip-path=\"url(#p8c04769ae5)\" d=\"M 93.885 83.479219 \nL 93.885 65.359219 \nL 116.205 65.359219 \nL 116.205 83.479219 \nL 93.885 83.479219 \nz\n\" style=\"fill:#34618d;\"/>\n    <path clip-path=\"url(#p8c04769ae5)\" d=\"M 116.205 83.479219 \nL 116.205 65.359219 \nL 138.525 65.359219 \nL 138.525 83.479219 \nL 116.205 83.479219 \nz\n\" style=\"fill:#355e8d;\"/>\n    <path clip-path=\"url(#p8c04769ae5)\" d=\"M 138.525 83.479219 \nL 138.525 65.359219 \nL 160.845 65.359219 \nL 160.845 83.479219 \nL 138.525 83.479219 \nz\n\" style=\"fill:#365d8d;\"/>\n    <path clip-path=\"url(#p8c04769ae5)\" d=\"M 160.845 83.479219 \nL 160.845 65.359219 \nL 183.165 65.359219 \nL 183.165 83.479219 \nL 160.845 83.479219 \nz\n\" style=\"fill:#472e7c;\"/>\n    <path clip-path=\"url(#p8c04769ae5)\" d=\"M 183.165 83.479219 \nL 183.165 65.359219 \nL 205.485 65.359219 \nL 205.485 83.479219 \nL 183.165 83.479219 \nz\n\" style=\"fill:#453882;\"/>\n    <path clip-path=\"url(#p8c04769ae5)\" d=\"M 205.485 83.479219 \nL 205.485 65.359219 \nL 227.805 65.359219 \nL 227.805 83.479219 \nL 205.485 83.479219 \nz\n\" style=\"fill:#fde725;\"/>\n    <path clip-path=\"url(#p8c04769ae5)\" d=\"M 227.805 83.479219 \nL 227.805 65.359219 \nL 250.125 65.359219 \nL 250.125 83.479219 \nL 227.805 83.479219 \nz\n\" style=\"fill:#34618d;\"/>\n    <path clip-path=\"url(#p8c04769ae5)\" d=\"M 250.125 83.479219 \nL 250.125 65.359219 \nL 272.445 65.359219 \nL 272.445 83.479219 \nL 250.125 83.479219 \nz\n\" style=\"fill:#443a83;\"/>\n    <path clip-path=\"url(#p8c04769ae5)\" d=\"M 272.445 83.479219 \nL 272.445 65.359219 \nL 294.765 65.359219 \nL 294.765 83.479219 \nL 272.445 83.479219 \nz\n\" style=\"fill:#38588c;\"/>\n    <path clip-path=\"url(#p8c04769ae5)\" d=\"M 26.925 65.359219 \nL 26.925 47.239219 \nL 49.245 47.239219 \nL 49.245 65.359219 \nL 26.925 65.359219 \nz\n\" style=\"fill:#453882;\"/>\n    <path clip-path=\"url(#p8c04769ae5)\" d=\"M 49.245 65.359219 \nL 49.245 47.239219 \nL 71.565 47.239219 \nL 71.565 65.359219 \nL 49.245 65.359219 \nz\n\" style=\"fill:#433e85;\"/>\n    <path clip-path=\"url(#p8c04769ae5)\" d=\"M 71.565 65.359219 \nL 71.565 47.239219 \nL 93.885 47.239219 \nL 93.885 65.359219 \nL 71.565 65.359219 \nz\n\" style=\"fill:#26828e;\"/>\n    <path clip-path=\"url(#p8c04769ae5)\" d=\"M 93.885 65.359219 \nL 93.885 47.239219 \nL 116.205 47.239219 \nL 116.205 65.359219 \nL 93.885 65.359219 \nz\n\" style=\"fill:#355f8d;\"/>\n    <path clip-path=\"url(#p8c04769ae5)\" d=\"M 116.205 65.359219 \nL 116.205 47.239219 \nL 138.525 47.239219 \nL 138.525 65.359219 \nL 116.205 65.359219 \nz\n\" style=\"fill:#424186;\"/>\n    <path clip-path=\"url(#p8c04769ae5)\" d=\"M 138.525 65.359219 \nL 138.525 47.239219 \nL 160.845 47.239219 \nL 160.845 65.359219 \nL 138.525 65.359219 \nz\n\" style=\"fill:#25838e;\"/>\n    <path clip-path=\"url(#p8c04769ae5)\" d=\"M 160.845 65.359219 \nL 160.845 47.239219 \nL 183.165 47.239219 \nL 183.165 65.359219 \nL 160.845 65.359219 \nz\n\" style=\"fill:#440154;\"/>\n    <path clip-path=\"url(#p8c04769ae5)\" d=\"M 183.165 65.359219 \nL 183.165 47.239219 \nL 205.485 47.239219 \nL 205.485 65.359219 \nL 183.165 65.359219 \nz\n\" style=\"fill:#453781;\"/>\n    <path clip-path=\"url(#p8c04769ae5)\" d=\"M 205.485 65.359219 \nL 205.485 47.239219 \nL 227.805 47.239219 \nL 227.805 65.359219 \nL 205.485 65.359219 \nz\n\" style=\"fill:#34618d;\"/>\n    <path clip-path=\"url(#p8c04769ae5)\" d=\"M 227.805 65.359219 \nL 227.805 47.239219 \nL 250.125 47.239219 \nL 250.125 65.359219 \nL 227.805 65.359219 \nz\n\" style=\"fill:#fde725;\"/>\n    <path clip-path=\"url(#p8c04769ae5)\" d=\"M 250.125 65.359219 \nL 250.125 47.239219 \nL 272.445 47.239219 \nL 272.445 65.359219 \nL 250.125 65.359219 \nz\n\" style=\"fill:#424086;\"/>\n    <path clip-path=\"url(#p8c04769ae5)\" d=\"M 272.445 65.359219 \nL 272.445 47.239219 \nL 294.765 47.239219 \nL 294.765 65.359219 \nL 272.445 65.359219 \nz\n\" style=\"fill:#424186;\"/>\n    <path clip-path=\"url(#p8c04769ae5)\" d=\"M 26.925 47.239219 \nL 26.925 29.119219 \nL 49.245 29.119219 \nL 49.245 47.239219 \nL 26.925 47.239219 \nz\n\" style=\"fill:#453581;\"/>\n    <path clip-path=\"url(#p8c04769ae5)\" d=\"M 49.245 47.239219 \nL 49.245 29.119219 \nL 71.565 29.119219 \nL 71.565 47.239219 \nL 49.245 47.239219 \nz\n\" style=\"fill:#482173;\"/>\n    <path clip-path=\"url(#p8c04769ae5)\" d=\"M 71.565 47.239219 \nL 71.565 29.119219 \nL 93.885 29.119219 \nL 93.885 47.239219 \nL 71.565 47.239219 \nz\n\" style=\"fill:#414287;\"/>\n    <path clip-path=\"url(#p8c04769ae5)\" d=\"M 93.885 47.239219 \nL 93.885 29.119219 \nL 116.205 29.119219 \nL 116.205 47.239219 \nL 93.885 47.239219 \nz\n\" style=\"fill:#453781;\"/>\n    <path clip-path=\"url(#p8c04769ae5)\" d=\"M 116.205 47.239219 \nL 116.205 29.119219 \nL 138.525 29.119219 \nL 138.525 47.239219 \nL 116.205 47.239219 \nz\n\" style=\"fill:#404688;\"/>\n    <path clip-path=\"url(#p8c04769ae5)\" d=\"M 138.525 47.239219 \nL 138.525 29.119219 \nL 160.845 29.119219 \nL 160.845 47.239219 \nL 138.525 47.239219 \nz\n\" style=\"fill:#3f4889;\"/>\n    <path clip-path=\"url(#p8c04769ae5)\" d=\"M 160.845 47.239219 \nL 160.845 29.119219 \nL 183.165 29.119219 \nL 183.165 47.239219 \nL 160.845 47.239219 \nz\n\" style=\"fill:#472f7d;\"/>\n    <path clip-path=\"url(#p8c04769ae5)\" d=\"M 183.165 47.239219 \nL 183.165 29.119219 \nL 205.485 29.119219 \nL 205.485 47.239219 \nL 183.165 47.239219 \nz\n\" style=\"fill:#472d7b;\"/>\n    <path clip-path=\"url(#p8c04769ae5)\" d=\"M 205.485 47.239219 \nL 205.485 29.119219 \nL 227.805 29.119219 \nL 227.805 47.239219 \nL 205.485 47.239219 \nz\n\" style=\"fill:#443a83;\"/>\n    <path clip-path=\"url(#p8c04769ae5)\" d=\"M 227.805 47.239219 \nL 227.805 29.119219 \nL 250.125 29.119219 \nL 250.125 47.239219 \nL 227.805 47.239219 \nz\n\" style=\"fill:#424086;\"/>\n    <path clip-path=\"url(#p8c04769ae5)\" d=\"M 250.125 47.239219 \nL 250.125 29.119219 \nL 272.445 29.119219 \nL 272.445 47.239219 \nL 250.125 47.239219 \nz\n\" style=\"fill:#fde725;\"/>\n    <path clip-path=\"url(#p8c04769ae5)\" d=\"M 272.445 47.239219 \nL 272.445 29.119219 \nL 294.765 29.119219 \nL 294.765 47.239219 \nL 272.445 47.239219 \nz\n\" style=\"fill:#433d84;\"/>\n    <path clip-path=\"url(#p8c04769ae5)\" d=\"M 26.925 29.119219 \nL 26.925 10.999219 \nL 49.245 10.999219 \nL 49.245 29.119219 \nL 26.925 29.119219 \nz\n\" style=\"fill:#453882;\"/>\n    <path clip-path=\"url(#p8c04769ae5)\" d=\"M 49.245 29.119219 \nL 49.245 10.999219 \nL 71.565 10.999219 \nL 71.565 29.119219 \nL 49.245 29.119219 \nz\n\" style=\"fill:#463480;\"/>\n    <path clip-path=\"url(#p8c04769ae5)\" d=\"M 71.565 29.119219 \nL 71.565 10.999219 \nL 93.885 10.999219 \nL 93.885 29.119219 \nL 71.565 29.119219 \nz\n\" style=\"fill:#2d708e;\"/>\n    <path clip-path=\"url(#p8c04769ae5)\" d=\"M 93.885 29.119219 \nL 93.885 10.999219 \nL 116.205 10.999219 \nL 116.205 29.119219 \nL 93.885 29.119219 \nz\n\" style=\"fill:#39568c;\"/>\n    <path clip-path=\"url(#p8c04769ae5)\" d=\"M 116.205 29.119219 \nL 116.205 10.999219 \nL 138.525 10.999219 \nL 138.525 29.119219 \nL 116.205 29.119219 \nz\n\" style=\"fill:#38588c;\"/>\n    <path clip-path=\"url(#p8c04769ae5)\" d=\"M 138.525 29.119219 \nL 138.525 10.999219 \nL 160.845 10.999219 \nL 160.845 29.119219 \nL 138.525 29.119219 \nz\n\" style=\"fill:#3b518b;\"/>\n    <path clip-path=\"url(#p8c04769ae5)\" d=\"M 160.845 29.119219 \nL 160.845 10.999219 \nL 183.165 10.999219 \nL 183.165 29.119219 \nL 160.845 29.119219 \nz\n\" style=\"fill:#472e7c;\"/>\n    <path clip-path=\"url(#p8c04769ae5)\" d=\"M 183.165 29.119219 \nL 183.165 10.999219 \nL 205.485 10.999219 \nL 205.485 29.119219 \nL 183.165 29.119219 \nz\n\" style=\"fill:#46337f;\"/>\n    <path clip-path=\"url(#p8c04769ae5)\" d=\"M 205.485 29.119219 \nL 205.485 10.999219 \nL 227.805 10.999219 \nL 227.805 29.119219 \nL 205.485 29.119219 \nz\n\" style=\"fill:#38588c;\"/>\n    <path clip-path=\"url(#p8c04769ae5)\" d=\"M 227.805 29.119219 \nL 227.805 10.999219 \nL 250.125 10.999219 \nL 250.125 29.119219 \nL 227.805 29.119219 \nz\n\" style=\"fill:#424186;\"/>\n    <path clip-path=\"url(#p8c04769ae5)\" d=\"M 250.125 29.119219 \nL 250.125 10.999219 \nL 272.445 10.999219 \nL 272.445 29.119219 \nL 250.125 29.119219 \nz\n\" style=\"fill:#433d84;\"/>\n    <path clip-path=\"url(#p8c04769ae5)\" d=\"M 272.445 29.119219 \nL 272.445 10.999219 \nL 294.765 10.999219 \nL 294.765 29.119219 \nL 272.445 29.119219 \nz\n\" style=\"fill:#fde725;\"/>\n   </g>\n   <g id=\"matplotlib.axis_1\">\n    <g id=\"xtick_1\">\n     <g id=\"line2d_1\">\n      <defs>\n       <path d=\"M 0 0 \nL 0 3.5 \n\" id=\"me746db2d8b\" style=\"stroke:#000000;stroke-width:0.8;\"/>\n      </defs>\n      <g>\n       <use style=\"stroke:#000000;stroke-width:0.8;\" x=\"26.925\" xlink:href=\"#me746db2d8b\" y=\"228.439219\"/>\n      </g>\n     </g>\n     <g id=\"text_1\">\n      <!-- 0 -->\n      <g transform=\"translate(23.74375 243.037656)scale(0.1 -0.1)\">\n       <defs>\n        <path d=\"M 31.78125 66.40625 \nQ 24.171875 66.40625 20.328125 58.90625 \nQ 16.5 51.421875 16.5 36.375 \nQ 16.5 21.390625 20.328125 13.890625 \nQ 24.171875 6.390625 31.78125 6.390625 \nQ 39.453125 6.390625 43.28125 13.890625 \nQ 47.125 21.390625 47.125 36.375 \nQ 47.125 51.421875 43.28125 58.90625 \nQ 39.453125 66.40625 31.78125 66.40625 \nz\nM 31.78125 74.21875 \nQ 44.046875 74.21875 50.515625 64.515625 \nQ 56.984375 54.828125 56.984375 36.375 \nQ 56.984375 17.96875 50.515625 8.265625 \nQ 44.046875 -1.421875 31.78125 -1.421875 \nQ 19.53125 -1.421875 13.0625 8.265625 \nQ 6.59375 17.96875 6.59375 36.375 \nQ 6.59375 54.828125 13.0625 64.515625 \nQ 19.53125 74.21875 31.78125 74.21875 \nz\n\" id=\"DejaVuSans-48\"/>\n       </defs>\n       <use xlink:href=\"#DejaVuSans-48\"/>\n      </g>\n     </g>\n    </g>\n    <g id=\"xtick_2\">\n     <g id=\"line2d_2\">\n      <g>\n       <use style=\"stroke:#000000;stroke-width:0.8;\" x=\"71.565\" xlink:href=\"#me746db2d8b\" y=\"228.439219\"/>\n      </g>\n     </g>\n     <g id=\"text_2\">\n      <!-- 2 -->\n      <g transform=\"translate(68.38375 243.037656)scale(0.1 -0.1)\">\n       <defs>\n        <path d=\"M 19.1875 8.296875 \nL 53.609375 8.296875 \nL 53.609375 0 \nL 7.328125 0 \nL 7.328125 8.296875 \nQ 12.9375 14.109375 22.625 23.890625 \nQ 32.328125 33.6875 34.8125 36.53125 \nQ 39.546875 41.84375 41.421875 45.53125 \nQ 43.3125 49.21875 43.3125 52.78125 \nQ 43.3125 58.59375 39.234375 62.25 \nQ 35.15625 65.921875 28.609375 65.921875 \nQ 23.96875 65.921875 18.8125 64.3125 \nQ 13.671875 62.703125 7.8125 59.421875 \nL 7.8125 69.390625 \nQ 13.765625 71.78125 18.9375 73 \nQ 24.125 74.21875 28.421875 74.21875 \nQ 39.75 74.21875 46.484375 68.546875 \nQ 53.21875 62.890625 53.21875 53.421875 \nQ 53.21875 48.921875 51.53125 44.890625 \nQ 49.859375 40.875 45.40625 35.40625 \nQ 44.1875 33.984375 37.640625 27.21875 \nQ 31.109375 20.453125 19.1875 8.296875 \nz\n\" id=\"DejaVuSans-50\"/>\n       </defs>\n       <use xlink:href=\"#DejaVuSans-50\"/>\n      </g>\n     </g>\n    </g>\n    <g id=\"xtick_3\">\n     <g id=\"line2d_3\">\n      <g>\n       <use style=\"stroke:#000000;stroke-width:0.8;\" x=\"116.205\" xlink:href=\"#me746db2d8b\" y=\"228.439219\"/>\n      </g>\n     </g>\n     <g id=\"text_3\">\n      <!-- 4 -->\n      <g transform=\"translate(113.02375 243.037656)scale(0.1 -0.1)\">\n       <defs>\n        <path d=\"M 37.796875 64.3125 \nL 12.890625 25.390625 \nL 37.796875 25.390625 \nz\nM 35.203125 72.90625 \nL 47.609375 72.90625 \nL 47.609375 25.390625 \nL 58.015625 25.390625 \nL 58.015625 17.1875 \nL 47.609375 17.1875 \nL 47.609375 0 \nL 37.796875 0 \nL 37.796875 17.1875 \nL 4.890625 17.1875 \nL 4.890625 26.703125 \nz\n\" id=\"DejaVuSans-52\"/>\n       </defs>\n       <use xlink:href=\"#DejaVuSans-52\"/>\n      </g>\n     </g>\n    </g>\n    <g id=\"xtick_4\">\n     <g id=\"line2d_4\">\n      <g>\n       <use style=\"stroke:#000000;stroke-width:0.8;\" x=\"160.845\" xlink:href=\"#me746db2d8b\" y=\"228.439219\"/>\n      </g>\n     </g>\n     <g id=\"text_4\">\n      <!-- 6 -->\n      <g transform=\"translate(157.66375 243.037656)scale(0.1 -0.1)\">\n       <defs>\n        <path d=\"M 33.015625 40.375 \nQ 26.375 40.375 22.484375 35.828125 \nQ 18.609375 31.296875 18.609375 23.390625 \nQ 18.609375 15.53125 22.484375 10.953125 \nQ 26.375 6.390625 33.015625 6.390625 \nQ 39.65625 6.390625 43.53125 10.953125 \nQ 47.40625 15.53125 47.40625 23.390625 \nQ 47.40625 31.296875 43.53125 35.828125 \nQ 39.65625 40.375 33.015625 40.375 \nz\nM 52.59375 71.296875 \nL 52.59375 62.3125 \nQ 48.875 64.0625 45.09375 64.984375 \nQ 41.3125 65.921875 37.59375 65.921875 \nQ 27.828125 65.921875 22.671875 59.328125 \nQ 17.53125 52.734375 16.796875 39.40625 \nQ 19.671875 43.65625 24.015625 45.921875 \nQ 28.375 48.1875 33.59375 48.1875 \nQ 44.578125 48.1875 50.953125 41.515625 \nQ 57.328125 34.859375 57.328125 23.390625 \nQ 57.328125 12.15625 50.6875 5.359375 \nQ 44.046875 -1.421875 33.015625 -1.421875 \nQ 20.359375 -1.421875 13.671875 8.265625 \nQ 6.984375 17.96875 6.984375 36.375 \nQ 6.984375 53.65625 15.1875 63.9375 \nQ 23.390625 74.21875 37.203125 74.21875 \nQ 40.921875 74.21875 44.703125 73.484375 \nQ 48.484375 72.75 52.59375 71.296875 \nz\n\" id=\"DejaVuSans-54\"/>\n       </defs>\n       <use xlink:href=\"#DejaVuSans-54\"/>\n      </g>\n     </g>\n    </g>\n    <g id=\"xtick_5\">\n     <g id=\"line2d_5\">\n      <g>\n       <use style=\"stroke:#000000;stroke-width:0.8;\" x=\"205.485\" xlink:href=\"#me746db2d8b\" y=\"228.439219\"/>\n      </g>\n     </g>\n     <g id=\"text_5\">\n      <!-- 8 -->\n      <g transform=\"translate(202.30375 243.037656)scale(0.1 -0.1)\">\n       <defs>\n        <path d=\"M 31.78125 34.625 \nQ 24.75 34.625 20.71875 30.859375 \nQ 16.703125 27.09375 16.703125 20.515625 \nQ 16.703125 13.921875 20.71875 10.15625 \nQ 24.75 6.390625 31.78125 6.390625 \nQ 38.8125 6.390625 42.859375 10.171875 \nQ 46.921875 13.96875 46.921875 20.515625 \nQ 46.921875 27.09375 42.890625 30.859375 \nQ 38.875 34.625 31.78125 34.625 \nz\nM 21.921875 38.8125 \nQ 15.578125 40.375 12.03125 44.71875 \nQ 8.5 49.078125 8.5 55.328125 \nQ 8.5 64.0625 14.71875 69.140625 \nQ 20.953125 74.21875 31.78125 74.21875 \nQ 42.671875 74.21875 48.875 69.140625 \nQ 55.078125 64.0625 55.078125 55.328125 \nQ 55.078125 49.078125 51.53125 44.71875 \nQ 48 40.375 41.703125 38.8125 \nQ 48.828125 37.15625 52.796875 32.3125 \nQ 56.78125 27.484375 56.78125 20.515625 \nQ 56.78125 9.90625 50.3125 4.234375 \nQ 43.84375 -1.421875 31.78125 -1.421875 \nQ 19.734375 -1.421875 13.25 4.234375 \nQ 6.78125 9.90625 6.78125 20.515625 \nQ 6.78125 27.484375 10.78125 32.3125 \nQ 14.796875 37.15625 21.921875 38.8125 \nz\nM 18.3125 54.390625 \nQ 18.3125 48.734375 21.84375 45.5625 \nQ 25.390625 42.390625 31.78125 42.390625 \nQ 38.140625 42.390625 41.71875 45.5625 \nQ 45.3125 48.734375 45.3125 54.390625 \nQ 45.3125 60.0625 41.71875 63.234375 \nQ 38.140625 66.40625 31.78125 66.40625 \nQ 25.390625 66.40625 21.84375 63.234375 \nQ 18.3125 60.0625 18.3125 54.390625 \nz\n\" id=\"DejaVuSans-56\"/>\n       </defs>\n       <use xlink:href=\"#DejaVuSans-56\"/>\n      </g>\n     </g>\n    </g>\n    <g id=\"xtick_6\">\n     <g id=\"line2d_6\">\n      <g>\n       <use style=\"stroke:#000000;stroke-width:0.8;\" x=\"250.125\" xlink:href=\"#me746db2d8b\" y=\"228.439219\"/>\n      </g>\n     </g>\n     <g id=\"text_6\">\n      <!-- 10 -->\n      <g transform=\"translate(243.7625 243.037656)scale(0.1 -0.1)\">\n       <defs>\n        <path d=\"M 12.40625 8.296875 \nL 28.515625 8.296875 \nL 28.515625 63.921875 \nL 10.984375 60.40625 \nL 10.984375 69.390625 \nL 28.421875 72.90625 \nL 38.28125 72.90625 \nL 38.28125 8.296875 \nL 54.390625 8.296875 \nL 54.390625 0 \nL 12.40625 0 \nz\n\" id=\"DejaVuSans-49\"/>\n       </defs>\n       <use xlink:href=\"#DejaVuSans-49\"/>\n       <use x=\"63.623047\" xlink:href=\"#DejaVuSans-48\"/>\n      </g>\n     </g>\n    </g>\n    <g id=\"xtick_7\">\n     <g id=\"line2d_7\">\n      <g>\n       <use style=\"stroke:#000000;stroke-width:0.8;\" x=\"294.765\" xlink:href=\"#me746db2d8b\" y=\"228.439219\"/>\n      </g>\n     </g>\n     <g id=\"text_7\">\n      <!-- 12 -->\n      <g transform=\"translate(288.4025 243.037656)scale(0.1 -0.1)\">\n       <use xlink:href=\"#DejaVuSans-49\"/>\n       <use x=\"63.623047\" xlink:href=\"#DejaVuSans-50\"/>\n      </g>\n     </g>\n    </g>\n   </g>\n   <g id=\"matplotlib.axis_2\">\n    <g id=\"ytick_1\">\n     <g id=\"line2d_8\">\n      <defs>\n       <path d=\"M 0 0 \nL -3.5 0 \n\" id=\"me5e6314dbf\" style=\"stroke:#000000;stroke-width:0.8;\"/>\n      </defs>\n      <g>\n       <use style=\"stroke:#000000;stroke-width:0.8;\" x=\"26.925\" xlink:href=\"#me5e6314dbf\" y=\"228.439219\"/>\n      </g>\n     </g>\n     <g id=\"text_8\">\n      <!-- 0 -->\n      <g transform=\"translate(13.5625 232.238437)scale(0.1 -0.1)\">\n       <use xlink:href=\"#DejaVuSans-48\"/>\n      </g>\n     </g>\n    </g>\n    <g id=\"ytick_2\">\n     <g id=\"line2d_9\">\n      <g>\n       <use style=\"stroke:#000000;stroke-width:0.8;\" x=\"26.925\" xlink:href=\"#me5e6314dbf\" y=\"192.199219\"/>\n      </g>\n     </g>\n     <g id=\"text_9\">\n      <!-- 2 -->\n      <g transform=\"translate(13.5625 195.998437)scale(0.1 -0.1)\">\n       <use xlink:href=\"#DejaVuSans-50\"/>\n      </g>\n     </g>\n    </g>\n    <g id=\"ytick_3\">\n     <g id=\"line2d_10\">\n      <g>\n       <use style=\"stroke:#000000;stroke-width:0.8;\" x=\"26.925\" xlink:href=\"#me5e6314dbf\" y=\"155.959219\"/>\n      </g>\n     </g>\n     <g id=\"text_10\">\n      <!-- 4 -->\n      <g transform=\"translate(13.5625 159.758437)scale(0.1 -0.1)\">\n       <use xlink:href=\"#DejaVuSans-52\"/>\n      </g>\n     </g>\n    </g>\n    <g id=\"ytick_4\">\n     <g id=\"line2d_11\">\n      <g>\n       <use style=\"stroke:#000000;stroke-width:0.8;\" x=\"26.925\" xlink:href=\"#me5e6314dbf\" y=\"119.719219\"/>\n      </g>\n     </g>\n     <g id=\"text_11\">\n      <!-- 6 -->\n      <g transform=\"translate(13.5625 123.518438)scale(0.1 -0.1)\">\n       <use xlink:href=\"#DejaVuSans-54\"/>\n      </g>\n     </g>\n    </g>\n    <g id=\"ytick_5\">\n     <g id=\"line2d_12\">\n      <g>\n       <use style=\"stroke:#000000;stroke-width:0.8;\" x=\"26.925\" xlink:href=\"#me5e6314dbf\" y=\"83.479219\"/>\n      </g>\n     </g>\n     <g id=\"text_12\">\n      <!-- 8 -->\n      <g transform=\"translate(13.5625 87.278437)scale(0.1 -0.1)\">\n       <use xlink:href=\"#DejaVuSans-56\"/>\n      </g>\n     </g>\n    </g>\n    <g id=\"ytick_6\">\n     <g id=\"line2d_13\">\n      <g>\n       <use style=\"stroke:#000000;stroke-width:0.8;\" x=\"26.925\" xlink:href=\"#me5e6314dbf\" y=\"47.239219\"/>\n      </g>\n     </g>\n     <g id=\"text_13\">\n      <!-- 10 -->\n      <g transform=\"translate(7.2 51.038437)scale(0.1 -0.1)\">\n       <use xlink:href=\"#DejaVuSans-49\"/>\n       <use x=\"63.623047\" xlink:href=\"#DejaVuSans-48\"/>\n      </g>\n     </g>\n    </g>\n    <g id=\"ytick_7\">\n     <g id=\"line2d_14\">\n      <g>\n       <use style=\"stroke:#000000;stroke-width:0.8;\" x=\"26.925\" xlink:href=\"#me5e6314dbf\" y=\"10.999219\"/>\n      </g>\n     </g>\n     <g id=\"text_14\">\n      <!-- 12 -->\n      <g transform=\"translate(7.2 14.798438)scale(0.1 -0.1)\">\n       <use xlink:href=\"#DejaVuSans-49\"/>\n       <use x=\"63.623047\" xlink:href=\"#DejaVuSans-50\"/>\n      </g>\n     </g>\n    </g>\n   </g>\n   <g id=\"patch_3\">\n    <path d=\"M 26.925 228.439219 \nL 26.925 10.999219 \n\" style=\"fill:none;stroke:#000000;stroke-linecap:square;stroke-linejoin:miter;stroke-width:0.8;\"/>\n   </g>\n   <g id=\"patch_4\">\n    <path d=\"M 294.765 228.439219 \nL 294.765 10.999219 \n\" style=\"fill:none;stroke:#000000;stroke-linecap:square;stroke-linejoin:miter;stroke-width:0.8;\"/>\n   </g>\n   <g id=\"patch_5\">\n    <path d=\"M 26.925 228.439219 \nL 294.765 228.439219 \n\" style=\"fill:none;stroke:#000000;stroke-linecap:square;stroke-linejoin:miter;stroke-width:0.8;\"/>\n   </g>\n   <g id=\"patch_6\">\n    <path d=\"M 26.925 10.999219 \nL 294.765 10.999219 \n\" style=\"fill:none;stroke:#000000;stroke-linecap:square;stroke-linejoin:miter;stroke-width:0.8;\"/>\n   </g>\n  </g>\n  <g id=\"axes_2\">\n   <g id=\"patch_7\">\n    <path clip-path=\"url(#p4ba6b414a8)\" d=\"M 311.505 228.439219 \nL 311.505 227.589844 \nL 311.505 11.848594 \nL 311.505 10.999219 \nL 322.377 10.999219 \nL 322.377 11.848594 \nL 322.377 227.589844 \nL 322.377 228.439219 \nz\n\" style=\"fill:#ffffff;stroke:#ffffff;stroke-linejoin:miter;stroke-width:0.01;\"/>\n   </g>\n   <image height=\"217\" id=\"imagedccc4d8b5b\" transform=\"scale(1 -1)translate(0 -217)\" width=\"10\" x=\"312\" xlink:href=\"data:image/png;base64,\niVBORw0KGgoAAAANSUhEUgAAAAoAAADZCAYAAAAZmKE8AAABSElEQVR4nN2a7Q3CMAxE/ZF0MmZg/0UgrPAsnWVafp/u/M6Jigr+ivcx8FkeTnS2zIMJuWMmjYaOHnBG7GhyR8fUfDNy4WCPDdTy6IZ61NSHRyNdB3XDjPKrcHJuM0zXAXPk0RhGfygOvVx66oIjFBbOI3W8A3XDCnG03FFO3bFrtWNHjzeoZ+70PIua6UoPTRqNnzPy6Get8FH13ABGv0Jzdg9H6/l/ajhhDQbOqC+8occ5aviVoqdwPcyYI3znUqDm0XP1RAOMmlo/YwQV6qNNXU/GF0brYRqooXDJqfUw+mhO3TCjuvDFHaEwG1aopt7+ETsWqNUwSR13UGq6mdSfHhpdWCGOHtsM7pFT82g1DC78aoCR71p+FbZB6gKM+jnDDy6/rnoYpKs4MkNbF32FjB2TO0JhUiF23A7/gsBnpL+xB3z58QPEqIFoYmPZkwAAAABJRU5ErkJggg==\" y=\"-11\"/>\n   <g id=\"matplotlib.axis_3\"/>\n   <g id=\"matplotlib.axis_4\">\n    <g id=\"ytick_8\">\n     <g id=\"line2d_15\">\n      <defs>\n       <path d=\"M 0 0 \nL 3.5 0 \n\" id=\"m98e8db5746\" style=\"stroke:#000000;stroke-width:0.8;\"/>\n      </defs>\n      <g>\n       <use style=\"stroke:#000000;stroke-width:0.8;\" x=\"322.377\" xlink:href=\"#m98e8db5746\" y=\"193.9509\"/>\n      </g>\n     </g>\n     <g id=\"text_15\">\n      <!-- 0.0 -->\n      <g transform=\"translate(329.377 197.750119)scale(0.1 -0.1)\">\n       <defs>\n        <path d=\"M 10.6875 12.40625 \nL 21 12.40625 \nL 21 0 \nL 10.6875 0 \nz\n\" id=\"DejaVuSans-46\"/>\n       </defs>\n       <use xlink:href=\"#DejaVuSans-48\"/>\n       <use x=\"63.623047\" xlink:href=\"#DejaVuSans-46\"/>\n       <use x=\"95.410156\" xlink:href=\"#DejaVuSans-48\"/>\n      </g>\n     </g>\n    </g>\n    <g id=\"ytick_9\">\n     <g id=\"line2d_16\">\n      <g>\n       <use style=\"stroke:#000000;stroke-width:0.8;\" x=\"322.377\" xlink:href=\"#m98e8db5746\" y=\"157.360564\"/>\n      </g>\n     </g>\n     <g id=\"text_16\">\n      <!-- 0.2 -->\n      <g transform=\"translate(329.377 161.159783)scale(0.1 -0.1)\">\n       <use xlink:href=\"#DejaVuSans-48\"/>\n       <use x=\"63.623047\" xlink:href=\"#DejaVuSans-46\"/>\n       <use x=\"95.410156\" xlink:href=\"#DejaVuSans-50\"/>\n      </g>\n     </g>\n    </g>\n    <g id=\"ytick_10\">\n     <g id=\"line2d_17\">\n      <g>\n       <use style=\"stroke:#000000;stroke-width:0.8;\" x=\"322.377\" xlink:href=\"#m98e8db5746\" y=\"120.770228\"/>\n      </g>\n     </g>\n     <g id=\"text_17\">\n      <!-- 0.4 -->\n      <g transform=\"translate(329.377 124.569446)scale(0.1 -0.1)\">\n       <use xlink:href=\"#DejaVuSans-48\"/>\n       <use x=\"63.623047\" xlink:href=\"#DejaVuSans-46\"/>\n       <use x=\"95.410156\" xlink:href=\"#DejaVuSans-52\"/>\n      </g>\n     </g>\n    </g>\n    <g id=\"ytick_11\">\n     <g id=\"line2d_18\">\n      <g>\n       <use style=\"stroke:#000000;stroke-width:0.8;\" x=\"322.377\" xlink:href=\"#m98e8db5746\" y=\"84.179891\"/>\n      </g>\n     </g>\n     <g id=\"text_18\">\n      <!-- 0.6 -->\n      <g transform=\"translate(329.377 87.97911)scale(0.1 -0.1)\">\n       <use xlink:href=\"#DejaVuSans-48\"/>\n       <use x=\"63.623047\" xlink:href=\"#DejaVuSans-46\"/>\n       <use x=\"95.410156\" xlink:href=\"#DejaVuSans-54\"/>\n      </g>\n     </g>\n    </g>\n    <g id=\"ytick_12\">\n     <g id=\"line2d_19\">\n      <g>\n       <use style=\"stroke:#000000;stroke-width:0.8;\" x=\"322.377\" xlink:href=\"#m98e8db5746\" y=\"47.589555\"/>\n      </g>\n     </g>\n     <g id=\"text_19\">\n      <!-- 0.8 -->\n      <g transform=\"translate(329.377 51.388774)scale(0.1 -0.1)\">\n       <use xlink:href=\"#DejaVuSans-48\"/>\n       <use x=\"63.623047\" xlink:href=\"#DejaVuSans-46\"/>\n       <use x=\"95.410156\" xlink:href=\"#DejaVuSans-56\"/>\n      </g>\n     </g>\n    </g>\n    <g id=\"ytick_13\">\n     <g id=\"line2d_20\">\n      <g>\n       <use style=\"stroke:#000000;stroke-width:0.8;\" x=\"322.377\" xlink:href=\"#m98e8db5746\" y=\"10.999219\"/>\n      </g>\n     </g>\n     <g id=\"text_20\">\n      <!-- 1.0 -->\n      <g transform=\"translate(329.377 14.798437)scale(0.1 -0.1)\">\n       <use xlink:href=\"#DejaVuSans-49\"/>\n       <use x=\"63.623047\" xlink:href=\"#DejaVuSans-46\"/>\n       <use x=\"95.410156\" xlink:href=\"#DejaVuSans-48\"/>\n      </g>\n     </g>\n    </g>\n   </g>\n   <g id=\"patch_8\">\n    <path d=\"M 311.505 228.439219 \nL 311.505 227.589844 \nL 311.505 11.848594 \nL 311.505 10.999219 \nL 322.377 10.999219 \nL 322.377 11.848594 \nL 322.377 227.589844 \nL 322.377 228.439219 \nz\n\" style=\"fill:none;stroke:#000000;stroke-linejoin:miter;stroke-width:0.8;\"/>\n   </g>\n  </g>\n </g>\n <defs>\n  <clipPath id=\"p8c04769ae5\">\n   <rect height=\"217.44\" width=\"267.84\" x=\"26.925\" y=\"10.999219\"/>\n  </clipPath>\n  <clipPath id=\"p4ba6b414a8\">\n   <rect height=\"217.44\" width=\"10.872\" x=\"311.505\" y=\"10.999219\"/>\n  </clipPath>\n </defs>\n</svg>\n",
      "image/png": "[encoded data removed]"
     },
     "metadata": {
      "needs_background": "light"
     }
    }
   ],
   "source": [
    "plt.clf()\n",
    "plt.pcolor(corr2)\n",
    "plt.colorbar()\n",
    "plt.show()"
   ]
  },
  {
   "source": [
    "- 특별히 상관관계가 큰 변수는 없음\n",
    "- 모든 변수를 분석에 포함\n",
    "- bmi의 Nan값과 smoking_status는 상관관계가 큰 변수가 없으므로 다른 방법을 찾아야 함"
   ],
   "cell_type": "markdown",
   "metadata": {}
  },
  {
   "source": [
    "# 정리를 해보면"
   ],
   "cell_type": "markdown",
   "metadata": {}
  },
  {
   "cell_type": "code",
   "execution_count": 108,
   "metadata": {},
   "outputs": [
    {
     "output_type": "execute_result",
     "data": {
      "text/plain": [
       "      id  gender   age  hypertension  heart_disease ever_married  \\\n",
       "0   9046    Male  67.0             0              1          Yes   \n",
       "1  51676  Female  61.0             0              0          Yes   \n",
       "2  31112    Male  80.0             0              1          Yes   \n",
       "3  60182  Female  49.0             0              0          Yes   \n",
       "4   1665  Female  79.0             1              0          Yes   \n",
       "\n",
       "       work_type Residence_type  avg_glucose_level   bmi   smoking_status  \\\n",
       "0        Private          Urban             228.69  36.6  formerly smoked   \n",
       "1  Self-employed          Rural             202.21   NaN     never smoked   \n",
       "2        Private          Rural             105.92  32.5     never smoked   \n",
       "3        Private          Urban             171.23  34.4           smokes   \n",
       "4  Self-employed          Rural             174.12  24.0     never smoked   \n",
       "\n",
       "   stroke  \n",
       "0       1  \n",
       "1       1  \n",
       "2       1  \n",
       "3       1  \n",
       "4       1  "
      ],
      "text/html": "<div>\n<style scoped>\n    .dataframe tbody tr th:only-of-type {\n        vertical-align: middle;\n    }\n\n    .dataframe tbody tr th {\n        vertical-align: top;\n    }\n\n    .dataframe thead th {\n        text-align: right;\n    }\n</style>\n<table border=\"1\" class=\"dataframe\">\n  <thead>\n    <tr style=\"text-align: right;\">\n      <th></th>\n      <th>id</th>\n      <th>gender</th>\n      <th>age</th>\n      <th>hypertension</th>\n      <th>heart_disease</th>\n      <th>ever_married</th>\n      <th>work_type</th>\n      <th>Residence_type</th>\n      <th>avg_glucose_level</th>\n      <th>bmi</th>\n      <th>smoking_status</th>\n      <th>stroke</th>\n    </tr>\n  </thead>\n  <tbody>\n    <tr>\n      <th>0</th>\n      <td>9046</td>\n      <td>Male</td>\n      <td>67.0</td>\n      <td>0</td>\n      <td>1</td>\n      <td>Yes</td>\n      <td>Private</td>\n      <td>Urban</td>\n      <td>228.69</td>\n      <td>36.6</td>\n      <td>formerly smoked</td>\n      <td>1</td>\n    </tr>\n    <tr>\n      <th>1</th>\n      <td>51676</td>\n      <td>Female</td>\n      <td>61.0</td>\n      <td>0</td>\n      <td>0</td>\n      <td>Yes</td>\n      <td>Self-employed</td>\n      <td>Rural</td>\n      <td>202.21</td>\n      <td>NaN</td>\n      <td>never smoked</td>\n      <td>1</td>\n    </tr>\n    <tr>\n      <th>2</th>\n      <td>31112</td>\n      <td>Male</td>\n      <td>80.0</td>\n      <td>0</td>\n      <td>1</td>\n      <td>Yes</td>\n      <td>Private</td>\n      <td>Rural</td>\n      <td>105.92</td>\n      <td>32.5</td>\n      <td>never smoked</td>\n      <td>1</td>\n    </tr>\n    <tr>\n      <th>3</th>\n      <td>60182</td>\n      <td>Female</td>\n      <td>49.0</td>\n      <td>0</td>\n      <td>0</td>\n      <td>Yes</td>\n      <td>Private</td>\n      <td>Urban</td>\n      <td>171.23</td>\n      <td>34.4</td>\n      <td>smokes</td>\n      <td>1</td>\n    </tr>\n    <tr>\n      <th>4</th>\n      <td>1665</td>\n      <td>Female</td>\n      <td>79.0</td>\n      <td>1</td>\n      <td>0</td>\n      <td>Yes</td>\n      <td>Self-employed</td>\n      <td>Rural</td>\n      <td>174.12</td>\n      <td>24.0</td>\n      <td>never smoked</td>\n      <td>1</td>\n    </tr>\n  </tbody>\n</table>\n</div>"
     },
     "metadata": {},
     "execution_count": 108
    }
   ],
   "source": [
    "data.head()"
   ]
  },
  {
   "source": [
    "- gender\n",
    "    - 1건 있는 Other은 행 전체 제거\n",
    "    - 범주형 처리\n",
    "\n",
    "- age\n",
    "    - 정규화\n",
    "\n",
    "- hypertension\n",
    "    - 범주형 처리(이미 되어있음)\n",
    "\n",
    "- heart_disease\n",
    "    - 범주형 처리(이미 되어있음)\n",
    "\n",
    "- ever_married\n",
    "    - 범주형 처리\n",
    "\n",
    "- work_type\n",
    "    - 범주형 처리\n",
    "\n",
    "- Residence_type\n",
    "    - 범주형 처리\n",
    "\n",
    "- avg_glucose_level\n",
    "    - 정규화\n",
    "\n",
    "- bmi\n",
    "    - Nan값 처리 : 4%정도밖에 안되므로 평균값으로 대체\n",
    "    - 정규화\n",
    "\n",
    "- smoking_status\n",
    "    - Unknown 처리 : 약 30%를 차지함. 나머지 비율에 맞추어 랜덤으로 대체\n",
    "    - 범주형 처리\n",
    "\n",
    "- stroke\n",
    "    - 일단 돌려보고 성능 안 나오면 데이터 불균형 해소 필요 (약 20배 가까이 차이남)\n",
    "        - 데이터 크기가 작기 때문에 under sampling은 고려하지 않음\n",
    "        - weight balancing : 특정 클래스의 데이터에 더 큰 loss값을 갖도록 함 (단순 곱, Focal Loss)\n",
    "        - SMOTE : knn 기반 over sampling 기법"
   ],
   "cell_type": "markdown",
   "metadata": {}
  },
  {
   "cell_type": "code",
   "execution_count": null,
   "metadata": {},
   "outputs": [],
   "source": []
  }
 ]
}