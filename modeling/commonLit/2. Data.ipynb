{
 "cells": [
  {
   "cell_type": "markdown",
   "id": "e3406e25",
   "metadata": {},
   "source": [
    "## Data preprocessing"
   ]
  },
  {
   "cell_type": "markdown",
   "id": "ec528128",
   "metadata": {},
   "source": [
    "1. basic\n",
    "- remove unnecessary columns\n",
    "- remove outlier\n",
    "- change to small letters\n",
    "\n",
    "2. experiment1 : special characters\n",
    "- don't remove special characters\n",
    "- remove all special characters\n",
    "\n",
    "3. experiment2 : words\n",
    "- use raw corpus \n",
    "- use only main words like stems or nouns\n",
    "\n",
    "4. experiment3 : data augmentation\n",
    "- use original data without augmentation\n",
    "- increase just target according to standard error, but uncahnge text data.\n",
    "- increase target according to standard error, and add some noise or change other word slighly on text.\n",
    "\n",
    "5. experiment4 : train/test split\n",
    "- random split\n",
    "- split according to class label"
   ]
  },
  {
   "cell_type": "code",
   "execution_count": 49,
   "id": "cce583e7",
   "metadata": {},
   "outputs": [],
   "source": [
    "import pandas as pd"
   ]
  },
  {
   "cell_type": "code",
   "execution_count": 50,
   "id": "b602c717",
   "metadata": {},
   "outputs": [],
   "source": [
    "original_train = pd.read_csv(\"data/0_original/train.csv\")"
   ]
  },
  {
   "cell_type": "markdown",
   "id": "9fd91f7e",
   "metadata": {},
   "source": [
    "## 1. basic"
   ]
  },
  {
   "cell_type": "markdown",
   "id": "97f15b74",
   "metadata": {},
   "source": [
    "**remove unnecessary columns**"
   ]
  },
  {
   "cell_type": "code",
   "execution_count": 51,
   "id": "45e12a12",
   "metadata": {},
   "outputs": [
    {
     "data": {
      "text/html": [
       "<div>\n",
       "<style scoped>\n",
       "    .dataframe tbody tr th:only-of-type {\n",
       "        vertical-align: middle;\n",
       "    }\n",
       "\n",
       "    .dataframe tbody tr th {\n",
       "        vertical-align: top;\n",
       "    }\n",
       "\n",
       "    .dataframe thead th {\n",
       "        text-align: right;\n",
       "    }\n",
       "</style>\n",
       "<table border=\"1\" class=\"dataframe\">\n",
       "  <thead>\n",
       "    <tr style=\"text-align: right;\">\n",
       "      <th></th>\n",
       "      <th>id</th>\n",
       "      <th>excerpt</th>\n",
       "      <th>target</th>\n",
       "      <th>standard_error</th>\n",
       "    </tr>\n",
       "  </thead>\n",
       "  <tbody>\n",
       "    <tr>\n",
       "      <th>0</th>\n",
       "      <td>c12129c31</td>\n",
       "      <td>When the young people returned to the ballroom...</td>\n",
       "      <td>-0.340259</td>\n",
       "      <td>0.464009</td>\n",
       "    </tr>\n",
       "    <tr>\n",
       "      <th>1</th>\n",
       "      <td>85aa80a4c</td>\n",
       "      <td>All through dinner time, Mrs. Fayre was somewh...</td>\n",
       "      <td>-0.315372</td>\n",
       "      <td>0.480805</td>\n",
       "    </tr>\n",
       "    <tr>\n",
       "      <th>2</th>\n",
       "      <td>b69ac6792</td>\n",
       "      <td>As Roger had predicted, the snow departed as q...</td>\n",
       "      <td>-0.580118</td>\n",
       "      <td>0.476676</td>\n",
       "    </tr>\n",
       "    <tr>\n",
       "      <th>3</th>\n",
       "      <td>dd1000b26</td>\n",
       "      <td>And outside before the palace a great garden w...</td>\n",
       "      <td>-1.054013</td>\n",
       "      <td>0.450007</td>\n",
       "    </tr>\n",
       "    <tr>\n",
       "      <th>4</th>\n",
       "      <td>37c1b32fb</td>\n",
       "      <td>Once upon a time there were Three Bears who li...</td>\n",
       "      <td>0.247197</td>\n",
       "      <td>0.510845</td>\n",
       "    </tr>\n",
       "  </tbody>\n",
       "</table>\n",
       "</div>"
      ],
      "text/plain": [
       "          id                                            excerpt    target  \\\n",
       "0  c12129c31  When the young people returned to the ballroom... -0.340259   \n",
       "1  85aa80a4c  All through dinner time, Mrs. Fayre was somewh... -0.315372   \n",
       "2  b69ac6792  As Roger had predicted, the snow departed as q... -0.580118   \n",
       "3  dd1000b26  And outside before the palace a great garden w... -1.054013   \n",
       "4  37c1b32fb  Once upon a time there were Three Bears who li...  0.247197   \n",
       "\n",
       "   standard_error  \n",
       "0        0.464009  \n",
       "1        0.480805  \n",
       "2        0.476676  \n",
       "3        0.450007  \n",
       "4        0.510845  "
      ]
     },
     "execution_count": 51,
     "metadata": {},
     "output_type": "execute_result"
    }
   ],
   "source": [
    "data = original_train.drop([\"url_legal\", \"license\"], axis=1)\n",
    "data.head()"
   ]
  },
  {
   "cell_type": "markdown",
   "id": "6d13267f",
   "metadata": {},
   "source": [
    "**remove outlier**"
   ]
  },
  {
   "cell_type": "code",
   "execution_count": 52,
   "id": "179fc5bf",
   "metadata": {},
   "outputs": [
    {
     "name": "stdout",
     "output_type": "stream",
     "text": [
      "2834\n",
      "2833\n"
     ]
    }
   ],
   "source": [
    "print(len(data))\n",
    "data = data[data[\"standard_error\"] != 0]\n",
    "print(len(data))"
   ]
  },
  {
   "cell_type": "markdown",
   "id": "ccd6bc0b",
   "metadata": {},
   "source": [
    "**change to small letters**"
   ]
  },
  {
   "cell_type": "code",
   "execution_count": 53,
   "id": "f35709da",
   "metadata": {},
   "outputs": [],
   "source": [
    "def change_to_small_letter(x):\n",
    "    return x.lower()"
   ]
  },
  {
   "cell_type": "code",
   "execution_count": 54,
   "id": "bc6c0a59",
   "metadata": {},
   "outputs": [],
   "source": [
    "data[\"excerpt\"] = data[\"excerpt\"].apply(change_to_small_letter)"
   ]
  },
  {
   "cell_type": "code",
   "execution_count": 55,
   "id": "51f6cdb0",
   "metadata": {},
   "outputs": [
    {
     "data": {
      "text/html": [
       "<div>\n",
       "<style scoped>\n",
       "    .dataframe tbody tr th:only-of-type {\n",
       "        vertical-align: middle;\n",
       "    }\n",
       "\n",
       "    .dataframe tbody tr th {\n",
       "        vertical-align: top;\n",
       "    }\n",
       "\n",
       "    .dataframe thead th {\n",
       "        text-align: right;\n",
       "    }\n",
       "</style>\n",
       "<table border=\"1\" class=\"dataframe\">\n",
       "  <thead>\n",
       "    <tr style=\"text-align: right;\">\n",
       "      <th></th>\n",
       "      <th>id</th>\n",
       "      <th>excerpt</th>\n",
       "      <th>target</th>\n",
       "      <th>standard_error</th>\n",
       "    </tr>\n",
       "  </thead>\n",
       "  <tbody>\n",
       "    <tr>\n",
       "      <th>0</th>\n",
       "      <td>c12129c31</td>\n",
       "      <td>when the young people returned to the ballroom...</td>\n",
       "      <td>-0.340259</td>\n",
       "      <td>0.464009</td>\n",
       "    </tr>\n",
       "    <tr>\n",
       "      <th>1</th>\n",
       "      <td>85aa80a4c</td>\n",
       "      <td>all through dinner time, mrs. fayre was somewh...</td>\n",
       "      <td>-0.315372</td>\n",
       "      <td>0.480805</td>\n",
       "    </tr>\n",
       "    <tr>\n",
       "      <th>2</th>\n",
       "      <td>b69ac6792</td>\n",
       "      <td>as roger had predicted, the snow departed as q...</td>\n",
       "      <td>-0.580118</td>\n",
       "      <td>0.476676</td>\n",
       "    </tr>\n",
       "    <tr>\n",
       "      <th>3</th>\n",
       "      <td>dd1000b26</td>\n",
       "      <td>and outside before the palace a great garden w...</td>\n",
       "      <td>-1.054013</td>\n",
       "      <td>0.450007</td>\n",
       "    </tr>\n",
       "    <tr>\n",
       "      <th>4</th>\n",
       "      <td>37c1b32fb</td>\n",
       "      <td>once upon a time there were three bears who li...</td>\n",
       "      <td>0.247197</td>\n",
       "      <td>0.510845</td>\n",
       "    </tr>\n",
       "  </tbody>\n",
       "</table>\n",
       "</div>"
      ],
      "text/plain": [
       "          id                                            excerpt    target  \\\n",
       "0  c12129c31  when the young people returned to the ballroom... -0.340259   \n",
       "1  85aa80a4c  all through dinner time, mrs. fayre was somewh... -0.315372   \n",
       "2  b69ac6792  as roger had predicted, the snow departed as q... -0.580118   \n",
       "3  dd1000b26  and outside before the palace a great garden w... -1.054013   \n",
       "4  37c1b32fb  once upon a time there were three bears who li...  0.247197   \n",
       "\n",
       "   standard_error  \n",
       "0        0.464009  \n",
       "1        0.480805  \n",
       "2        0.476676  \n",
       "3        0.450007  \n",
       "4        0.510845  "
      ]
     },
     "execution_count": 55,
     "metadata": {},
     "output_type": "execute_result"
    }
   ],
   "source": [
    "data.head()"
   ]
  },
  {
   "cell_type": "markdown",
   "id": "ce619e72",
   "metadata": {},
   "source": [
    "**save**"
   ]
  },
  {
   "cell_type": "code",
   "execution_count": 56,
   "id": "8c30544c",
   "metadata": {},
   "outputs": [],
   "source": [
    "import os"
   ]
  },
  {
   "cell_type": "code",
   "execution_count": 57,
   "id": "de1366df",
   "metadata": {},
   "outputs": [],
   "source": [
    "if not os.path.isdir(\"data/1_basic\"):\n",
    "    os.mkdir(\"data/1_basic\")"
   ]
  },
  {
   "cell_type": "code",
   "execution_count": 58,
   "id": "e68988b2",
   "metadata": {},
   "outputs": [],
   "source": [
    "data.to_csv(\"data/1_basic/train.csv\")"
   ]
  },
  {
   "cell_type": "markdown",
   "id": "033fcc1a",
   "metadata": {},
   "source": [
    "## 2. special characters"
   ]
  },
  {
   "cell_type": "markdown",
   "id": "780952f2",
   "metadata": {},
   "source": [
    "**don't remove special characters**\n",
    "\n",
    "use data/1_basic_train.csv"
   ]
  },
  {
   "cell_type": "markdown",
   "id": "d5fa5755",
   "metadata": {},
   "source": [
    "**remove special characters**"
   ]
  },
  {
   "cell_type": "code",
   "execution_count": 59,
   "id": "114f42cf",
   "metadata": {},
   "outputs": [],
   "source": [
    "import re\n",
    "import copy"
   ]
  },
  {
   "cell_type": "code",
   "execution_count": 60,
   "id": "a8d6ccd2",
   "metadata": {},
   "outputs": [],
   "source": [
    "def remove_by_pattern(x):\n",
    "    return re.sub(\"[^a-zA-Z0-9 ]\", \" \", x)"
   ]
  },
  {
   "cell_type": "code",
   "execution_count": 86,
   "id": "8ce8af8d",
   "metadata": {},
   "outputs": [],
   "source": [
    "no_sp_data = copy.deepcopy(data)\n",
    "no_sp_data[\"excerpt\"] = no_sp_data[\"excerpt\"].apply(remove_by_pattern)"
   ]
  },
  {
   "cell_type": "code",
   "execution_count": 62,
   "id": "72054a63",
   "metadata": {},
   "outputs": [
    {
     "data": {
      "text/html": [
       "<div>\n",
       "<style scoped>\n",
       "    .dataframe tbody tr th:only-of-type {\n",
       "        vertical-align: middle;\n",
       "    }\n",
       "\n",
       "    .dataframe tbody tr th {\n",
       "        vertical-align: top;\n",
       "    }\n",
       "\n",
       "    .dataframe thead th {\n",
       "        text-align: right;\n",
       "    }\n",
       "</style>\n",
       "<table border=\"1\" class=\"dataframe\">\n",
       "  <thead>\n",
       "    <tr style=\"text-align: right;\">\n",
       "      <th></th>\n",
       "      <th>id</th>\n",
       "      <th>excerpt</th>\n",
       "      <th>target</th>\n",
       "      <th>standard_error</th>\n",
       "    </tr>\n",
       "  </thead>\n",
       "  <tbody>\n",
       "    <tr>\n",
       "      <th>0</th>\n",
       "      <td>c12129c31</td>\n",
       "      <td>when the young people returned to the ballroom...</td>\n",
       "      <td>-0.340259</td>\n",
       "      <td>0.464009</td>\n",
       "    </tr>\n",
       "    <tr>\n",
       "      <th>1</th>\n",
       "      <td>85aa80a4c</td>\n",
       "      <td>all through dinner time, mrs. fayre was somewh...</td>\n",
       "      <td>-0.315372</td>\n",
       "      <td>0.480805</td>\n",
       "    </tr>\n",
       "    <tr>\n",
       "      <th>2</th>\n",
       "      <td>b69ac6792</td>\n",
       "      <td>as roger had predicted, the snow departed as q...</td>\n",
       "      <td>-0.580118</td>\n",
       "      <td>0.476676</td>\n",
       "    </tr>\n",
       "    <tr>\n",
       "      <th>3</th>\n",
       "      <td>dd1000b26</td>\n",
       "      <td>and outside before the palace a great garden w...</td>\n",
       "      <td>-1.054013</td>\n",
       "      <td>0.450007</td>\n",
       "    </tr>\n",
       "    <tr>\n",
       "      <th>4</th>\n",
       "      <td>37c1b32fb</td>\n",
       "      <td>once upon a time there were three bears who li...</td>\n",
       "      <td>0.247197</td>\n",
       "      <td>0.510845</td>\n",
       "    </tr>\n",
       "  </tbody>\n",
       "</table>\n",
       "</div>"
      ],
      "text/plain": [
       "          id                                            excerpt    target  \\\n",
       "0  c12129c31  when the young people returned to the ballroom... -0.340259   \n",
       "1  85aa80a4c  all through dinner time, mrs. fayre was somewh... -0.315372   \n",
       "2  b69ac6792  as roger had predicted, the snow departed as q... -0.580118   \n",
       "3  dd1000b26  and outside before the palace a great garden w... -1.054013   \n",
       "4  37c1b32fb  once upon a time there were three bears who li...  0.247197   \n",
       "\n",
       "   standard_error  \n",
       "0        0.464009  \n",
       "1        0.480805  \n",
       "2        0.476676  \n",
       "3        0.450007  \n",
       "4        0.510845  "
      ]
     },
     "execution_count": 62,
     "metadata": {},
     "output_type": "execute_result"
    }
   ],
   "source": [
    "data.head()"
   ]
  },
  {
   "cell_type": "markdown",
   "id": "68f7b44b",
   "metadata": {},
   "source": [
    "**save**"
   ]
  },
  {
   "cell_type": "code",
   "execution_count": 63,
   "id": "42868a31",
   "metadata": {},
   "outputs": [],
   "source": [
    "if not os.path.isdir(\"data/2_no_special_cahracters\"):\n",
    "    os.mkdir(\"data/2_no_special_cahracters\")"
   ]
  },
  {
   "cell_type": "code",
   "execution_count": 64,
   "id": "5332ea0c",
   "metadata": {},
   "outputs": [],
   "source": [
    "no_sp_data.to_csv(\"data/2_no_special_cahracters/train.csv\")"
   ]
  },
  {
   "cell_type": "markdown",
   "id": "a74f9f90",
   "metadata": {},
   "source": [
    "## 3. words"
   ]
  },
  {
   "cell_type": "code",
   "execution_count": 65,
   "id": "6ca4a03d",
   "metadata": {},
   "outputs": [
    {
     "name": "stderr",
     "output_type": "stream",
     "text": [
      "[nltk_data] Downloading package punkt to\n",
      "[nltk_data]     C:\\Users\\admin\\AppData\\Roaming\\nltk_data...\n",
      "[nltk_data]   Package punkt is already up-to-date!\n"
     ]
    },
    {
     "data": {
      "text/plain": [
       "True"
      ]
     },
     "execution_count": 65,
     "metadata": {},
     "output_type": "execute_result"
    }
   ],
   "source": [
    "import nltk\n",
    "nltk.download('punkt')"
   ]
  },
  {
   "cell_type": "markdown",
   "id": "b8320fc8",
   "metadata": {},
   "source": [
    "**exist sp, split by stem**"
   ]
  },
  {
   "cell_type": "code",
   "execution_count": 66,
   "id": "3edf35f7",
   "metadata": {},
   "outputs": [],
   "source": [
    "stem_data = copy.deepcopy(data)"
   ]
  },
  {
   "cell_type": "code",
   "execution_count": 67,
   "id": "87ed9122",
   "metadata": {},
   "outputs": [],
   "source": [
    "def split_stem(x):\n",
    "    return \" \".join(nltk.word_tokenize(x))"
   ]
  },
  {
   "cell_type": "code",
   "execution_count": 68,
   "id": "790aac8e",
   "metadata": {},
   "outputs": [],
   "source": [
    "stem_data[\"excerpt\"] = stem_data[\"excerpt\"].apply(split_stem)"
   ]
  },
  {
   "cell_type": "code",
   "execution_count": 69,
   "id": "f411d96c",
   "metadata": {},
   "outputs": [
    {
     "data": {
      "text/plain": [
       "'when the young people returned to the ballroom , it presented a decidedly changed appearance . instead of an interior scene , it was a winter landscape . the floor was covered with snow-white canvas , not laid on smoothly , but rumpled over bumps and hillocks , like a real snow field . the numerous palms and evergreens that had decorated the room , were powdered with flour and strewn with tufts of cotton , like snow . also diamond dust had been lightly sprinkled on them , and glittering crystal icicles hung from the branches . at each end of the room , on the wall , hung a beautiful bear-skin rug . these rugs were for prizes , one for the girls and one for the boys . and this was the game . the girls were gathered at one end of the room and the boys at the other , and one end was called the north pole , and the other the south pole . each player was given a small flag which they were to plant on reaching the pole . this would have been an easy matter , but each traveller was obliged to wear snowshoes .'"
      ]
     },
     "execution_count": 69,
     "metadata": {},
     "output_type": "execute_result"
    }
   ],
   "source": [
    "stem_data.loc[0][\"excerpt\"]"
   ]
  },
  {
   "cell_type": "markdown",
   "id": "8acf2f5e",
   "metadata": {},
   "source": [
    "This result looks like just splitted by white space and just on difference whice is special characters are splitted from wrod. \n",
    "So, decide not to use this data."
   ]
  },
  {
   "cell_type": "markdown",
   "id": "71ad9182",
   "metadata": {},
   "source": [
    "**exist sp, other stemmer**"
   ]
  },
  {
   "cell_type": "code",
   "execution_count": 76,
   "id": "750224bb",
   "metadata": {},
   "outputs": [],
   "source": [
    "def get_stem_result(string, stemmer):\n",
    "    stems = []\n",
    "\n",
    "    for element in string.split(\" \"):\n",
    "        stems.append(stemmer.stem(element))\n",
    "\n",
    "    return \" \".join(stems)"
   ]
  },
  {
   "cell_type": "code",
   "execution_count": 77,
   "id": "69fbb1f1",
   "metadata": {},
   "outputs": [
    {
     "data": {
      "text/plain": [
       "'when the young peopl return to the ballroom , it present a decid chang appear . instead of an interior scene , it was a winter landscap . the floor was cover with snow-whit canva , not laid on smooth , but rumpl over bump and hillock , like a real snow field . the numer palm and evergreen that had decor the room , were powder with flour and strewn with tuft of cotton , like snow . also diamond dust had been light sprinkl on them , and glitter crystal icicl hung from the branch . at each end of the room , on the wall , hung a beauti bear-skin rug . these rug were for prize , one for the girl and one for the boy . and this was the game . the girl were gather at one end of the room and the boy at the other , and one end was call the north pole , and the other the south pole . each player was given a small flag which they were to plant on reach the pole . this would have been an easi matter , but each travel was oblig to wear snowsho .'"
      ]
     },
     "execution_count": 77,
     "metadata": {},
     "output_type": "execute_result"
    }
   ],
   "source": [
    "stemmer = nltk.stem.SnowballStemmer('english')\n",
    "get_stem_result(stem_data.loc[0][\"excerpt\"], stemmer)"
   ]
  },
  {
   "cell_type": "code",
   "execution_count": 78,
   "id": "311d8608",
   "metadata": {},
   "outputs": [
    {
     "data": {
      "text/plain": [
       "'when the young peopl return to the ballroom , it present a decidedli chang appear . instead of an interior scene , it wa a winter landscap . the floor wa cover with snow-whit canva , not laid on smoothli , but rumpl over bump and hillock , like a real snow field . the numer palm and evergreen that had decor the room , were powder with flour and strewn with tuft of cotton , like snow . also diamond dust had been lightli sprinkl on them , and glitter crystal icicl hung from the branch . at each end of the room , on the wall , hung a beauti bear-skin rug . these rug were for prize , one for the girl and one for the boy . and thi wa the game . the girl were gather at one end of the room and the boy at the other , and one end wa call the north pole , and the other the south pole . each player wa given a small flag which they were to plant on reach the pole . thi would have been an easi matter , but each travel wa oblig to wear snowsho .'"
      ]
     },
     "execution_count": 78,
     "metadata": {},
     "output_type": "execute_result"
    }
   ],
   "source": [
    "stemmer = nltk.stem.PorterStemmer()\n",
    "get_stem_result(stem_data.loc[0][\"excerpt\"], stemmer)"
   ]
  },
  {
   "cell_type": "code",
   "execution_count": 79,
   "id": "f59b8702",
   "metadata": {},
   "outputs": [
    {
     "data": {
      "text/plain": [
       "'when the young peopl return to the ballroom , it pres a decid chang appear . instead of an intery scen , it was a wint landscap . the flo was cov with snow-white canva , not laid on smooth , but rumpl ov bump and hillock , lik a real snow field . the num palm and evergreen that had dec the room , wer powd with flo and strewn with tuft of cotton , lik snow . also diamond dust had been light sprinkled on them , and glit cryst icic hung from the branch . at each end of the room , on the wal , hung a beauty bear-skin rug . thes rug wer for priz , on for the girl and on for the boy . and thi was the gam . the girl wer gath at on end of the room and the boy at the oth , and on end was cal the nor pol , and the oth the sou pol . each play was giv a smal flag which they wer to plant on reach the pol . thi would hav been an easy mat , but each travel was oblig to wear snowsho .'"
      ]
     },
     "execution_count": 79,
     "metadata": {},
     "output_type": "execute_result"
    }
   ],
   "source": [
    "stemmer = nltk.stem.LancasterStemmer()\n",
    "get_stem_result(stem_data.loc[0][\"excerpt\"], stemmer)"
   ]
  },
  {
   "cell_type": "markdown",
   "id": "b100cb4b",
   "metadata": {},
   "source": [
    "Lancaster stemmer is over-split the word. So some of words cannot be understood that meaning.\n",
    "\n",
    "Porter stemmer is better than Lancaster stemmer, but still have same issue.\n",
    "\n",
    "So, use SnowballStemmer in this case.\n",
    "\n",
    "※ Special characters dont't have meaning in stem analyzed data, so use the data which don't comprised special characters."
   ]
  },
  {
   "cell_type": "code",
   "execution_count": 107,
   "id": "1a1ec776",
   "metadata": {},
   "outputs": [],
   "source": [
    "stem_data = copy.deepcopy(no_sp_data)"
   ]
  },
  {
   "cell_type": "code",
   "execution_count": 108,
   "id": "aca99a32",
   "metadata": {},
   "outputs": [],
   "source": [
    "def get_stem_result(string):\n",
    "    stemmer = nltk.stem.SnowballStemmer('english')\n",
    "    stems = []\n",
    "    \n",
    "    for element in nltk.word_tokenize(string):\n",
    "        stems.append(stemmer.stem(element))\n",
    "\n",
    "    return \" \".join(stems)"
   ]
  },
  {
   "cell_type": "code",
   "execution_count": 109,
   "id": "e4931771",
   "metadata": {},
   "outputs": [],
   "source": [
    "stem_data[\"excerpt\"] = stem_data[\"excerpt\"].apply(get_stem_result)"
   ]
  },
  {
   "cell_type": "code",
   "execution_count": 112,
   "id": "976907d2",
   "metadata": {},
   "outputs": [
    {
     "data": {
      "text/html": [
       "<div>\n",
       "<style scoped>\n",
       "    .dataframe tbody tr th:only-of-type {\n",
       "        vertical-align: middle;\n",
       "    }\n",
       "\n",
       "    .dataframe tbody tr th {\n",
       "        vertical-align: top;\n",
       "    }\n",
       "\n",
       "    .dataframe thead th {\n",
       "        text-align: right;\n",
       "    }\n",
       "</style>\n",
       "<table border=\"1\" class=\"dataframe\">\n",
       "  <thead>\n",
       "    <tr style=\"text-align: right;\">\n",
       "      <th></th>\n",
       "      <th>id</th>\n",
       "      <th>excerpt</th>\n",
       "      <th>target</th>\n",
       "      <th>standard_error</th>\n",
       "    </tr>\n",
       "  </thead>\n",
       "  <tbody>\n",
       "    <tr>\n",
       "      <th>0</th>\n",
       "      <td>c12129c31</td>\n",
       "      <td>when the young peopl return to the ballroom it...</td>\n",
       "      <td>-0.340259</td>\n",
       "      <td>0.464009</td>\n",
       "    </tr>\n",
       "    <tr>\n",
       "      <th>1</th>\n",
       "      <td>85aa80a4c</td>\n",
       "      <td>all through dinner time mrs fayr was somewhat ...</td>\n",
       "      <td>-0.315372</td>\n",
       "      <td>0.480805</td>\n",
       "    </tr>\n",
       "    <tr>\n",
       "      <th>2</th>\n",
       "      <td>b69ac6792</td>\n",
       "      <td>as roger had predict the snow depart as quick ...</td>\n",
       "      <td>-0.580118</td>\n",
       "      <td>0.476676</td>\n",
       "    </tr>\n",
       "    <tr>\n",
       "      <th>3</th>\n",
       "      <td>dd1000b26</td>\n",
       "      <td>and outsid befor the palac a great garden was ...</td>\n",
       "      <td>-1.054013</td>\n",
       "      <td>0.450007</td>\n",
       "    </tr>\n",
       "    <tr>\n",
       "      <th>4</th>\n",
       "      <td>37c1b32fb</td>\n",
       "      <td>onc upon a time there were three bear who live...</td>\n",
       "      <td>0.247197</td>\n",
       "      <td>0.510845</td>\n",
       "    </tr>\n",
       "  </tbody>\n",
       "</table>\n",
       "</div>"
      ],
      "text/plain": [
       "          id                                            excerpt    target  \\\n",
       "0  c12129c31  when the young peopl return to the ballroom it... -0.340259   \n",
       "1  85aa80a4c  all through dinner time mrs fayr was somewhat ... -0.315372   \n",
       "2  b69ac6792  as roger had predict the snow depart as quick ... -0.580118   \n",
       "3  dd1000b26  and outsid befor the palac a great garden was ... -1.054013   \n",
       "4  37c1b32fb  onc upon a time there were three bear who live...  0.247197   \n",
       "\n",
       "   standard_error  \n",
       "0        0.464009  \n",
       "1        0.480805  \n",
       "2        0.476676  \n",
       "3        0.450007  \n",
       "4        0.510845  "
      ]
     },
     "execution_count": 112,
     "metadata": {},
     "output_type": "execute_result"
    }
   ],
   "source": [
    "stem_data.head()"
   ]
  },
  {
   "cell_type": "markdown",
   "id": "d94efc49",
   "metadata": {},
   "source": [
    "**save**"
   ]
  },
  {
   "cell_type": "code",
   "execution_count": 91,
   "id": "cbf20f06",
   "metadata": {},
   "outputs": [],
   "source": [
    "if not os.path.isdir(\"data/3_stemming\"):\n",
    "    os.mkdir(\"data/3_stemming\")"
   ]
  },
  {
   "cell_type": "code",
   "execution_count": 92,
   "id": "a355b2d9",
   "metadata": {},
   "outputs": [],
   "source": [
    "stem_data.to_csv(\"data/3_stemming/train_just_stemming.csv\")"
   ]
  },
  {
   "cell_type": "markdown",
   "id": "d0908464",
   "metadata": {},
   "source": [
    "**lemmatizing**"
   ]
  },
  {
   "cell_type": "code",
   "execution_count": 98,
   "id": "cd0d1e79",
   "metadata": {},
   "outputs": [
    {
     "name": "stderr",
     "output_type": "stream",
     "text": [
      "[nltk_data] Downloading package wordnet to\n",
      "[nltk_data]     C:\\Users\\admin\\AppData\\Roaming\\nltk_data...\n",
      "[nltk_data]   Unzipping corpora\\wordnet.zip.\n"
     ]
    },
    {
     "data": {
      "text/plain": [
       "True"
      ]
     },
     "execution_count": 98,
     "metadata": {},
     "output_type": "execute_result"
    }
   ],
   "source": [
    "from nltk.stem import WordNetLemmatizer\n",
    "nltk.download('wordnet')"
   ]
  },
  {
   "cell_type": "code",
   "execution_count": 103,
   "id": "ecf7ed9d",
   "metadata": {},
   "outputs": [
    {
     "name": "stdout",
     "output_type": "stream",
     "text": [
      "when the young people returned to the ballroom it presented a decidedly changed appearance instead of an interior scene it wa a winter landscape the floor wa covered with snow white canvas not laid on smoothly but rumpled over bump and hillock like a real snow field the numerous palm and evergreen that had decorated the room were powdered with flour and strewn with tuft of cotton like snow also diamond dust had been lightly sprinkled on them and glittering crystal icicle hung from the branch at each end of the room on the wall hung a beautiful bear skin rug these rug were for prize one for the girl and one for the boy and this wa the game the girl were gathered at one end of the room and the boy at the other and one end wa called the north pole and the other the south pole each player wa given a small flag which they were to plant on reaching the pole this would have been an easy matter but each traveller wa obliged to wear snowshoe\n"
     ]
    }
   ],
   "source": [
    "lemmatizer = WordNetLemmatizer()\n",
    "\n",
    "lemmas = []\n",
    "\n",
    "for element in nltk.word_tokenize(no_sp_data.loc[0][\"excerpt\"]):\n",
    "    lemmas.append(lemmatizer.lemmatize(element))\n",
    "\n",
    "print(\" \".join(lemmas))"
   ]
  },
  {
   "cell_type": "code",
   "execution_count": 104,
   "id": "5ad52b49",
   "metadata": {},
   "outputs": [
    {
     "name": "stdout",
     "output_type": "stream",
     "text": [
      "when the young people returned to the ballroom , it presented a decidedly changed appearance . instead of an interior scene , it wa a winter landscape . the floor wa covered with snow-white canvas , not laid on smoothly , but rumpled over bump and hillock , like a real snow field . the numerous palm and evergreen that had decorated the room , were powdered with flour and strewn with tuft of cotton , like snow . also diamond dust had been lightly sprinkled on them , and glittering crystal icicle hung from the branch . at each end of the room , on the wall , hung a beautiful bear-skin rug . these rug were for prize , one for the girl and one for the boy . and this wa the game . the girl were gathered at one end of the room and the boy at the other , and one end wa called the north pole , and the other the south pole . each player wa given a small flag which they were to plant on reaching the pole . this would have been an easy matter , but each traveller wa obliged to wear snowshoe .\n"
     ]
    }
   ],
   "source": [
    "lemmatizer = WordNetLemmatizer()\n",
    "\n",
    "lemmas = []\n",
    "\n",
    "for element in nltk.word_tokenize(data.loc[0][\"excerpt\"]):\n",
    "    lemmas.append(lemmatizer.lemmatize(element))\n",
    "\n",
    "print(\" \".join(lemmas))"
   ]
  },
  {
   "cell_type": "code",
   "execution_count": 120,
   "id": "c9b7c4dd",
   "metadata": {},
   "outputs": [
    {
     "name": "stdout",
     "output_type": "stream",
     "text": [
      "when the young peopl return to the ballroom it present a decid chang appear instead of an interior scene it wa a winter landscap the floor wa cover with snow white canva not laid on smooth but rumpl over bump and hillock like a real snow field the numer palm and evergreen that had decor the room were powder with flour and strewn with tuft of cotton like snow also diamond dust had been light sprinkl on them and glitter crystal icicl hung from the branch at each end of the room on the wall hung a beauti bear skin rug these rug were for prize one for the girl and one for the boy and this wa the game the girl were gather at one end of the room and the boy at the other and one end wa call the north pole and the other the south pole each player wa given a small flag which they were to plant on reach the pole this would have been an easi matter but each travel wa oblig to wear snowsho\n"
     ]
    }
   ],
   "source": [
    "lemmatizer = WordNetLemmatizer()\n",
    "\n",
    "lemmas = []\n",
    "\n",
    "for element in nltk.word_tokenize(stem_data.loc[0][\"excerpt\"]):\n",
    "    lemmas.append(lemmatizer.lemmatize(element))\n",
    "\n",
    "print(\" \".join(lemmas))"
   ]
  },
  {
   "cell_type": "markdown",
   "id": "787d52b6",
   "metadata": {},
   "source": [
    "Verb \"be\" is changed wrong by lemmatizer. So, don't use lemmatizer."
   ]
  },
  {
   "cell_type": "markdown",
   "id": "ba9f5e8c",
   "metadata": {},
   "source": [
    "**only use main word using part-of-speech**"
   ]
  },
  {
   "cell_type": "code",
   "execution_count": 122,
   "id": "cc31fc40",
   "metadata": {},
   "outputs": [
    {
     "name": "stderr",
     "output_type": "stream",
     "text": [
      "[nltk_data] Downloading package averaged_perceptron_tagger to\n",
      "[nltk_data]     C:\\Users\\admin\\AppData\\Roaming\\nltk_data...\n",
      "[nltk_data]   Unzipping taggers\\averaged_perceptron_tagger.zip.\n"
     ]
    },
    {
     "data": {
      "text/plain": [
       "True"
      ]
     },
     "execution_count": 122,
     "metadata": {},
     "output_type": "execute_result"
    }
   ],
   "source": [
    "from nltk.tag import pos_tag\n",
    "nltk.download('averaged_perceptron_tagger')"
   ]
  },
  {
   "cell_type": "code",
   "execution_count": 123,
   "id": "0c40b94c",
   "metadata": {
    "collapsed": true
   },
   "outputs": [
    {
     "data": {
      "text/plain": [
       "[('when', 'WRB'),\n",
       " ('the', 'DT'),\n",
       " ('young', 'JJ'),\n",
       " ('people', 'NNS'),\n",
       " ('returned', 'VBD'),\n",
       " ('to', 'TO'),\n",
       " ('the', 'DT'),\n",
       " ('ballroom', 'NN'),\n",
       " (',', ','),\n",
       " ('it', 'PRP'),\n",
       " ('presented', 'VBD'),\n",
       " ('a', 'DT'),\n",
       " ('decidedly', 'RB'),\n",
       " ('changed', 'VBN'),\n",
       " ('appearance', 'NN'),\n",
       " ('.', '.'),\n",
       " ('instead', 'RB'),\n",
       " ('of', 'IN'),\n",
       " ('an', 'DT'),\n",
       " ('interior', 'JJ'),\n",
       " ('scene', 'NN'),\n",
       " (',', ','),\n",
       " ('it', 'PRP'),\n",
       " ('was', 'VBD'),\n",
       " ('a', 'DT'),\n",
       " ('winter', 'NN'),\n",
       " ('landscape', 'NN'),\n",
       " ('.', '.'),\n",
       " ('the', 'DT'),\n",
       " ('floor', 'NN'),\n",
       " ('was', 'VBD'),\n",
       " ('covered', 'VBN'),\n",
       " ('with', 'IN'),\n",
       " ('snow-white', 'JJ'),\n",
       " ('canvas', 'NN'),\n",
       " (',', ','),\n",
       " ('not', 'RB'),\n",
       " ('laid', 'VBN'),\n",
       " ('on', 'IN'),\n",
       " ('smoothly', 'NN'),\n",
       " (',', ','),\n",
       " ('but', 'CC'),\n",
       " ('rumpled', 'VBD'),\n",
       " ('over', 'IN'),\n",
       " ('bumps', 'NNS'),\n",
       " ('and', 'CC'),\n",
       " ('hillocks', 'NNS'),\n",
       " (',', ','),\n",
       " ('like', 'IN'),\n",
       " ('a', 'DT'),\n",
       " ('real', 'JJ'),\n",
       " ('snow', 'JJ'),\n",
       " ('field', 'NN'),\n",
       " ('.', '.'),\n",
       " ('the', 'DT'),\n",
       " ('numerous', 'JJ'),\n",
       " ('palms', 'NNS'),\n",
       " ('and', 'CC'),\n",
       " ('evergreens', 'VBZ'),\n",
       " ('that', 'WDT'),\n",
       " ('had', 'VBD'),\n",
       " ('decorated', 'VBN'),\n",
       " ('the', 'DT'),\n",
       " ('room', 'NN'),\n",
       " (',', ','),\n",
       " ('were', 'VBD'),\n",
       " ('powdered', 'VBN'),\n",
       " ('with', 'IN'),\n",
       " ('flour', 'NN'),\n",
       " ('and', 'CC'),\n",
       " ('strewn', 'NN'),\n",
       " ('with', 'IN'),\n",
       " ('tufts', 'NNS'),\n",
       " ('of', 'IN'),\n",
       " ('cotton', 'NN'),\n",
       " (',', ','),\n",
       " ('like', 'IN'),\n",
       " ('snow', 'NN'),\n",
       " ('.', '.'),\n",
       " ('also', 'RB'),\n",
       " ('diamond', 'NN'),\n",
       " ('dust', 'NN'),\n",
       " ('had', 'VBD'),\n",
       " ('been', 'VBN'),\n",
       " ('lightly', 'RB'),\n",
       " ('sprinkled', 'VBN'),\n",
       " ('on', 'IN'),\n",
       " ('them', 'PRP'),\n",
       " (',', ','),\n",
       " ('and', 'CC'),\n",
       " ('glittering', 'VBG'),\n",
       " ('crystal', 'JJ'),\n",
       " ('icicles', 'NNS'),\n",
       " ('hung', 'VBP'),\n",
       " ('from', 'IN'),\n",
       " ('the', 'DT'),\n",
       " ('branches', 'NNS'),\n",
       " ('.', '.'),\n",
       " ('at', 'IN'),\n",
       " ('each', 'DT'),\n",
       " ('end', 'NN'),\n",
       " ('of', 'IN'),\n",
       " ('the', 'DT'),\n",
       " ('room', 'NN'),\n",
       " (',', ','),\n",
       " ('on', 'IN'),\n",
       " ('the', 'DT'),\n",
       " ('wall', 'NN'),\n",
       " (',', ','),\n",
       " ('hung', 'VBD'),\n",
       " ('a', 'DT'),\n",
       " ('beautiful', 'JJ'),\n",
       " ('bear-skin', 'JJ'),\n",
       " ('rug', 'NN'),\n",
       " ('.', '.'),\n",
       " ('these', 'DT'),\n",
       " ('rugs', 'NNS'),\n",
       " ('were', 'VBD'),\n",
       " ('for', 'IN'),\n",
       " ('prizes', 'NNS'),\n",
       " (',', ','),\n",
       " ('one', 'CD'),\n",
       " ('for', 'IN'),\n",
       " ('the', 'DT'),\n",
       " ('girls', 'NNS'),\n",
       " ('and', 'CC'),\n",
       " ('one', 'CD'),\n",
       " ('for', 'IN'),\n",
       " ('the', 'DT'),\n",
       " ('boys', 'NNS'),\n",
       " ('.', '.'),\n",
       " ('and', 'CC'),\n",
       " ('this', 'DT'),\n",
       " ('was', 'VBD'),\n",
       " ('the', 'DT'),\n",
       " ('game', 'NN'),\n",
       " ('.', '.'),\n",
       " ('the', 'DT'),\n",
       " ('girls', 'NNS'),\n",
       " ('were', 'VBD'),\n",
       " ('gathered', 'VBN'),\n",
       " ('at', 'IN'),\n",
       " ('one', 'CD'),\n",
       " ('end', 'NN'),\n",
       " ('of', 'IN'),\n",
       " ('the', 'DT'),\n",
       " ('room', 'NN'),\n",
       " ('and', 'CC'),\n",
       " ('the', 'DT'),\n",
       " ('boys', 'NNS'),\n",
       " ('at', 'IN'),\n",
       " ('the', 'DT'),\n",
       " ('other', 'JJ'),\n",
       " (',', ','),\n",
       " ('and', 'CC'),\n",
       " ('one', 'CD'),\n",
       " ('end', 'NN'),\n",
       " ('was', 'VBD'),\n",
       " ('called', 'VBN'),\n",
       " ('the', 'DT'),\n",
       " ('north', 'JJ'),\n",
       " ('pole', 'NN'),\n",
       " (',', ','),\n",
       " ('and', 'CC'),\n",
       " ('the', 'DT'),\n",
       " ('other', 'JJ'),\n",
       " ('the', 'DT'),\n",
       " ('south', 'JJ'),\n",
       " ('pole', 'NN'),\n",
       " ('.', '.'),\n",
       " ('each', 'DT'),\n",
       " ('player', 'NN'),\n",
       " ('was', 'VBD'),\n",
       " ('given', 'VBN'),\n",
       " ('a', 'DT'),\n",
       " ('small', 'JJ'),\n",
       " ('flag', 'NN'),\n",
       " ('which', 'WDT'),\n",
       " ('they', 'PRP'),\n",
       " ('were', 'VBD'),\n",
       " ('to', 'TO'),\n",
       " ('plant', 'NN'),\n",
       " ('on', 'IN'),\n",
       " ('reaching', 'VBG'),\n",
       " ('the', 'DT'),\n",
       " ('pole', 'NN'),\n",
       " ('.', '.'),\n",
       " ('this', 'DT'),\n",
       " ('would', 'MD'),\n",
       " ('have', 'VB'),\n",
       " ('been', 'VBN'),\n",
       " ('an', 'DT'),\n",
       " ('easy', 'JJ'),\n",
       " ('matter', 'NN'),\n",
       " (',', ','),\n",
       " ('but', 'CC'),\n",
       " ('each', 'DT'),\n",
       " ('traveller', 'NN'),\n",
       " ('was', 'VBD'),\n",
       " ('obliged', 'VBN'),\n",
       " ('to', 'TO'),\n",
       " ('wear', 'VB'),\n",
       " ('snowshoes', 'NNS'),\n",
       " ('.', '.')]"
      ]
     },
     "execution_count": 123,
     "metadata": {},
     "output_type": "execute_result"
    }
   ],
   "source": [
    "pos_tag(nltk.word_tokenize(data.loc[0][\"excerpt\"]))"
   ]
  },
  {
   "cell_type": "code",
   "execution_count": 125,
   "id": "0cac04c4",
   "metadata": {
    "collapsed": true
   },
   "outputs": [
    {
     "data": {
      "text/plain": [
       "[('when', 'WRB'),\n",
       " ('the', 'DT'),\n",
       " ('young', 'JJ'),\n",
       " ('people', 'NNS'),\n",
       " ('returned', 'VBD'),\n",
       " ('to', 'TO'),\n",
       " ('the', 'DT'),\n",
       " ('ballroom', 'NN'),\n",
       " ('it', 'PRP'),\n",
       " ('presented', 'VBD'),\n",
       " ('a', 'DT'),\n",
       " ('decidedly', 'RB'),\n",
       " ('changed', 'VBN'),\n",
       " ('appearance', 'NN'),\n",
       " ('instead', 'RB'),\n",
       " ('of', 'IN'),\n",
       " ('an', 'DT'),\n",
       " ('interior', 'JJ'),\n",
       " ('scene', 'NN'),\n",
       " ('it', 'PRP'),\n",
       " ('was', 'VBD'),\n",
       " ('a', 'DT'),\n",
       " ('winter', 'NN'),\n",
       " ('landscape', 'NN'),\n",
       " ('the', 'DT'),\n",
       " ('floor', 'NN'),\n",
       " ('was', 'VBD'),\n",
       " ('covered', 'VBN'),\n",
       " ('with', 'IN'),\n",
       " ('snow', 'JJ'),\n",
       " ('white', 'JJ'),\n",
       " ('canvas', 'NN'),\n",
       " ('not', 'RB'),\n",
       " ('laid', 'VBN'),\n",
       " ('on', 'IN'),\n",
       " ('smoothly', 'RB'),\n",
       " ('but', 'CC'),\n",
       " ('rumpled', 'VBD'),\n",
       " ('over', 'IN'),\n",
       " ('bumps', 'NNS'),\n",
       " ('and', 'CC'),\n",
       " ('hillocks', 'NNS'),\n",
       " ('like', 'IN'),\n",
       " ('a', 'DT'),\n",
       " ('real', 'JJ'),\n",
       " ('snow', 'JJ'),\n",
       " ('field', 'NN'),\n",
       " ('the', 'DT'),\n",
       " ('numerous', 'JJ'),\n",
       " ('palms', 'NNS'),\n",
       " ('and', 'CC'),\n",
       " ('evergreens', 'VBZ'),\n",
       " ('that', 'WDT'),\n",
       " ('had', 'VBD'),\n",
       " ('decorated', 'VBN'),\n",
       " ('the', 'DT'),\n",
       " ('room', 'NN'),\n",
       " ('were', 'VBD'),\n",
       " ('powdered', 'VBN'),\n",
       " ('with', 'IN'),\n",
       " ('flour', 'NN'),\n",
       " ('and', 'CC'),\n",
       " ('strewn', 'NN'),\n",
       " ('with', 'IN'),\n",
       " ('tufts', 'NNS'),\n",
       " ('of', 'IN'),\n",
       " ('cotton', 'NN'),\n",
       " ('like', 'IN'),\n",
       " ('snow', 'NN'),\n",
       " ('also', 'RB'),\n",
       " ('diamond', 'NN'),\n",
       " ('dust', 'NN'),\n",
       " ('had', 'VBD'),\n",
       " ('been', 'VBN'),\n",
       " ('lightly', 'RB'),\n",
       " ('sprinkled', 'VBN'),\n",
       " ('on', 'IN'),\n",
       " ('them', 'PRP'),\n",
       " ('and', 'CC'),\n",
       " ('glittering', 'VBG'),\n",
       " ('crystal', 'JJ'),\n",
       " ('icicles', 'NNS'),\n",
       " ('hung', 'VBP'),\n",
       " ('from', 'IN'),\n",
       " ('the', 'DT'),\n",
       " ('branches', 'NNS'),\n",
       " ('at', 'IN'),\n",
       " ('each', 'DT'),\n",
       " ('end', 'NN'),\n",
       " ('of', 'IN'),\n",
       " ('the', 'DT'),\n",
       " ('room', 'NN'),\n",
       " ('on', 'IN'),\n",
       " ('the', 'DT'),\n",
       " ('wall', 'NN'),\n",
       " ('hung', 'VBD'),\n",
       " ('a', 'DT'),\n",
       " ('beautiful', 'JJ'),\n",
       " ('bear', 'NN'),\n",
       " ('skin', 'JJ'),\n",
       " ('rug', 'NN'),\n",
       " ('these', 'DT'),\n",
       " ('rugs', 'NNS'),\n",
       " ('were', 'VBD'),\n",
       " ('for', 'IN'),\n",
       " ('prizes', 'NNS'),\n",
       " ('one', 'CD'),\n",
       " ('for', 'IN'),\n",
       " ('the', 'DT'),\n",
       " ('girls', 'NNS'),\n",
       " ('and', 'CC'),\n",
       " ('one', 'CD'),\n",
       " ('for', 'IN'),\n",
       " ('the', 'DT'),\n",
       " ('boys', 'NNS'),\n",
       " ('and', 'CC'),\n",
       " ('this', 'DT'),\n",
       " ('was', 'VBD'),\n",
       " ('the', 'DT'),\n",
       " ('game', 'NN'),\n",
       " ('the', 'DT'),\n",
       " ('girls', 'NNS'),\n",
       " ('were', 'VBD'),\n",
       " ('gathered', 'VBN'),\n",
       " ('at', 'IN'),\n",
       " ('one', 'CD'),\n",
       " ('end', 'NN'),\n",
       " ('of', 'IN'),\n",
       " ('the', 'DT'),\n",
       " ('room', 'NN'),\n",
       " ('and', 'CC'),\n",
       " ('the', 'DT'),\n",
       " ('boys', 'NNS'),\n",
       " ('at', 'IN'),\n",
       " ('the', 'DT'),\n",
       " ('other', 'JJ'),\n",
       " ('and', 'CC'),\n",
       " ('one', 'CD'),\n",
       " ('end', 'NN'),\n",
       " ('was', 'VBD'),\n",
       " ('called', 'VBN'),\n",
       " ('the', 'DT'),\n",
       " ('north', 'JJ'),\n",
       " ('pole', 'NN'),\n",
       " ('and', 'CC'),\n",
       " ('the', 'DT'),\n",
       " ('other', 'JJ'),\n",
       " ('the', 'DT'),\n",
       " ('south', 'JJ'),\n",
       " ('pole', 'JJ'),\n",
       " ('each', 'DT'),\n",
       " ('player', 'NN'),\n",
       " ('was', 'VBD'),\n",
       " ('given', 'VBN'),\n",
       " ('a', 'DT'),\n",
       " ('small', 'JJ'),\n",
       " ('flag', 'NN'),\n",
       " ('which', 'WDT'),\n",
       " ('they', 'PRP'),\n",
       " ('were', 'VBD'),\n",
       " ('to', 'TO'),\n",
       " ('plant', 'NN'),\n",
       " ('on', 'IN'),\n",
       " ('reaching', 'VBG'),\n",
       " ('the', 'DT'),\n",
       " ('pole', 'NN'),\n",
       " ('this', 'DT'),\n",
       " ('would', 'MD'),\n",
       " ('have', 'VB'),\n",
       " ('been', 'VBN'),\n",
       " ('an', 'DT'),\n",
       " ('easy', 'JJ'),\n",
       " ('matter', 'NN'),\n",
       " ('but', 'CC'),\n",
       " ('each', 'DT'),\n",
       " ('traveller', 'NN'),\n",
       " ('was', 'VBD'),\n",
       " ('obliged', 'VBN'),\n",
       " ('to', 'TO'),\n",
       " ('wear', 'VB'),\n",
       " ('snowshoes', 'NNS')]"
      ]
     },
     "execution_count": 125,
     "metadata": {},
     "output_type": "execute_result"
    }
   ],
   "source": [
    "pos_tag(nltk.word_tokenize(no_sp_data.loc[0][\"excerpt\"]))"
   ]
  },
  {
   "cell_type": "code",
   "execution_count": 126,
   "id": "1428560d",
   "metadata": {
    "collapsed": true
   },
   "outputs": [
    {
     "data": {
      "text/plain": [
       "[('when', 'WRB'),\n",
       " ('the', 'DT'),\n",
       " ('young', 'JJ'),\n",
       " ('peopl', 'NN'),\n",
       " ('return', 'NN'),\n",
       " ('to', 'TO'),\n",
       " ('the', 'DT'),\n",
       " ('ballroom', 'NN'),\n",
       " ('it', 'PRP'),\n",
       " ('present', 'VBD'),\n",
       " ('a', 'DT'),\n",
       " ('decid', 'NN'),\n",
       " ('chang', 'NN'),\n",
       " ('appear', 'VBP'),\n",
       " ('instead', 'RB'),\n",
       " ('of', 'IN'),\n",
       " ('an', 'DT'),\n",
       " ('interior', 'JJ'),\n",
       " ('scene', 'NN'),\n",
       " ('it', 'PRP'),\n",
       " ('was', 'VBD'),\n",
       " ('a', 'DT'),\n",
       " ('winter', 'NN'),\n",
       " ('landscap', 'NN'),\n",
       " ('the', 'DT'),\n",
       " ('floor', 'NN'),\n",
       " ('was', 'VBD'),\n",
       " ('cover', 'RB'),\n",
       " ('with', 'IN'),\n",
       " ('snow', 'JJ'),\n",
       " ('white', 'JJ'),\n",
       " ('canva', 'NN'),\n",
       " ('not', 'RB'),\n",
       " ('laid', 'VBN'),\n",
       " ('on', 'IN'),\n",
       " ('smooth', 'NNS'),\n",
       " ('but', 'CC'),\n",
       " ('rumpl', 'NN'),\n",
       " ('over', 'IN'),\n",
       " ('bump', 'NN'),\n",
       " ('and', 'CC'),\n",
       " ('hillock', 'NN'),\n",
       " ('like', 'IN'),\n",
       " ('a', 'DT'),\n",
       " ('real', 'JJ'),\n",
       " ('snow', 'JJ'),\n",
       " ('field', 'NN'),\n",
       " ('the', 'DT'),\n",
       " ('numer', 'JJ'),\n",
       " ('palm', 'NN'),\n",
       " ('and', 'CC'),\n",
       " ('evergreen', 'NN'),\n",
       " ('that', 'WDT'),\n",
       " ('had', 'VBD'),\n",
       " ('decor', 'VBN'),\n",
       " ('the', 'DT'),\n",
       " ('room', 'NN'),\n",
       " ('were', 'VBD'),\n",
       " ('powder', 'NN'),\n",
       " ('with', 'IN'),\n",
       " ('flour', 'NN'),\n",
       " ('and', 'CC'),\n",
       " ('strewn', 'NN'),\n",
       " ('with', 'IN'),\n",
       " ('tuft', 'NN'),\n",
       " ('of', 'IN'),\n",
       " ('cotton', 'NN'),\n",
       " ('like', 'IN'),\n",
       " ('snow', 'NN'),\n",
       " ('also', 'RB'),\n",
       " ('diamond', 'NN'),\n",
       " ('dust', 'NN'),\n",
       " ('had', 'VBD'),\n",
       " ('been', 'VBN'),\n",
       " ('light', 'JJ'),\n",
       " ('sprinkl', 'NN'),\n",
       " ('on', 'IN'),\n",
       " ('them', 'PRP'),\n",
       " ('and', 'CC'),\n",
       " ('glitter', 'VB'),\n",
       " ('crystal', 'JJ'),\n",
       " ('icicl', 'NN'),\n",
       " ('hung', 'NN'),\n",
       " ('from', 'IN'),\n",
       " ('the', 'DT'),\n",
       " ('branch', 'NN'),\n",
       " ('at', 'IN'),\n",
       " ('each', 'DT'),\n",
       " ('end', 'NN'),\n",
       " ('of', 'IN'),\n",
       " ('the', 'DT'),\n",
       " ('room', 'NN'),\n",
       " ('on', 'IN'),\n",
       " ('the', 'DT'),\n",
       " ('wall', 'NN'),\n",
       " ('hung', 'VBD'),\n",
       " ('a', 'DT'),\n",
       " ('beauti', 'JJ'),\n",
       " ('bear', 'NN'),\n",
       " ('skin', 'JJ'),\n",
       " ('rug', 'NN'),\n",
       " ('these', 'DT'),\n",
       " ('rug', 'NNS'),\n",
       " ('were', 'VBD'),\n",
       " ('for', 'IN'),\n",
       " ('prize', 'NN'),\n",
       " ('one', 'CD'),\n",
       " ('for', 'IN'),\n",
       " ('the', 'DT'),\n",
       " ('girl', 'NN'),\n",
       " ('and', 'CC'),\n",
       " ('one', 'CD'),\n",
       " ('for', 'IN'),\n",
       " ('the', 'DT'),\n",
       " ('boy', 'NN'),\n",
       " ('and', 'CC'),\n",
       " ('this', 'DT'),\n",
       " ('was', 'VBD'),\n",
       " ('the', 'DT'),\n",
       " ('game', 'NN'),\n",
       " ('the', 'DT'),\n",
       " ('girl', 'NN'),\n",
       " ('were', 'VBD'),\n",
       " ('gather', 'JJR'),\n",
       " ('at', 'IN'),\n",
       " ('one', 'CD'),\n",
       " ('end', 'NN'),\n",
       " ('of', 'IN'),\n",
       " ('the', 'DT'),\n",
       " ('room', 'NN'),\n",
       " ('and', 'CC'),\n",
       " ('the', 'DT'),\n",
       " ('boy', 'NN'),\n",
       " ('at', 'IN'),\n",
       " ('the', 'DT'),\n",
       " ('other', 'JJ'),\n",
       " ('and', 'CC'),\n",
       " ('one', 'CD'),\n",
       " ('end', 'NN'),\n",
       " ('was', 'VBD'),\n",
       " ('call', 'VB'),\n",
       " ('the', 'DT'),\n",
       " ('north', 'JJ'),\n",
       " ('pole', 'NN'),\n",
       " ('and', 'CC'),\n",
       " ('the', 'DT'),\n",
       " ('other', 'JJ'),\n",
       " ('the', 'DT'),\n",
       " ('south', 'JJ'),\n",
       " ('pole', 'JJ'),\n",
       " ('each', 'DT'),\n",
       " ('player', 'NN'),\n",
       " ('was', 'VBD'),\n",
       " ('given', 'VBN'),\n",
       " ('a', 'DT'),\n",
       " ('small', 'JJ'),\n",
       " ('flag', 'NN'),\n",
       " ('which', 'WDT'),\n",
       " ('they', 'PRP'),\n",
       " ('were', 'VBD'),\n",
       " ('to', 'TO'),\n",
       " ('plant', 'NN'),\n",
       " ('on', 'IN'),\n",
       " ('reach', 'NN'),\n",
       " ('the', 'DT'),\n",
       " ('pole', 'NN'),\n",
       " ('this', 'DT'),\n",
       " ('would', 'MD'),\n",
       " ('have', 'VB'),\n",
       " ('been', 'VBN'),\n",
       " ('an', 'DT'),\n",
       " ('easi', 'JJ'),\n",
       " ('matter', 'NN'),\n",
       " ('but', 'CC'),\n",
       " ('each', 'DT'),\n",
       " ('travel', 'NN'),\n",
       " ('was', 'VBD'),\n",
       " ('oblig', 'VBN'),\n",
       " ('to', 'TO'),\n",
       " ('wear', 'VB'),\n",
       " ('snowsho', 'NN')]"
      ]
     },
     "execution_count": 126,
     "metadata": {},
     "output_type": "execute_result"
    }
   ],
   "source": [
    "pos_tag(nltk.word_tokenize(stem_data.loc[0][\"excerpt\"]))"
   ]
  },
  {
   "cell_type": "markdown",
   "id": "b7440530",
   "metadata": {},
   "source": [
    "Sometime, stemmed word's POSs are different with original word. So, POS \n",
    "should take precedence than stemming."
   ]
  },
  {
   "cell_type": "code",
   "execution_count": 130,
   "id": "fa5a4cc0",
   "metadata": {},
   "outputs": [],
   "source": [
    "stop_list = [\"DT\", \"EX\", \"JJ\", \"JJR\", \"JJS\", \"LS\", \"RB\", \"RBR\", \"RBS\", \"UH\"]"
   ]
  },
  {
   "cell_type": "code",
   "execution_count": 129,
   "id": "ee65d71d",
   "metadata": {},
   "outputs": [],
   "source": [
    "def pos_tagging(x):\n",
    "    words = []\n",
    "    word_pos = pos_tag(nltk.word_tokenize(x))\n",
    "    \n",
    "    for word, pos in word_pos:\n",
    "        if pos not in stop_list:\n",
    "            words.append(word)\n",
    "            \n",
    "    return \" \".join(words)"
   ]
  },
  {
   "cell_type": "code",
   "execution_count": 131,
   "id": "1cb33e4b",
   "metadata": {},
   "outputs": [],
   "source": [
    "pos_data = copy.deepcopy(no_sp_data)\n",
    "pos_data[\"excerpt\"] = pos_data[\"excerpt\"].apply(pos_tagging)"
   ]
  },
  {
   "cell_type": "code",
   "execution_count": 132,
   "id": "65a02a47",
   "metadata": {},
   "outputs": [
    {
     "data": {
      "text/plain": [
       "'when people returned to ballroom it presented changed appearance of scene it was winter landscape floor was covered with canvas laid on but rumpled over bumps and hillocks like field palms and evergreens that had decorated room were powdered with flour and strewn with tufts of cotton like snow diamond dust had been sprinkled on them and glittering icicles hung from branches at end of room on wall hung bear rug rugs were for prizes one for girls and one for boys and was game girls were gathered at one end of room and boys at and one end was called pole and player was given flag which they were to plant on reaching pole would have been matter but traveller was obliged to wear snowshoes'"
      ]
     },
     "execution_count": 132,
     "metadata": {},
     "output_type": "execute_result"
    }
   ],
   "source": [
    "pos_data.loc[0][\"excerpt\"]"
   ]
  },
  {
   "cell_type": "code",
   "execution_count": 133,
   "id": "9890d733",
   "metadata": {},
   "outputs": [],
   "source": [
    "pos_data.to_csv(\"data/3_stemming/train_remove_some_pos.csv\")"
   ]
  },
  {
   "cell_type": "markdown",
   "id": "dc32c2ea",
   "metadata": {},
   "source": [
    "**nltk stop words**"
   ]
  },
  {
   "cell_type": "code",
   "execution_count": 135,
   "id": "116fb3cf",
   "metadata": {},
   "outputs": [
    {
     "name": "stderr",
     "output_type": "stream",
     "text": [
      "[nltk_data] Downloading package stopwords to\n",
      "[nltk_data]     C:\\Users\\admin\\AppData\\Roaming\\nltk_data...\n",
      "[nltk_data]   Unzipping corpora\\stopwords.zip.\n"
     ]
    },
    {
     "data": {
      "text/plain": [
       "True"
      ]
     },
     "execution_count": 135,
     "metadata": {},
     "output_type": "execute_result"
    }
   ],
   "source": [
    "import nltk\n",
    "nltk.download('stopwords')"
   ]
  },
  {
   "cell_type": "code",
   "execution_count": 136,
   "id": "656a1bc9",
   "metadata": {
    "collapsed": true
   },
   "outputs": [
    {
     "name": "stdout",
     "output_type": "stream",
     "text": [
      "['i', 'me', 'my', 'myself', 'we', 'our', 'ours', 'ourselves', 'you', \"you're\", \"you've\", \"you'll\", \"you'd\", 'your', 'yours', 'yourself', 'yourselves', 'he', 'him', 'his', 'himself', 'she', \"she's\", 'her', 'hers', 'herself', 'it', \"it's\", 'its', 'itself', 'they', 'them', 'their', 'theirs', 'themselves', 'what', 'which', 'who', 'whom', 'this', 'that', \"that'll\", 'these', 'those', 'am', 'is', 'are', 'was', 'were', 'be', 'been', 'being', 'have', 'has', 'had', 'having', 'do', 'does', 'did', 'doing', 'a', 'an', 'the', 'and', 'but', 'if', 'or', 'because', 'as', 'until', 'while', 'of', 'at', 'by', 'for', 'with', 'about', 'against', 'between', 'into', 'through', 'during', 'before', 'after', 'above', 'below', 'to', 'from', 'up', 'down', 'in', 'out', 'on', 'off', 'over', 'under', 'again', 'further', 'then', 'once', 'here', 'there', 'when', 'where', 'why', 'how', 'all', 'any', 'both', 'each', 'few', 'more', 'most', 'other', 'some', 'such', 'no', 'nor', 'not', 'only', 'own', 'same', 'so', 'than', 'too', 'very', 's', 't', 'can', 'will', 'just', 'don', \"don't\", 'should', \"should've\", 'now', 'd', 'll', 'm', 'o', 're', 've', 'y', 'ain', 'aren', \"aren't\", 'couldn', \"couldn't\", 'didn', \"didn't\", 'doesn', \"doesn't\", 'hadn', \"hadn't\", 'hasn', \"hasn't\", 'haven', \"haven't\", 'isn', \"isn't\", 'ma', 'mightn', \"mightn't\", 'mustn', \"mustn't\", 'needn', \"needn't\", 'shan', \"shan't\", 'shouldn', \"shouldn't\", 'wasn', \"wasn't\", 'weren', \"weren't\", 'won', \"won't\", 'wouldn', \"wouldn't\"]\n"
     ]
    }
   ],
   "source": [
    "from nltk.corpus import stopwords\n",
    "print(stopwords.words('english'))"
   ]
  },
  {
   "cell_type": "code",
   "execution_count": 137,
   "id": "6c7776c8",
   "metadata": {},
   "outputs": [],
   "source": [
    "def remove_stop_words(x):\n",
    "    words = []\n",
    "    \n",
    "    for element in nltk.word_tokenize(x):\n",
    "        if element not in stopwords.words('english'):\n",
    "            words.append(element)\n",
    "\n",
    "    return \" \".join(words)"
   ]
  },
  {
   "cell_type": "code",
   "execution_count": 138,
   "id": "ddfb33dd",
   "metadata": {},
   "outputs": [],
   "source": [
    "stop_data = copy.deepcopy(no_sp_data)\n",
    "stop_data[\"excerpt\"] = stop_data[\"excerpt\"].apply(remove_stop_words)"
   ]
  },
  {
   "cell_type": "code",
   "execution_count": 140,
   "id": "a7177389",
   "metadata": {},
   "outputs": [
    {
     "data": {
      "text/plain": [
       "'young people returned ballroom presented decidedly changed appearance instead interior scene winter landscape floor covered snow white canvas laid smoothly rumpled bumps hillocks like real snow field numerous palms evergreens decorated room powdered flour strewn tufts cotton like snow also diamond dust lightly sprinkled glittering crystal icicles hung branches end room wall hung beautiful bear skin rug rugs prizes one girls one boys game girls gathered one end room boys one end called north pole south pole player given small flag plant reaching pole would easy matter traveller obliged wear snowshoes'"
      ]
     },
     "execution_count": 140,
     "metadata": {},
     "output_type": "execute_result"
    }
   ],
   "source": [
    "stop_data.loc[0][\"excerpt\"]"
   ]
  },
  {
   "cell_type": "code",
   "execution_count": 141,
   "id": "a88773c0",
   "metadata": {},
   "outputs": [],
   "source": [
    "stop_data.to_csv(\"data/3_stemming/train_remove_nltk_stop_words.csv\")"
   ]
  },
  {
   "cell_type": "markdown",
   "id": "0a100f48",
   "metadata": {},
   "source": [
    "Numner of words\n",
    "\n",
    "train_just_stemming > train_remove_some_pos > train_remove_nltk_stop_words"
   ]
  },
  {
   "cell_type": "code",
   "execution_count": null,
   "id": "03d4de40",
   "metadata": {},
   "outputs": [],
   "source": []
  }
 ],
 "metadata": {
  "kernelspec": {
   "display_name": "Python 3",
   "language": "python",
   "name": "python3"
  },
  "language_info": {
   "codemirror_mode": {
    "name": "ipython",
    "version": 3
   },
   "file_extension": ".py",
   "mimetype": "text/x-python",
   "name": "python",
   "nbconvert_exporter": "python",
   "pygments_lexer": "ipython3",
   "version": "3.7.10"
  }
 },
 "nbformat": 4,
 "nbformat_minor": 5
}
