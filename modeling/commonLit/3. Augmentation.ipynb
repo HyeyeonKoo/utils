{
 "cells": [
  {
   "cell_type": "markdown",
   "id": "41ad5ab0",
   "metadata": {},
   "source": [
    "## standard error"
   ]
  },
  {
   "cell_type": "markdown",
   "id": "8eab736f",
   "metadata": {},
   "source": [
    "- Assume that n is sufficiently large random samples from the population\n",
    "- Sample standard deviation can be estimated as $σ \\over \\sqrt{n}$\n",
    "- In this data, standard error can be estimated as sample standard deviation\n",
    "- So, population can be in the range \n",
    "$$\\mu - z{σ \\over \\sqrt{n}} < \\hat X <\\mu + z{σ \\over \\sqrt{n}}$$\n",
    "- $z$ will be 1.96 at 95% confidence interval, 2.58 at 99% confidence interval."
   ]
  },
  {
   "cell_type": "markdown",
   "id": "a0d91b61",
   "metadata": {},
   "source": [
    "## test with one data"
   ]
  },
  {
   "cell_type": "code",
   "execution_count": 1,
   "id": "f0eaeca1",
   "metadata": {},
   "outputs": [],
   "source": [
    "import pandas as pd"
   ]
  },
  {
   "cell_type": "code",
   "execution_count": 2,
   "id": "0d3b2227",
   "metadata": {},
   "outputs": [],
   "source": [
    "data = pd.read_csv(\"data/1_basic/train.csv\")"
   ]
  },
  {
   "cell_type": "code",
   "execution_count": 4,
   "id": "9c4d3f4c",
   "metadata": {},
   "outputs": [
    {
     "data": {
      "text/plain": [
       "Unnamed: 0                                                        0\n",
       "id                                                        c12129c31\n",
       "excerpt           when the young people returned to the ballroom...\n",
       "target                                                    -0.340259\n",
       "standard_error                                             0.464009\n",
       "Name: 0, dtype: object"
      ]
     },
     "execution_count": 4,
     "metadata": {},
     "output_type": "execute_result"
    }
   ],
   "source": [
    "data.loc[0]"
   ]
  },
  {
   "cell_type": "code",
   "execution_count": 6,
   "id": "ef706a05",
   "metadata": {},
   "outputs": [
    {
     "name": "stdout",
     "output_type": "stream",
     "text": [
      "-1.24971685516 0.56919860516\n"
     ]
    }
   ],
   "source": [
    "# 95% confidence interval\n",
    "min_ = data.loc[0][\"target\"] - 1.96*data.loc[0][\"standard_error\"]\n",
    "max_ = data.loc[0][\"target\"] + 1.96*data.loc[0][\"standard_error\"]\n",
    "\n",
    "print(min_, max_)"
   ]
  },
  {
   "cell_type": "code",
   "execution_count": 7,
   "id": "14eab885",
   "metadata": {},
   "outputs": [],
   "source": [
    "import random"
   ]
  },
  {
   "cell_type": "code",
   "execution_count": 10,
   "id": "cc2ea7e3",
   "metadata": {},
   "outputs": [
    {
     "name": "stdout",
     "output_type": "stream",
     "text": [
      "-0.7490025048249095\n"
     ]
    }
   ],
   "source": [
    "print(random.uniform(min_, max_))"
   ]
  },
  {
   "cell_type": "markdown",
   "id": "4295aedf",
   "metadata": {},
   "source": [
    "## test \"target\" with frequency distribution table\n",
    "\n",
    "\"target\" is continuous label, so check the frequency distribution table with suitable section."
   ]
  },
  {
   "cell_type": "code",
   "execution_count": 13,
   "id": "4cbd3b64",
   "metadata": {},
   "outputs": [],
   "source": [
    "import numpy as np\n",
    "import seaborn as sns"
   ]
  },
  {
   "cell_type": "code",
   "execution_count": 18,
   "id": "f799d1bd",
   "metadata": {},
   "outputs": [
    {
     "data": {
      "text/plain": [
       "2833"
      ]
     },
     "execution_count": 18,
     "metadata": {},
     "output_type": "execute_result"
    }
   ],
   "source": [
    "target = np.array(data[\"target\"])\n",
    "len(target)"
   ]
  },
  {
   "cell_type": "code",
   "execution_count": 17,
   "id": "6578d5b3",
   "metadata": {},
   "outputs": [
    {
     "data": {
      "text/plain": [
       "(array([  9,  10,  16,  20,  19,  22,  40,  39,  55,  64,  75,  86,  87,\n",
       "         86, 115, 114, 113, 118, 129, 130, 130, 141, 162, 130, 119, 116,\n",
       "        120, 102,  95,  82,  66,  69,  37,  36,  35,  15,  16,   7,   5,\n",
       "          3], dtype=int64),\n",
       " array([-3.67626777, -3.54157633, -3.40688489, -3.27219345, -3.13750201,\n",
       "        -3.00281057, -2.86811913, -2.73342769, -2.59873625, -2.46404481,\n",
       "        -2.32935337, -2.19466193, -2.05997049, -1.92527905, -1.79058761,\n",
       "        -1.65589617, -1.52120473, -1.38651329, -1.25182185, -1.11713041,\n",
       "        -0.98243897, -0.84774753, -0.71305609, -0.57836465, -0.44367321,\n",
       "        -0.30898177, -0.17429033, -0.03959889,  0.09509255,  0.22978399,\n",
       "         0.36447543,  0.49916687,  0.63385831,  0.76854975,  0.90324119,\n",
       "         1.03793263,  1.17262407,  1.30731551,  1.44200695,  1.57669839,\n",
       "         1.71138983]))"
      ]
     },
     "execution_count": 17,
     "metadata": {},
     "output_type": "execute_result"
    }
   ],
   "source": [
    "np.histogram(target, 40)"
   ]
  },
  {
   "cell_type": "code",
   "execution_count": 16,
   "id": "ebf7749b",
   "metadata": {},
   "outputs": [
    {
     "data": {
      "text/plain": [
       "<AxesSubplot:>"
      ]
     },
     "execution_count": 16,
     "metadata": {},
     "output_type": "execute_result"
    },
    {
     "data": {
      "image/png": "[encoded data removed]",
      "text/plain": [
       "<Figure size 432x288 with 1 Axes>"
      ]
     },
     "metadata": {
      "needs_background": "light"
     },
     "output_type": "display_data"
    }
   ],
   "source": [
    "sns.distplot(target, bins=40, kde=False)"
   ]
  },
  {
   "cell_type": "code",
   "execution_count": 27,
   "id": "7c22a221",
   "metadata": {},
   "outputs": [
    {
     "name": "stdout",
     "output_type": "stream",
     "text": [
      "41\n"
     ]
    }
   ],
   "source": [
    "print(len(np.histogram(target, 40)[1]))"
   ]
  },
  {
   "cell_type": "code",
   "execution_count": 28,
   "id": "c5949180",
   "metadata": {},
   "outputs": [
    {
     "name": "stdout",
     "output_type": "stream",
     "text": [
      "-3.676267773 1.711389827\n"
     ]
    }
   ],
   "source": [
    "print(np.min(target), np.max(target))"
   ]
  },
  {
   "cell_type": "markdown",
   "id": "e79486f0",
   "metadata": {},
   "source": [
    "**Augmentation Step**\n",
    "\n",
    "1. set up the number of sections. (like np.histogram bin=40)\n",
    "2. get the frequency distribution table. <br>\n",
    "    for each section, min, max, height value needed.\n",
    "3. get the max height.\n",
    "4. for each section, augment the number of data equal as max height. <br>\n",
    "    if use text augmentation, apply it.\n",
    "\n",
    "※ maybe, use only text augmentation and set the label same as original one."
   ]
  },
  {
   "cell_type": "markdown",
   "id": "c3d7078a",
   "metadata": {},
   "source": [
    "## Augmentation Dataset Possibility\n",
    "\n",
    "1. use original data (basic + stemming)\n",
    "2. just text augmentation <br>\n",
    "    use EDA(https://github.com/jasonwei20/eda_nlp) <br>\n",
    "    the paper(https://arxiv.org/pdf/1901.11196v2.pdf) recommends that <br>\n",
    "    if $N_{train} = 2000$, it is ideal that $\\alpha = 0.05, N_{aug} = 8$ <br>\n",
    "    2-1. sustain distribution <br>\n",
    "    2-2. set equaly number of samples per each section\n",
    "3. label augmentation (following above augmentation step) <br>\n",
    "    3-1. // <br>\n",
    "    3-2. // \n",
    "4. text and label augmentation <br>\n",
    "    4-1. // <br>\n",
    "    4-2. //"
   ]
  },
  {
   "cell_type": "markdown",
   "id": "edba5b0f",
   "metadata": {},
   "source": [
    "## Text Augmentation"
   ]
  },
  {
   "cell_type": "code",
   "execution_count": 29,
   "id": "fc039bc8",
   "metadata": {},
   "outputs": [
    {
     "name": "stderr",
     "output_type": "stream",
     "text": [
      "[nltk_data] Downloading package wordnet to\n",
      "[nltk_data]     C:\\Users\\admin\\AppData\\Roaming\\nltk_data...\n",
      "[nltk_data]   Package wordnet is already up-to-date!\n"
     ]
    },
    {
     "data": {
      "text/plain": [
       "True"
      ]
     },
     "execution_count": 29,
     "metadata": {},
     "output_type": "execute_result"
    }
   ],
   "source": [
    "import nltk \n",
    "nltk.download('wordnet')"
   ]
  },
  {
   "cell_type": "code",
   "execution_count": 30,
   "id": "8f4bdeea",
   "metadata": {},
   "outputs": [],
   "source": [
    "import os"
   ]
  },
  {
   "cell_type": "code",
   "execution_count": 33,
   "id": "4a0364f5",
   "metadata": {},
   "outputs": [],
   "source": [
    "if not os.path.isdir(\"eda_test\"):\n",
    "    os.mkdir(\"eda_test\")"
   ]
  },
  {
   "cell_type": "code",
   "execution_count": 37,
   "id": "c9c7a3f0",
   "metadata": {},
   "outputs": [],
   "source": [
    "with open(\"eda_test/test_one_sentences.txt\", \"w\", encoding=\"utf-8\") as f:\n",
    "    f.write(str(data.loc[0][\"target\"]) + \"\\t\" + data.loc[0][\"excerpt\"].replace(\"\\n\", \" \"))"
   ]
  },
  {
   "cell_type": "code",
   "execution_count": 40,
   "id": "9f6d72ec",
   "metadata": {},
   "outputs": [
    {
     "name": "stdout",
     "output_type": "stream",
     "text": [
      "generated augmented sentences with eda for eda_test/test_one_sentences.txt to eda_test/test_one_sentences_output.txt with num_aug=8\n"
     ]
    }
   ],
   "source": [
    "# 코드 제출할 때에는 git clone으로 사용하기\n",
    "\n",
    "# num_aug : N of augmented data\n",
    "# Synonym Replacement (SR): replace a word with a synonym\n",
    "# Random Insertion (RI): insert synonym to the random position in the sentence\n",
    "# Random Swap (RS): replace two wrods in a sentence\n",
    "# Random Deletion (RD): delete a word in a sentence\n",
    "\n",
    "!python eda_nlp-master/code/augment.py \\\n",
    "    --input=eda_test/test_one_sentences.txt \\\n",
    "    --output=eda_test/test_one_sentences_output.txt \\\n",
    "    --num_aug=8 \\\n",
    "    --alpha_sr=0.1 --alpha_rd=0.1 --alpha_ri=0.1 --alpha_rs=0.1"
   ]
  },
  {
   "cell_type": "markdown",
   "id": "58b6e3b3",
   "metadata": {},
   "source": [
    "## Text & Label Augmentation (Same Distribution)"
   ]
  },
  {
   "cell_type": "code",
   "execution_count": 47,
   "id": "674ce245",
   "metadata": {},
   "outputs": [],
   "source": [
    "import copy"
   ]
  },
  {
   "cell_type": "code",
   "execution_count": 72,
   "id": "521ade3f",
   "metadata": {},
   "outputs": [
    {
     "data": {
      "text/html": [
       "<div>\n",
       "<style scoped>\n",
       "    .dataframe tbody tr th:only-of-type {\n",
       "        vertical-align: middle;\n",
       "    }\n",
       "\n",
       "    .dataframe tbody tr th {\n",
       "        vertical-align: top;\n",
       "    }\n",
       "\n",
       "    .dataframe thead th {\n",
       "        text-align: right;\n",
       "    }\n",
       "</style>\n",
       "<table border=\"1\" class=\"dataframe\">\n",
       "  <thead>\n",
       "    <tr style=\"text-align: right;\">\n",
       "      <th></th>\n",
       "      <th>target_</th>\n",
       "      <th>excerpt</th>\n",
       "    </tr>\n",
       "  </thead>\n",
       "  <tbody>\n",
       "    <tr>\n",
       "      <th>0</th>\n",
       "      <td>c12129c31 -0.340259125 0.464009046</td>\n",
       "      <td>when the young people returned to the ballroom...</td>\n",
       "    </tr>\n",
       "    <tr>\n",
       "      <th>1</th>\n",
       "      <td>85aa80a4c -0.315372342 0.48080497</td>\n",
       "      <td>all through dinner time, mrs. fayre was somewh...</td>\n",
       "    </tr>\n",
       "    <tr>\n",
       "      <th>2</th>\n",
       "      <td>b69ac6792 -0.580117966 0.476676226</td>\n",
       "      <td>as roger had predicted, the snow departed as q...</td>\n",
       "    </tr>\n",
       "    <tr>\n",
       "      <th>3</th>\n",
       "      <td>dd1000b26 -1.05401339 0.450007142</td>\n",
       "      <td>and outside before the palace a great garden w...</td>\n",
       "    </tr>\n",
       "    <tr>\n",
       "      <th>4</th>\n",
       "      <td>37c1b32fb 0.247197446 0.510844957</td>\n",
       "      <td>once upon a time there were three bears who li...</td>\n",
       "    </tr>\n",
       "  </tbody>\n",
       "</table>\n",
       "</div>"
      ],
      "text/plain": [
       "                              target_  \\\n",
       "0  c12129c31 -0.340259125 0.464009046   \n",
       "1   85aa80a4c -0.315372342 0.48080497   \n",
       "2  b69ac6792 -0.580117966 0.476676226   \n",
       "3   dd1000b26 -1.05401339 0.450007142   \n",
       "4   37c1b32fb 0.247197446 0.510844957   \n",
       "\n",
       "                                             excerpt  \n",
       "0  when the young people returned to the ballroom...  \n",
       "1  all through dinner time, mrs. fayre was somewh...  \n",
       "2  as roger had predicted, the snow departed as q...  \n",
       "3  and outside before the palace a great garden w...  \n",
       "4  once upon a time there were three bears who li...  "
      ]
     },
     "execution_count": 72,
     "metadata": {},
     "output_type": "execute_result"
    }
   ],
   "source": [
    "# make the label, text filev \n",
    "data_to_augementation = copy.deepcopy(data)\n",
    "data_to_augementation[\"target_\"] = data[\"id\"].map(str) + \" \" \\\n",
    "    + data[\"target\"].map(str) + \" \" + data[\"standard_error\"].map(str)\n",
    "data_to_augementation = data_to_augementation[[\"target_\", \"excerpt\"]]\n",
    "data_to_augementation.head()"
   ]
  },
  {
   "cell_type": "code",
   "execution_count": 200,
   "id": "2dd6894c",
   "metadata": {},
   "outputs": [],
   "source": [
    "def text_clean(x):\n",
    "    x = x.replace(\"\\n\", \" \")\n",
    "    x = x.replace(\"\\t\", \" \")\n",
    "    return x.strip()"
   ]
  },
  {
   "cell_type": "code",
   "execution_count": 74,
   "id": "bee98843",
   "metadata": {},
   "outputs": [
    {
     "data": {
      "text/plain": [
       "'when the young people returned to the ballroom, it presented a decidedly changed appearance. instead of an interior scene, it was a winter landscape. the floor was covered with snow-white canvas, not laid on smoothly, but rumpled over bumps and hillocks, like a real snow field. the numerous palms and evergreens that had decorated the room, were powdered with flour and strewn with tufts of cotton, like snow. also diamond dust had been lightly sprinkled on them, and glittering crystal icicles hung from the branches. at each end of the room, on the wall, hung a beautiful bear-skin rug. these rugs were for prizes, one for the girls and one for the boys. and this was the game. the girls were gathered at one end of the room and the boys at the other, and one end was called the north pole, and the other the south pole. each player was given a small flag which they were to plant on reaching the pole. this would have been an easy matter, but each traveller was obliged to wear snowshoes.'"
      ]
     },
     "execution_count": 74,
     "metadata": {},
     "output_type": "execute_result"
    }
   ],
   "source": [
    "data_to_augementation[\"excerpt\"] = data_to_augementation[\"excerpt\"].apply(text_clean)\n",
    "data_to_augementation.loc[0][\"excerpt\"]"
   ]
  },
  {
   "cell_type": "code",
   "execution_count": 75,
   "id": "b545670d",
   "metadata": {},
   "outputs": [],
   "source": [
    "data_to_augementation.to_csv(\n",
    "    \"eda_test/basic_data.txt\", \n",
    "    index=False, header=None, \n",
    "    sep=\"\\t\",\n",
    "    encoding=\"utf-8\"\n",
    ")"
   ]
  },
  {
   "cell_type": "code",
   "execution_count": 76,
   "id": "3e0f5c4a",
   "metadata": {},
   "outputs": [
    {
     "name": "stdout",
     "output_type": "stream",
     "text": [
      "generated augmented sentences with eda for eda_test/basic_data.txt to eda_test/aug_basic_data.txt with num_aug=8\n"
     ]
    }
   ],
   "source": [
    "# text augmentation\n",
    "!python eda_nlp-master/code/augment.py \\\n",
    "    --input=eda_test/basic_data.txt \\\n",
    "    --output=eda_test/aug_basic_data.txt \\\n",
    "    --num_aug=8 \\\n",
    "    --alpha_sr=0.1 --alpha_rd=0.1 --alpha_ri=0.1 --alpha_rs=0.1"
   ]
  },
  {
   "cell_type": "code",
   "execution_count": 201,
   "id": "64b6e528",
   "metadata": {},
   "outputs": [],
   "source": [
    "# label augmentation\n",
    "\n",
    "new_data = []\n",
    "original_data = copy.deepcopy(data)\n",
    "original_data[\"excerpt\"] = original_data[\"excerpt\"].apply(text_clean)\n",
    "\n",
    "with open(\"eda_test/aug_basic_data.txt\", \"r\", encoding=\"utf-8\") as f:\n",
    "    recent_id = None\n",
    "    \n",
    "    for line in f:\n",
    "        label, excerpt = line.split(\"\\t\")\n",
    "        id_, target, standard_error = label.split(\" \")\n",
    "        target_ = float(target)\n",
    "        standard_error = float(standard_error)\n",
    "        excerpt = text_clean(excerpt)\n",
    "\n",
    "        if recent_id != id_:\n",
    "            original = original_data[original_data[\"id\"] == id_]\n",
    "            new_data.append(list(original.iloc[0])[1:])\n",
    "            \n",
    "            recent_id = id_\n",
    "        \n",
    "        min_ = target_ - 1.96*standard_error\n",
    "        max_ = target_ + 1.96*standard_error\n",
    "        target = random.uniform(min_, max_)\n",
    "        \n",
    "        new_data.append([id_, excerpt, target, standard_error])\n",
    "        "
   ]
  },
  {
   "cell_type": "code",
   "execution_count": 184,
   "id": "18f341e3",
   "metadata": {},
   "outputs": [
    {
     "data": {
      "text/plain": [
       "28330"
      ]
     },
     "execution_count": 184,
     "metadata": {},
     "output_type": "execute_result"
    }
   ],
   "source": [
    "len(new_data)"
   ]
  },
  {
   "cell_type": "code",
   "execution_count": 202,
   "id": "786c0408",
   "metadata": {},
   "outputs": [
    {
     "data": {
      "text/html": [
       "<div>\n",
       "<style scoped>\n",
       "    .dataframe tbody tr th:only-of-type {\n",
       "        vertical-align: middle;\n",
       "    }\n",
       "\n",
       "    .dataframe tbody tr th {\n",
       "        vertical-align: top;\n",
       "    }\n",
       "\n",
       "    .dataframe thead th {\n",
       "        text-align: right;\n",
       "    }\n",
       "</style>\n",
       "<table border=\"1\" class=\"dataframe\">\n",
       "  <thead>\n",
       "    <tr style=\"text-align: right;\">\n",
       "      <th></th>\n",
       "      <th>id</th>\n",
       "      <th>excerpt</th>\n",
       "      <th>target</th>\n",
       "      <th>standard_error</th>\n",
       "    </tr>\n",
       "  </thead>\n",
       "  <tbody>\n",
       "    <tr>\n",
       "      <th>0</th>\n",
       "      <td>c12129c31</td>\n",
       "      <td>when the young people returned to the ballroom...</td>\n",
       "      <td>-0.340259</td>\n",
       "      <td>0.464009</td>\n",
       "    </tr>\n",
       "    <tr>\n",
       "      <th>1</th>\n",
       "      <td>c12129c31</td>\n",
       "      <td>when the young people returned to the ballroom...</td>\n",
       "      <td>-0.003837</td>\n",
       "      <td>0.464009</td>\n",
       "    </tr>\n",
       "    <tr>\n",
       "      <th>2</th>\n",
       "      <td>c12129c31</td>\n",
       "      <td>when the young people returned to the ballroom...</td>\n",
       "      <td>-1.130945</td>\n",
       "      <td>0.464009</td>\n",
       "    </tr>\n",
       "    <tr>\n",
       "      <th>3</th>\n",
       "      <td>c12129c31</td>\n",
       "      <td>when the young people returned to the ballroom...</td>\n",
       "      <td>0.058824</td>\n",
       "      <td>0.464009</td>\n",
       "    </tr>\n",
       "    <tr>\n",
       "      <th>4</th>\n",
       "      <td>c12129c31</td>\n",
       "      <td>when the young people returned to the ballroom...</td>\n",
       "      <td>-0.797085</td>\n",
       "      <td>0.464009</td>\n",
       "    </tr>\n",
       "    <tr>\n",
       "      <th>5</th>\n",
       "      <td>c12129c31</td>\n",
       "      <td>when the lightly people returned on the ballro...</td>\n",
       "      <td>0.393137</td>\n",
       "      <td>0.464009</td>\n",
       "    </tr>\n",
       "    <tr>\n",
       "      <th>6</th>\n",
       "      <td>c12129c31</td>\n",
       "      <td>when the these people returned to the ballroom...</td>\n",
       "      <td>-0.090488</td>\n",
       "      <td>0.464009</td>\n",
       "    </tr>\n",
       "    <tr>\n",
       "      <th>7</th>\n",
       "      <td>c12129c31</td>\n",
       "      <td>the young people to the ballroom it presented ...</td>\n",
       "      <td>0.498392</td>\n",
       "      <td>0.464009</td>\n",
       "    </tr>\n",
       "    <tr>\n",
       "      <th>8</th>\n",
       "      <td>c12129c31</td>\n",
       "      <td>when the young people returned to the ballroom...</td>\n",
       "      <td>-0.016149</td>\n",
       "      <td>0.464009</td>\n",
       "    </tr>\n",
       "    <tr>\n",
       "      <th>9</th>\n",
       "      <td>c12129c31</td>\n",
       "      <td>when the young people returned to the ballroom...</td>\n",
       "      <td>-0.320396</td>\n",
       "      <td>0.464009</td>\n",
       "    </tr>\n",
       "    <tr>\n",
       "      <th>10</th>\n",
       "      <td>85aa80a4c</td>\n",
       "      <td>all through dinner time, mrs. fayre was somewh...</td>\n",
       "      <td>-0.315372</td>\n",
       "      <td>0.480805</td>\n",
       "    </tr>\n",
       "  </tbody>\n",
       "</table>\n",
       "</div>"
      ],
      "text/plain": [
       "           id                                            excerpt    target  \\\n",
       "0   c12129c31  when the young people returned to the ballroom... -0.340259   \n",
       "1   c12129c31  when the young people returned to the ballroom... -0.003837   \n",
       "2   c12129c31  when the young people returned to the ballroom... -1.130945   \n",
       "3   c12129c31  when the young people returned to the ballroom...  0.058824   \n",
       "4   c12129c31  when the young people returned to the ballroom... -0.797085   \n",
       "5   c12129c31  when the lightly people returned on the ballro...  0.393137   \n",
       "6   c12129c31  when the these people returned to the ballroom... -0.090488   \n",
       "7   c12129c31  the young people to the ballroom it presented ...  0.498392   \n",
       "8   c12129c31  when the young people returned to the ballroom... -0.016149   \n",
       "9   c12129c31  when the young people returned to the ballroom... -0.320396   \n",
       "10  85aa80a4c  all through dinner time, mrs. fayre was somewh... -0.315372   \n",
       "\n",
       "    standard_error  \n",
       "0         0.464009  \n",
       "1         0.464009  \n",
       "2         0.464009  \n",
       "3         0.464009  \n",
       "4         0.464009  \n",
       "5         0.464009  \n",
       "6         0.464009  \n",
       "7         0.464009  \n",
       "8         0.464009  \n",
       "9         0.464009  \n",
       "10        0.480805  "
      ]
     },
     "execution_count": 202,
     "metadata": {},
     "output_type": "execute_result"
    }
   ],
   "source": [
    "new_data_df = pd.DataFrame(new_data, columns=[\"id\", \"excerpt\", \"target\", \"standard_error\"])\n",
    "new_data_df[:11]"
   ]
  },
  {
   "cell_type": "code",
   "execution_count": 191,
   "id": "48008852",
   "metadata": {},
   "outputs": [
    {
     "data": {
      "text/plain": [
       "28330"
      ]
     },
     "execution_count": 191,
     "metadata": {},
     "output_type": "execute_result"
    }
   ],
   "source": [
    "len(new_data_df)"
   ]
  },
  {
   "cell_type": "code",
   "execution_count": 169,
   "id": "960fae68",
   "metadata": {},
   "outputs": [],
   "source": [
    "import matplotlib.pyplot as plt\n",
    "import seaborn as sns\n",
    "import numpy as np"
   ]
  },
  {
   "cell_type": "code",
   "execution_count": 168,
   "id": "309846b5",
   "metadata": {
    "scrolled": false
   },
   "outputs": [
    {
     "data": {
      "text/plain": [
       "<Figure size 432x288 with 0 Axes>"
      ]
     },
     "metadata": {},
     "output_type": "display_data"
    },
    {
     "data": {
      "image/png": "[encoded data removed]",
      "text/plain": [
       "<Figure size 720x720 with 3 Axes>"
      ]
     },
     "metadata": {
      "needs_background": "light"
     },
     "output_type": "display_data"
    }
   ],
   "source": [
    "plt.clf()\n",
    "\n",
    "sns.jointplot(x=new_data_df[\"target\"], y=new_data_df[\"standard_error\"], kind=\"hex\", height=10)\n",
    "\n",
    "plt.show()"
   ]
  },
  {
   "cell_type": "code",
   "execution_count": 172,
   "id": "eba6878a",
   "metadata": {},
   "outputs": [
    {
     "name": "stderr",
     "output_type": "stream",
     "text": [
      "C:\\Users\\admin\\anaconda3\\lib\\site-packages\\seaborn\\distributions.py:2557: FutureWarning: `distplot` is a deprecated function and will be removed in a future version. Please adapt your code to use either `displot` (a figure-level function with similar flexibility) or `histplot` (an axes-level function for histograms).\n",
      "  warnings.warn(msg, FutureWarning)\n"
     ]
    },
    {
     "data": {
      "text/plain": [
       "<Figure size 432x288 with 0 Axes>"
      ]
     },
     "metadata": {},
     "output_type": "display_data"
    },
    {
     "data": {
      "image/png": "[encoded data removed]",
      "text/plain": [
       "<Figure size 864x288 with 1 Axes>"
      ]
     },
     "metadata": {
      "needs_background": "light"
     },
     "output_type": "display_data"
    }
   ],
   "source": [
    "plt.clf()\n",
    "plt.figure(figsize=(12, 4))\n",
    "\n",
    "sns.distplot(new_data_df[\"target\"])\n",
    "plt.axvline(x=np.mean(new_data_df[\"target\"]), linewidth=1, color='red')\n",
    "plt.axvline(x=np.min(new_data_df[\"target\"]), linewidth=1, color='black')\n",
    "plt.axvline(x=np.max(new_data_df[\"target\"]), linewidth=1, color='black')\n",
    "\n",
    "plt.show()"
   ]
  },
  {
   "cell_type": "code",
   "execution_count": 203,
   "id": "889b0380",
   "metadata": {},
   "outputs": [],
   "source": [
    "# save the data\n",
    "if not os.path.isdir(\"data/4_augmentation\"):\n",
    "    os.mkdir(\"data/4_augmentation\")\n",
    "\n",
    "new_data_df[[\"id\", \"excerpt\", \"target\"]].to_csv(\"data/4_augmentation/aug_10_data.txt\", sep=\"\\t\", index=False, encoding=\"utf-8\")"
   ]
  },
  {
   "cell_type": "code",
   "execution_count": 204,
   "id": "07ba3769",
   "metadata": {},
   "outputs": [],
   "source": [
    "# save the stemmed data"
   ]
  },
  {
   "cell_type": "code",
   "execution_count": 205,
   "id": "2e21e10d",
   "metadata": {},
   "outputs": [],
   "source": [
    "import nltk"
   ]
  },
  {
   "cell_type": "code",
   "execution_count": 206,
   "id": "886e801e",
   "metadata": {},
   "outputs": [],
   "source": [
    "def get_stem_result(string):\n",
    "    stemmer = nltk.stem.SnowballStemmer('english')\n",
    "    stems = []\n",
    "    \n",
    "    for element in nltk.word_tokenize(string):\n",
    "        stems.append(stemmer.stem(element))\n",
    "\n",
    "    return \" \".join(stems)"
   ]
  },
  {
   "cell_type": "code",
   "execution_count": 207,
   "id": "0b2b1965",
   "metadata": {},
   "outputs": [],
   "source": [
    "new_data_df[\"excerpt\"] = new_data_df[\"excerpt\"].apply(get_stem_result)"
   ]
  },
  {
   "cell_type": "code",
   "execution_count": 208,
   "id": "30854dea",
   "metadata": {},
   "outputs": [],
   "source": [
    "new_data_df[[\"id\", \"excerpt\", \"target\"]].to_csv(\"data/4_augmentation/stemmed_aug_10_data.txt\", sep=\"\\t\", index=False, encoding=\"utf-8\")"
   ]
  },
  {
   "cell_type": "code",
   "execution_count": null,
   "id": "aba56cf3",
   "metadata": {},
   "outputs": [],
   "source": []
  }
 ],
 "metadata": {
  "kernelspec": {
   "display_name": "Python 3",
   "language": "python",
   "name": "python3"
  },
  "language_info": {
   "codemirror_mode": {
    "name": "ipython",
    "version": 3
   },
   "file_extension": ".py",
   "mimetype": "text/x-python",
   "name": "python",
   "nbconvert_exporter": "python",
   "pygments_lexer": "ipython3",
   "version": "3.7.10"
  }
 },
 "nbformat": 4,
 "nbformat_minor": 5
}
