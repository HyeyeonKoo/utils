{
 "cells": [
  {
   "cell_type": "code",
   "execution_count": 1,
   "id": "6d3ae2f9",
   "metadata": {},
   "outputs": [],
   "source": [
    "# time\n",
    "from datetime import datetime\n",
    "notebook_start = datetime.now()"
   ]
  },
  {
   "cell_type": "code",
   "execution_count": 2,
   "id": "75820070",
   "metadata": {},
   "outputs": [],
   "source": [
    "import pandas as pd\n",
    "import re\n",
    "import copy\n",
    "import nltk\n",
    "import random\n",
    "import numpy as np\n",
    "import torch"
   ]
  },
  {
   "cell_type": "code",
   "execution_count": 3,
   "id": "77bea1de",
   "metadata": {},
   "outputs": [],
   "source": [
    "seed = 111\n",
    "\n",
    "random.seed(seed)\n",
    "np.random.seed(seed)\n",
    "torch.manual_seed(seed)\n",
    "torch.cuda.manual_seed(seed)"
   ]
  },
  {
   "cell_type": "markdown",
   "id": "5a77e779",
   "metadata": {},
   "source": [
    "## Read Data"
   ]
  },
  {
   "cell_type": "code",
   "execution_count": 4,
   "id": "d87e9f78",
   "metadata": {},
   "outputs": [],
   "source": [
    "train_original = pd.read_csv(\"data/train.csv\")\n",
    "\n",
    "train_original = train_original.drop([\"url_legal\", \"license\"], axis=1)\n",
    "train_original = train_original[train_original[\"standard_error\"] != 0]\n",
    "\n",
    "# print(len(train_original))\n",
    "# train_original.head()"
   ]
  },
  {
   "cell_type": "code",
   "execution_count": 5,
   "id": "64db11fe",
   "metadata": {},
   "outputs": [],
   "source": [
    "test_original = pd.read_csv(\"data/test.csv\")\n",
    "\n",
    "test_original = test_original.drop([\"url_legal\", \"license\"], axis=1)\n",
    "\n",
    "# print(len(test_original))\n",
    "# test_original.head()"
   ]
  },
  {
   "cell_type": "markdown",
   "id": "bd7ee551",
   "metadata": {},
   "source": [
    "## Preprocessing"
   ]
  },
  {
   "cell_type": "code",
   "execution_count": 6,
   "id": "a6231d76",
   "metadata": {},
   "outputs": [],
   "source": [
    "# text preprocessing\n",
    "def preprocessing(x):\n",
    "    # lower\n",
    "    x = x.lower()\n",
    "    \n",
    "    # tab, line space -> white space\n",
    "    x = x.replace(\"\\t\", \" \")\n",
    "    x = x.replace(\"\\n\", \" \")\n",
    "    \n",
    "    # special characters\n",
    "    x = re.sub(r\"[^a-z0-9!@$%*-_+=&,'.?\\\"]\", \" \", x)\n",
    "    x = x.replace(\"!\", \" !\")\n",
    "    x = x.replace(\",\", \" ,\")\n",
    "    x = x.replace(\".\", \" .\")\n",
    "    x = x.replace(\"?\", \" ?\")\n",
    "    x = re.sub(\" +\", \" \", x)\n",
    "    x = x.strip()\n",
    "    \n",
    "    return x"
   ]
  },
  {
   "cell_type": "code",
   "execution_count": 7,
   "id": "7aa251f8",
   "metadata": {},
   "outputs": [],
   "source": [
    "train_pp = copy.deepcopy(train_original)\n",
    "train_pp[\"excerpt\"] = train_pp[\"excerpt\"].apply(preprocessing)\n",
    "\n",
    "# train_pp.loc[0][\"excerpt\"]"
   ]
  },
  {
   "cell_type": "markdown",
   "id": "eea941bb",
   "metadata": {},
   "source": [
    "## Augementation"
   ]
  },
  {
   "cell_type": "code",
   "execution_count": 8,
   "id": "b5deedf1",
   "metadata": {},
   "outputs": [
    {
     "name": "stderr",
     "output_type": "stream",
     "text": [
      "[nltk_data] Downloading package wordnet to /home/koo/nltk_data...\n",
      "[nltk_data]   Package wordnet is already up-to-date!\n"
     ]
    },
    {
     "data": {
      "text/plain": [
       "True"
      ]
     },
     "execution_count": 8,
     "metadata": {},
     "output_type": "execute_result"
    }
   ],
   "source": [
    "nltk.download('wordnet')"
   ]
  },
  {
   "cell_type": "code",
   "execution_count": 9,
   "id": "3b571c50",
   "metadata": {},
   "outputs": [],
   "source": [
    "data_to_augementation = copy.deepcopy(train_pp)\n",
    "data_to_augementation[\"target_\"] = train_pp[\"id\"].map(str) + \" \" \\\n",
    "    + train_pp[\"target\"].map(str) + \" \" \\\n",
    "    + train_pp[\"standard_error\"].map(str)\n",
    "data_to_augementation = data_to_augementation[[\"target_\", \"excerpt\"]]\n",
    "\n",
    "# data_to_augementation.head()"
   ]
  },
  {
   "cell_type": "code",
   "execution_count": 10,
   "id": "58b1e4fb",
   "metadata": {},
   "outputs": [],
   "source": [
    "# save for augmentation\n",
    "data_to_augementation.to_csv(\n",
    "    \"train_pp_for_augmentation.csv\", \n",
    "    index=False, header=None, \n",
    "    sep=\"\\t\",\n",
    "    encoding=\"utf-8\"\n",
    ")"
   ]
  },
  {
   "cell_type": "code",
   "execution_count": 11,
   "id": "9c2e0150",
   "metadata": {},
   "outputs": [
    {
     "name": "stdout",
     "output_type": "stream",
     "text": [
      "generated augmented sentences with eda for train_pp_for_augmentation.csv to output_for_augmentation.csv with num_aug=8\r\n"
     ]
    }
   ],
   "source": [
    "# text augmentation using eda-nlp\n",
    "!python eda/code/augment.py \\\n",
    "    --input=train_pp_for_augmentation.csv \\\n",
    "    --output=output_for_augmentation.csv \\\n",
    "    --num_aug=8 \\\n",
    "    --alpha_sr=0.1 --alpha_rd=0.1 --alpha_ri=0.1 --alpha_rs=0.1"
   ]
  },
  {
   "cell_type": "code",
   "execution_count": 12,
   "id": "ec42f5f5",
   "metadata": {},
   "outputs": [],
   "source": [
    "# read augmented text data & label augmentation\n",
    "train_aug = []\n",
    "\n",
    "with open(\"output_for_augmentation.csv\", \"r\", encoding=\"utf-8\") as f:\n",
    "    recent_id = None\n",
    "    \n",
    "    for line in f:\n",
    "        label, excerpt = line.split(\"\\t\")\n",
    "        id_, target, standard_error = label.split(\" \")\n",
    "        target_ = float(target)\n",
    "        standard_error = float(standard_error)\n",
    "\n",
    "        if recent_id != id_:\n",
    "            original = train_pp[train_pp[\"id\"] == id_]\n",
    "            train_aug.append([\n",
    "                original[\"id\"].item(),\n",
    "                original[\"excerpt\"].item(),\n",
    "                original[\"target\"].item(),\n",
    "                original[\"standard_error\"].item()\n",
    "            ])\n",
    "            \n",
    "            recent_id = id_\n",
    "        \n",
    "        min_ = target_ - 1.96*standard_error\n",
    "        max_ = target_ + 1.96*standard_error\n",
    "        target = random.uniform(min_, max_)\n",
    "        \n",
    "        train_aug.append([id_, excerpt, target, standard_error])"
   ]
  },
  {
   "cell_type": "code",
   "execution_count": 13,
   "id": "c356f391",
   "metadata": {},
   "outputs": [],
   "source": [
    "# print(len(train_original))\n",
    "# print(len(train_aug))"
   ]
  },
  {
   "cell_type": "code",
   "execution_count": 14,
   "id": "b62fc4f7",
   "metadata": {},
   "outputs": [],
   "source": [
    "train_aug = pd.DataFrame(\n",
    "    train_aug, \n",
    "    columns=[\"id\", \"excerpt\", \"target\", \"standard_error\"]\n",
    ")"
   ]
  },
  {
   "cell_type": "markdown",
   "id": "3061cdda",
   "metadata": {},
   "source": [
    "## Train&Test Split"
   ]
  },
  {
   "cell_type": "code",
   "execution_count": 15,
   "id": "f8a73ef9",
   "metadata": {},
   "outputs": [],
   "source": [
    "# split section by ratio of test(0.2)\n",
    "section = np.linspace(\n",
    "    min(train_pp[\"target\"]), \n",
    "    max(train_pp[\"target\"]),\n",
    "    int(len(train_pp)*0.2)\n",
    ")\n",
    "\n",
    "# print(len(section))"
   ]
  },
  {
   "cell_type": "code",
   "execution_count": 16,
   "id": "18fc59f4",
   "metadata": {},
   "outputs": [],
   "source": [
    "# choose a sample per section\n",
    "test_id = []\n",
    "\n",
    "for i in range(len(section)-1):\n",
    "    start = section[i]\n",
    "    end = section[i + 1]\n",
    "    \n",
    "    candidates = train_pp[train_pp[\"target\"]>=start]\n",
    "    candidates = train_pp[train_pp[\"target\"]<end]\n",
    "    \n",
    "    random_index = random.randrange(0, len(candidates))\n",
    "    test_id.append(candidates.iloc[random_index][\"id\"])\n",
    "    \n",
    "# len(test_id)"
   ]
  },
  {
   "cell_type": "code",
   "execution_count": 17,
   "id": "80b5a19e",
   "metadata": {},
   "outputs": [],
   "source": [
    "# train, test split\n",
    "train = train_aug[~train_aug[\"id\"].isin(test_id)]\n",
    "test = train_aug[train_aug[\"id\"].isin(test_id)]\n",
    "\n",
    "# print(len(train))\n",
    "# print(len(test))"
   ]
  },
  {
   "cell_type": "code",
   "execution_count": 18,
   "id": "ccf8a485",
   "metadata": {},
   "outputs": [],
   "source": [
    "# shuffle\n",
    "train_shuffled = train.sample(frac=1).reset_index(drop=True)\n",
    "test_shuffled = test.sample(frac=1).reset_index(drop=True)\n",
    "\n",
    "# print(len(train_shuffled))\n",
    "# print(len(test_shuffled))"
   ]
  },
  {
   "cell_type": "code",
   "execution_count": 19,
   "id": "d3a72742",
   "metadata": {},
   "outputs": [],
   "source": [
    "# preparing\n",
    "train_id = np.array(train_shuffled[\"id\"])\n",
    "train_X = np.array(train_shuffled[\"excerpt\"])\n",
    "train_y = np.array(train_shuffled[\"target\"])\n",
    "\n",
    "test_id = np.array(test_shuffled[\"id\"])\n",
    "test_X = np.array(test_shuffled[\"excerpt\"])\n",
    "test_y = np.array(test_shuffled[\"target\"])"
   ]
  },
  {
   "cell_type": "markdown",
   "id": "4be27e93",
   "metadata": {},
   "source": [
    "## Training \n",
    "- Loss Function : RMSE\n",
    "- Need target normalization\n",
    "- fine-tuning only\n",
    "- using Huggingface's transformers library & pytorch\n",
    "- using pretrained model(bert-base-uncased)"
   ]
  },
  {
   "cell_type": "code",
   "execution_count": 20,
   "id": "45de2c41",
   "metadata": {},
   "outputs": [],
   "source": [
    "# tokenizer\n",
    "from transformers import BertTokenizer\n",
    "\n",
    "tokenizer = BertTokenizer.from_pretrained('bert-base-uncased', do_lower_case=True)"
   ]
  },
  {
   "cell_type": "code",
   "execution_count": 21,
   "id": "a3d6f850",
   "metadata": {},
   "outputs": [],
   "source": [
    "# print(tokenizer.tokenize(train_X[0]))\n",
    "# print(tokenizer.convert_tokens_to_ids(tokenizer.tokenize(train_X[0])))\n",
    "# print(tokenizer.encode(train_X[0]))"
   ]
  },
  {
   "cell_type": "code",
   "execution_count": 22,
   "id": "b443f7a7",
   "metadata": {},
   "outputs": [],
   "source": [
    "# encoding\n",
    "\n",
    "def encoding(excerpts):\n",
    "    input_ids = []\n",
    "    attention_mask = []\n",
    "\n",
    "    for excerpt in excerpts:\n",
    "        result = tokenizer.encode_plus(\n",
    "            excerpt,\n",
    "            add_special_tokens=True,\n",
    "            max_length=512,\n",
    "            pad_to_max_length=True,\n",
    "            return_attention_mask=True,\n",
    "            return_tensors='pt'\n",
    "        )\n",
    "\n",
    "        input_ids.append(result[\"input_ids\"])\n",
    "        attention_mask.append(result[\"attention_mask\"])\n",
    "        \n",
    "    input_ids = torch.cat(input_ids, dim=0)\n",
    "    attention_mask = torch.cat(attention_mask, dim=0)\n",
    "\n",
    "    return input_ids, attention_mask"
   ]
  },
  {
   "cell_type": "code",
   "execution_count": 23,
   "id": "105590e5",
   "metadata": {},
   "outputs": [
    {
     "name": "stderr",
     "output_type": "stream",
     "text": [
      "Truncation was not explicitly activated but `max_length` is provided a specific value, please use `truncation=True` to explicitly truncate examples to max length. Defaulting to 'longest_first' truncation strategy. If you encode pairs of sequences (GLUE-style) with the tokenizer you can select this strategy more precisely by providing a specific strategy to `truncation`.\n",
      "/home/koo/anaconda3/envs/commonLit/lib/python3.7/site-packages/transformers/tokenization_utils_base.py:2111: FutureWarning: The `pad_to_max_length` argument is deprecated and will be removed in a future version, use `padding=True` or `padding='longest'` to pad to the longest sequence in the batch, or use `padding='max_length'` to pad to a max length. In this case, you can give a specific length with `max_length` (e.g. `max_length=45`) or leave max_length to None to pad to the maximal input size of the model (e.g. 512 for Bert).\n",
      "  FutureWarning,\n"
     ]
    }
   ],
   "source": [
    "# tensor\n",
    "\n",
    "train_input_ids, train_attention_mask = encoding(train_X)\n",
    "train_label = torch.reshape(torch.tensor(train_y, dtype=torch.float32), (len(train_y), 1))\n",
    "\n",
    "test_input_ids, test_attention_mask = encoding(test_X)\n",
    "test_label = torch.reshape(torch.tensor(test_y, dtype=torch.float32), (len(test_y), 1))"
   ]
  },
  {
   "cell_type": "code",
   "execution_count": 24,
   "id": "349ee9b6",
   "metadata": {},
   "outputs": [],
   "source": [
    "# dataset\n",
    "from torch.utils.data import TensorDataset\n",
    "\n",
    "train_dataset = TensorDataset(train_input_ids, train_attention_mask, train_label)\n",
    "test_dataset = TensorDataset(test_input_ids, test_attention_mask, test_label)"
   ]
  },
  {
   "cell_type": "code",
   "execution_count": 25,
   "id": "c794fa4c",
   "metadata": {},
   "outputs": [],
   "source": [
    "# data loader\n",
    "from torch.utils.data import DataLoader\n",
    "\n",
    "batch_size = 4\n",
    "num_workers = 6 # roughly half of cpu cores\n",
    "\n",
    "train_dataloader = DataLoader(train_dataset, batch_size=batch_size, num_workers=num_workers)\n",
    "test_dataloader = DataLoader(test_dataset, batch_size=batch_size, num_workers=num_workers)"
   ]
  },
  {
   "cell_type": "code",
   "execution_count": 26,
   "id": "a6bb35f0",
   "metadata": {},
   "outputs": [],
   "source": [
    "# model\n",
    "import torch.nn as nn\n",
    "from transformers import BertModel\n",
    "\n",
    "class ReadebilityRegressionModel(nn.Module):\n",
    "    def __init__(self):\n",
    "        super().__init__()\n",
    "        self.bert = BertModel.from_pretrained('bert-base-uncased')\n",
    "        self.regression = nn.Sequential(\n",
    "            nn.Linear(768, 1),\n",
    "            nn.Dropout(0.2), \n",
    "            nn.ReLU()\n",
    "        )\n",
    "        \n",
    "    def forward(self, input_ids, attention_mask):\n",
    "        output = self.bert(input_ids=input_ids, attention_mask=attention_mask)\n",
    "        last_hidden_state_cls = output.last_hidden_state[:, 0]\n",
    "        logits = self.regression(last_hidden_state_cls)\n",
    "        return logits"
   ]
  },
  {
   "cell_type": "code",
   "execution_count": 27,
   "id": "ab6fc089",
   "metadata": {},
   "outputs": [
    {
     "name": "stderr",
     "output_type": "stream",
     "text": [
      "Some weights of the model checkpoint at bert-base-uncased were not used when initializing BertModel: ['cls.predictions.transform.LayerNorm.bias', 'cls.predictions.transform.LayerNorm.weight', 'cls.seq_relationship.bias', 'cls.predictions.bias', 'cls.predictions.decoder.weight', 'cls.predictions.transform.dense.bias', 'cls.predictions.transform.dense.weight', 'cls.seq_relationship.weight']\n",
      "- This IS expected if you are initializing BertModel from the checkpoint of a model trained on another task or with another architecture (e.g. initializing a BertForSequenceClassification model from a BertForPreTraining model).\n",
      "- This IS NOT expected if you are initializing BertModel from the checkpoint of a model that you expect to be exactly identical (initializing a BertForSequenceClassification model from a BertForSequenceClassification model).\n"
     ]
    }
   ],
   "source": [
    "# initialize model, optimizer, scheduler\n",
    "from transformers import AdamW, get_linear_schedule_with_warmup\n",
    "\n",
    "model = ReadebilityRegressionModel()\n",
    "model.to(\"cuda\")\n",
    "\n",
    "optimizer = AdamW(model.parameters())\n",
    "\n",
    "epochs = 5\n",
    "total_steps = len(train_dataloader) * epochs\n",
    "\n",
    "scheduler = get_linear_schedule_with_warmup(optimizer, num_warmup_steps=total_steps*0.05, num_training_steps=total_steps)"
   ]
  },
  {
   "cell_type": "code",
   "execution_count": 28,
   "id": "68b071d2",
   "metadata": {},
   "outputs": [],
   "source": [
    "# loss function\n",
    "\n",
    "class RMSELoss(torch.nn.Module):\n",
    "    def __init__(self):\n",
    "        super(RMSELoss,self).__init__()\n",
    "\n",
    "    def forward(self,x,y):\n",
    "        mse_loss = nn.MSELoss(reduction='sum')\n",
    "        eps = 1e-6\n",
    "        loss = torch.sqrt(mse_loss(x, y) + eps)\n",
    "        return loss"
   ]
  },
  {
   "cell_type": "code",
   "execution_count": 29,
   "id": "016586ee",
   "metadata": {},
   "outputs": [],
   "source": [
    "loss_fn = RMSELoss()"
   ]
  },
  {
   "cell_type": "code",
   "execution_count": 30,
   "id": "ef5bcdaa",
   "metadata": {},
   "outputs": [],
   "source": [
    "# training\n",
    "\n",
    "def train(model, train_dataloader, val_dataloader=None, epochs=5, verbose_step=10):\n",
    "    for i in range(epochs):\n",
    "        start_datetime = datetime.now()\n",
    "        print(\"Start : \", str(start_datetime))\n",
    "        print(f\"{'Epoch':^7} | {'Batch':^7} | {'Train Loss':^12} | {'Val Loss':^10} | {'Val Acc':^9} | {'Time':^9}\")\n",
    "        print(\"-\"*70)\n",
    "        \n",
    "        total_loss, batch_loss, batch_counts = 0, 0, 0\n",
    "        \n",
    "        model.train()\n",
    "        \n",
    "        for step, batch in enumerate(train_dataloader):\n",
    "            batch_counts += 1\n",
    "            input_ids_, attention_mask_, label_ = tuple(element.to(\"cuda\") for element in batch)\n",
    "            optimizer.zero_grad()\n",
    "            \n",
    "            logits = model(input_ids_, attention_mask_).float()\n",
    "            \n",
    "            loss = loss_fn(logits, label_)\n",
    "            batch_loss += loss.item()\n",
    "            total_loss += loss.item()\n",
    "            \n",
    "            loss.backward()\n",
    "            \n",
    "            # gradient clipping\n",
    "            # torch.nn.utils.clip_grad_norm_(model.parameters(), 1.0)\n",
    "            \n",
    "            optimizer.step()\n",
    "            scheduler.step()\n",
    "            \n",
    "            if step == 0 or step % verbose_step == 0 or step == len(train_dataloader) -1:\n",
    "                middle_datetime = datetime.now()\n",
    "                print(f\"{i + 1:^7} | {step:^7} | {batch_loss / batch_counts:^12.6f} | {'-':^10} | {'-':^9} | {middle_datetime}\")\n",
    "                \n",
    "                batch_loss, batch_count = 0, 0\n",
    "                \n",
    "        if val_dataloader:\n",
    "            middle_datetime = datetime.now()\n",
    "            avg_train_loss = total_loss / len(train_dataloader)\n",
    "            val_loss, val_accuracy = evaluate(model, val_dataloader)\n",
    "            \n",
    "            print(f\"{i + 1:^7} | {'-':^7} | {avg_train_loss:^12.6f}  {val_loss:^10.6f} | {val_accuracy:^9.2f} | {middle_datetime}\")\n",
    "            print(\"-\"*70)\n",
    "            print(\"\\n\")\n",
    "    \n",
    "    end = datetime.now()\n",
    "    print(\"Done : \", str(end))\n",
    "    print(\"Total time : \", str(end-start))\n",
    "    \n",
    "def evaluate(model, val_dataloader):\n",
    "    model.eval()\n",
    "    \n",
    "    val_accuracy = []\n",
    "    val_loss = []\n",
    "    \n",
    "    for batch in val_dataloader:\n",
    "        input_ids_, attention_mask_, label_ = tuple(element.to(\"cuda\") for element in batch)\n",
    "        \n",
    "        with torch.no_grad():\n",
    "            logits = model(input_ids_, attention_mask_)\n",
    "            \n",
    "        loss = loss_fn(logits, label_)\n",
    "        val_loss.append(loss.item())\n",
    "        \n",
    "        preds = torch.argmax(logits, dim=1).flatten()\n",
    "        accuracy = np.sqrt(np.mean(np.power((preds - label_).cpu().numpy(), 2)))\n",
    "        val_accuracy.append(accuracy)\n",
    "        \n",
    "    val_loss = np.mean(val_loss)\n",
    "    val_accuracy = np.mean(val_accuracy)\n",
    "    \n",
    "    return val_loss, val_accuracy"
   ]
  },
  {
   "cell_type": "code",
   "execution_count": null,
   "id": "a7f43952",
   "metadata": {},
   "outputs": [
    {
     "name": "stdout",
     "output_type": "stream",
     "text": [
      "Start :  2021-06-24 16:45:28.435873\n",
      " Epoch  |  Batch  |  Train Loss  |  Val Loss  |  Val Acc  |   Time   \n",
      "----------------------------------------------------------------------\n",
      "   1    |    0    |   2.054930   |     -      |     -     | 2021-06-24 16:45:29.078307\n",
      "   1    |   100   |   2.489528   |     -      |     -     | 2021-06-24 16:45:44.114672\n",
      "   1    |   200   |   1.299267   |     -      |     -     | 2021-06-24 16:45:59.125547\n",
      "   1    |   300   |   0.841167   |     -      |     -     | 2021-06-24 16:46:14.129171\n",
      "   1    |   400   |   0.658022   |     -      |     -     | 2021-06-24 16:46:29.134374\n",
      "   1    |   500   |   0.491364   |     -      |     -     | 2021-06-24 16:46:44.133756\n",
      "   1    |   600   |   0.433857   |     -      |     -     | 2021-06-24 16:46:59.154979\n",
      "   1    |   700   |   0.353234   |     -      |     -     | 2021-06-24 16:47:14.206933\n",
      "   1    |   800   |   0.329005   |     -      |     -     | 2021-06-24 16:47:29.265986\n",
      "   1    |   900   |   0.281975   |     -      |     -     | 2021-06-24 16:47:44.326578\n",
      "   1    |  1000   |   0.273971   |     -      |     -     | 2021-06-24 16:47:59.384521\n",
      "   1    |  1100   |   0.232667   |     -      |     -     | 2021-06-24 16:48:14.443174\n",
      "   1    |  1200   |   0.217527   |     -      |     -     | 2021-06-24 16:48:29.503773\n",
      "   1    |  1300   |   0.199571   |     -      |     -     | 2021-06-24 16:48:44.563745\n",
      "   1    |  1400   |   0.184150   |     -      |     -     | 2021-06-24 16:48:59.631293\n",
      "   1    |  1500   |   0.174438   |     -      |     -     | 2021-06-24 16:49:14.704324\n",
      "   1    |  1600   |   0.161297   |     -      |     -     | 2021-06-24 16:49:29.767455\n",
      "   1    |  1700   |   0.146376   |     -      |     -     | 2021-06-24 16:49:44.827793\n",
      "   1    |  1800   |   0.137449   |     -      |     -     | 2021-06-24 16:49:59.894866\n",
      "   1    |  1900   |   0.140401   |     -      |     -     | 2021-06-24 16:50:14.962041\n",
      "   1    |  2000   |   0.131524   |     -      |     -     | 2021-06-24 16:50:30.039784\n",
      "   1    |  2100   |   0.125695   |     -      |     -     | 2021-06-24 16:50:45.101330\n",
      "   1    |  2200   |   0.115136   |     -      |     -     | 2021-06-24 16:51:00.188930\n"
     ]
    }
   ],
   "source": [
    "train(model, train_dataloader, test_dataloader, epochs=10, verbose_step=100)"
   ]
  },
  {
   "cell_type": "markdown",
   "id": "1fc56fe5",
   "metadata": {},
   "source": [
    "## Experiment Point\n",
    "- Is that necessary target normalization?\n",
    "- HiperParameter & Model tuning\n",
    "    - augmentation : num_aug, alpha_sr, alpha_rd, alpha_ri, alpha_rs\n",
    "    - DataLoader : batch_size, num_workers\n",
    "    - Model : nn.Sequential(...)\n",
    "    - Initialization : epochs, total_steps, num_warmup_steps"
   ]
  },
  {
   "cell_type": "code",
   "execution_count": null,
   "id": "61818686",
   "metadata": {},
   "outputs": [],
   "source": [
    "# end\n",
    "notebook_end = datetime.now()\n",
    "print(\"Total Notebook Time : \", str(notebook_end - notebook_start))"
   ]
  },
  {
   "cell_type": "code",
   "execution_count": null,
   "id": "9212a3d4",
   "metadata": {},
   "outputs": [],
   "source": []
  }
 ],
 "metadata": {
  "kernelspec": {
   "display_name": "Python 3",
   "language": "python",
   "name": "python3"
  },
  "language_info": {
   "codemirror_mode": {
    "name": "ipython",
    "version": 3
   },
   "file_extension": ".py",
   "mimetype": "text/x-python",
   "name": "python",
   "nbconvert_exporter": "python",
   "pygments_lexer": "ipython3",
   "version": "3.7.10"
  }
 },
 "nbformat": 4,
 "nbformat_minor": 5
}
