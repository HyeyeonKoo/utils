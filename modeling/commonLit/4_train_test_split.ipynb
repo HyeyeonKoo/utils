{
 "cells": [
  {
   "cell_type": "code",
   "execution_count": 1,
   "id": "a7fb5b6c",
   "metadata": {},
   "outputs": [],
   "source": [
    "import pandas as pd"
   ]
  },
  {
   "cell_type": "code",
   "execution_count": 2,
   "id": "b38c63d4",
   "metadata": {},
   "outputs": [],
   "source": [
    "data = pd.read_csv(\"data/4_augmentation/aug_10_data.txt\", sep=\"\\t\", encoding=\"utf-8\")"
   ]
  },
  {
   "cell_type": "code",
   "execution_count": 3,
   "id": "4522f836",
   "metadata": {},
   "outputs": [
    {
     "data": {
      "text/html": [
       "<div>\n",
       "<style scoped>\n",
       "    .dataframe tbody tr th:only-of-type {\n",
       "        vertical-align: middle;\n",
       "    }\n",
       "\n",
       "    .dataframe tbody tr th {\n",
       "        vertical-align: top;\n",
       "    }\n",
       "\n",
       "    .dataframe thead th {\n",
       "        text-align: right;\n",
       "    }\n",
       "</style>\n",
       "<table border=\"1\" class=\"dataframe\">\n",
       "  <thead>\n",
       "    <tr style=\"text-align: right;\">\n",
       "      <th></th>\n",
       "      <th>id</th>\n",
       "      <th>excerpt</th>\n",
       "      <th>target</th>\n",
       "    </tr>\n",
       "  </thead>\n",
       "  <tbody>\n",
       "    <tr>\n",
       "      <th>0</th>\n",
       "      <td>c12129c31</td>\n",
       "      <td>when the young people returned to the ballroom...</td>\n",
       "      <td>-0.340259</td>\n",
       "    </tr>\n",
       "    <tr>\n",
       "      <th>1</th>\n",
       "      <td>c12129c31</td>\n",
       "      <td>when the young people returned to the ballroom...</td>\n",
       "      <td>-0.003837</td>\n",
       "    </tr>\n",
       "    <tr>\n",
       "      <th>2</th>\n",
       "      <td>c12129c31</td>\n",
       "      <td>when the young people returned to the ballroom...</td>\n",
       "      <td>-1.130945</td>\n",
       "    </tr>\n",
       "    <tr>\n",
       "      <th>3</th>\n",
       "      <td>c12129c31</td>\n",
       "      <td>when the young people returned to the ballroom...</td>\n",
       "      <td>0.058824</td>\n",
       "    </tr>\n",
       "    <tr>\n",
       "      <th>4</th>\n",
       "      <td>c12129c31</td>\n",
       "      <td>when the young people returned to the ballroom...</td>\n",
       "      <td>-0.797085</td>\n",
       "    </tr>\n",
       "  </tbody>\n",
       "</table>\n",
       "</div>"
      ],
      "text/plain": [
       "          id                                            excerpt    target\n",
       "0  c12129c31  when the young people returned to the ballroom... -0.340259\n",
       "1  c12129c31  when the young people returned to the ballroom... -0.003837\n",
       "2  c12129c31  when the young people returned to the ballroom... -1.130945\n",
       "3  c12129c31  when the young people returned to the ballroom...  0.058824\n",
       "4  c12129c31  when the young people returned to the ballroom... -0.797085"
      ]
     },
     "execution_count": 3,
     "metadata": {},
     "output_type": "execute_result"
    }
   ],
   "source": [
    "data.head()"
   ]
  },
  {
   "cell_type": "markdown",
   "id": "1561c981",
   "metadata": {},
   "source": [
    "- considering to use K-Fold teqnique\n",
    "- considering imbalance distribution of targets"
   ]
  },
  {
   "cell_type": "markdown",
   "id": "ad938f5e",
   "metadata": {},
   "source": [
    "## train, test set split by considering target distribution"
   ]
  },
  {
   "cell_type": "code",
   "execution_count": 8,
   "id": "bf629617",
   "metadata": {},
   "outputs": [],
   "source": [
    "import numpy as np"
   ]
  },
  {
   "cell_type": "code",
   "execution_count": 14,
   "id": "dbfc9d99",
   "metadata": {},
   "outputs": [
    {
     "data": {
      "text/plain": [
       "2833.0"
      ]
     },
     "execution_count": 14,
     "metadata": {},
     "output_type": "execute_result"
    }
   ],
   "source": [
    "len(data) * 0.2 / 2"
   ]
  },
  {
   "cell_type": "code",
   "execution_count": 10,
   "id": "5046d803",
   "metadata": {},
   "outputs": [
    {
     "name": "stdout",
     "output_type": "stream",
     "text": [
      "-4.799562916015862 2.94152088268007\n"
     ]
    }
   ],
   "source": [
    "min_ = np.min(data[\"target\"])\n",
    "max_ = np.max(data[\"target\"])\n",
    "print(min_, max_)"
   ]
  },
  {
   "cell_type": "code",
   "execution_count": 15,
   "id": "493b3fa3",
   "metadata": {},
   "outputs": [
    {
     "data": {
      "text/plain": [
       "array([-4.79956292, -4.79682948, -4.79409605, ...,  2.93605402,\n",
       "        2.93878745,  2.94152088])"
      ]
     },
     "execution_count": 15,
     "metadata": {},
     "output_type": "execute_result"
    }
   ],
   "source": [
    "np.linspace(min_, max_, 2833)"
   ]
  },
  {
   "cell_type": "code",
   "execution_count": null,
   "id": "cc1626cc",
   "metadata": {},
   "outputs": [],
   "source": []
  }
 ],
 "metadata": {
  "kernelspec": {
   "display_name": "Python 3",
   "language": "python",
   "name": "python3"
  },
  "language_info": {
   "codemirror_mode": {
    "name": "ipython",
    "version": 3
   },
   "file_extension": ".py",
   "mimetype": "text/x-python",
   "name": "python",
   "nbconvert_exporter": "python",
   "pygments_lexer": "ipython3",
   "version": "3.7.10"
  }
 },
 "nbformat": 4,
 "nbformat_minor": 5
}
